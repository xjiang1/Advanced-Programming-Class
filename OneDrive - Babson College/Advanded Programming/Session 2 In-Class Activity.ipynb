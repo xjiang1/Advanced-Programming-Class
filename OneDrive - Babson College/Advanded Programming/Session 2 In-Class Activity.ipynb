{
 "cells": [
  {
   "cell_type": "markdown",
   "id": "b0bfa605",
   "metadata": {},
   "source": [
    "#### Load the dataset"
   ]
  },
  {
   "cell_type": "code",
   "execution_count": 1,
   "id": "bfb4147e",
   "metadata": {},
   "outputs": [],
   "source": [
    "import pandas as pd\n",
    "\n",
    "df = pd.read_csv('C:/Users/yvonn/OneDrive - Babson College\\Advanded Programming/data/Wage.csv')"
   ]
  },
  {
   "cell_type": "markdown",
   "id": "f593be1e",
   "metadata": {},
   "source": [
    "#### Display the first 10 rows"
   ]
  },
  {
   "cell_type": "code",
   "execution_count": 2,
   "id": "fae57291",
   "metadata": {},
   "outputs": [
    {
     "data": {
      "text/html": [
       "<div>\n",
       "<style scoped>\n",
       "    .dataframe tbody tr th:only-of-type {\n",
       "        vertical-align: middle;\n",
       "    }\n",
       "\n",
       "    .dataframe tbody tr th {\n",
       "        vertical-align: top;\n",
       "    }\n",
       "\n",
       "    .dataframe thead th {\n",
       "        text-align: right;\n",
       "    }\n",
       "</style>\n",
       "<table border=\"1\" class=\"dataframe\">\n",
       "  <thead>\n",
       "    <tr style=\"text-align: right;\">\n",
       "      <th></th>\n",
       "      <th>year</th>\n",
       "      <th>age</th>\n",
       "      <th>maritl</th>\n",
       "      <th>race</th>\n",
       "      <th>education</th>\n",
       "      <th>region</th>\n",
       "      <th>jobclass</th>\n",
       "      <th>health</th>\n",
       "      <th>health_ins</th>\n",
       "      <th>logwage</th>\n",
       "      <th>wage</th>\n",
       "    </tr>\n",
       "  </thead>\n",
       "  <tbody>\n",
       "    <tr>\n",
       "      <th>0</th>\n",
       "      <td>2006</td>\n",
       "      <td>18</td>\n",
       "      <td>1. Never Married</td>\n",
       "      <td>1. White</td>\n",
       "      <td>1. &lt; HS Grad</td>\n",
       "      <td>2. Middle Atlantic</td>\n",
       "      <td>1. Industrial</td>\n",
       "      <td>1. &lt;=Good</td>\n",
       "      <td>2. No</td>\n",
       "      <td>4.318063</td>\n",
       "      <td>75.043154</td>\n",
       "    </tr>\n",
       "    <tr>\n",
       "      <th>1</th>\n",
       "      <td>2004</td>\n",
       "      <td>24</td>\n",
       "      <td>1. Never Married</td>\n",
       "      <td>1. White</td>\n",
       "      <td>4. College Grad</td>\n",
       "      <td>2. Middle Atlantic</td>\n",
       "      <td>2. Information</td>\n",
       "      <td>2. &gt;=Very Good</td>\n",
       "      <td>2. No</td>\n",
       "      <td>4.255273</td>\n",
       "      <td>70.476020</td>\n",
       "    </tr>\n",
       "    <tr>\n",
       "      <th>2</th>\n",
       "      <td>2003</td>\n",
       "      <td>45</td>\n",
       "      <td>2. Married</td>\n",
       "      <td>1. White</td>\n",
       "      <td>3. Some College</td>\n",
       "      <td>2. Middle Atlantic</td>\n",
       "      <td>1. Industrial</td>\n",
       "      <td>1. &lt;=Good</td>\n",
       "      <td>1. Yes</td>\n",
       "      <td>4.875061</td>\n",
       "      <td>130.982177</td>\n",
       "    </tr>\n",
       "    <tr>\n",
       "      <th>3</th>\n",
       "      <td>2003</td>\n",
       "      <td>43</td>\n",
       "      <td>2. Married</td>\n",
       "      <td>3. Asian</td>\n",
       "      <td>4. College Grad</td>\n",
       "      <td>2. Middle Atlantic</td>\n",
       "      <td>2. Information</td>\n",
       "      <td>2. &gt;=Very Good</td>\n",
       "      <td>1. Yes</td>\n",
       "      <td>5.041393</td>\n",
       "      <td>154.685293</td>\n",
       "    </tr>\n",
       "    <tr>\n",
       "      <th>4</th>\n",
       "      <td>2005</td>\n",
       "      <td>50</td>\n",
       "      <td>4. Divorced</td>\n",
       "      <td>1. White</td>\n",
       "      <td>2. HS Grad</td>\n",
       "      <td>2. Middle Atlantic</td>\n",
       "      <td>2. Information</td>\n",
       "      <td>1. &lt;=Good</td>\n",
       "      <td>1. Yes</td>\n",
       "      <td>4.318063</td>\n",
       "      <td>75.043154</td>\n",
       "    </tr>\n",
       "    <tr>\n",
       "      <th>5</th>\n",
       "      <td>2008</td>\n",
       "      <td>54</td>\n",
       "      <td>2. Married</td>\n",
       "      <td>1. White</td>\n",
       "      <td>4. College Grad</td>\n",
       "      <td>2. Middle Atlantic</td>\n",
       "      <td>2. Information</td>\n",
       "      <td>2. &gt;=Very Good</td>\n",
       "      <td>1. Yes</td>\n",
       "      <td>4.845098</td>\n",
       "      <td>127.115744</td>\n",
       "    </tr>\n",
       "    <tr>\n",
       "      <th>6</th>\n",
       "      <td>2009</td>\n",
       "      <td>44</td>\n",
       "      <td>2. Married</td>\n",
       "      <td>4. Other</td>\n",
       "      <td>3. Some College</td>\n",
       "      <td>2. Middle Atlantic</td>\n",
       "      <td>1. Industrial</td>\n",
       "      <td>2. &gt;=Very Good</td>\n",
       "      <td>1. Yes</td>\n",
       "      <td>5.133021</td>\n",
       "      <td>169.528538</td>\n",
       "    </tr>\n",
       "    <tr>\n",
       "      <th>7</th>\n",
       "      <td>2008</td>\n",
       "      <td>30</td>\n",
       "      <td>1. Never Married</td>\n",
       "      <td>3. Asian</td>\n",
       "      <td>3. Some College</td>\n",
       "      <td>2. Middle Atlantic</td>\n",
       "      <td>2. Information</td>\n",
       "      <td>1. &lt;=Good</td>\n",
       "      <td>1. Yes</td>\n",
       "      <td>4.716003</td>\n",
       "      <td>111.720849</td>\n",
       "    </tr>\n",
       "    <tr>\n",
       "      <th>8</th>\n",
       "      <td>2006</td>\n",
       "      <td>41</td>\n",
       "      <td>1. Never Married</td>\n",
       "      <td>2. Black</td>\n",
       "      <td>3. Some College</td>\n",
       "      <td>2. Middle Atlantic</td>\n",
       "      <td>2. Information</td>\n",
       "      <td>2. &gt;=Very Good</td>\n",
       "      <td>1. Yes</td>\n",
       "      <td>4.778151</td>\n",
       "      <td>118.884359</td>\n",
       "    </tr>\n",
       "    <tr>\n",
       "      <th>9</th>\n",
       "      <td>2004</td>\n",
       "      <td>52</td>\n",
       "      <td>2. Married</td>\n",
       "      <td>1. White</td>\n",
       "      <td>2. HS Grad</td>\n",
       "      <td>2. Middle Atlantic</td>\n",
       "      <td>2. Information</td>\n",
       "      <td>2. &gt;=Very Good</td>\n",
       "      <td>1. Yes</td>\n",
       "      <td>4.857332</td>\n",
       "      <td>128.680488</td>\n",
       "    </tr>\n",
       "  </tbody>\n",
       "</table>\n",
       "</div>"
      ],
      "text/plain": [
       "   year  age            maritl      race        education              region  \\\n",
       "0  2006   18  1. Never Married  1. White     1. < HS Grad  2. Middle Atlantic   \n",
       "1  2004   24  1. Never Married  1. White  4. College Grad  2. Middle Atlantic   \n",
       "2  2003   45        2. Married  1. White  3. Some College  2. Middle Atlantic   \n",
       "3  2003   43        2. Married  3. Asian  4. College Grad  2. Middle Atlantic   \n",
       "4  2005   50       4. Divorced  1. White       2. HS Grad  2. Middle Atlantic   \n",
       "5  2008   54        2. Married  1. White  4. College Grad  2. Middle Atlantic   \n",
       "6  2009   44        2. Married  4. Other  3. Some College  2. Middle Atlantic   \n",
       "7  2008   30  1. Never Married  3. Asian  3. Some College  2. Middle Atlantic   \n",
       "8  2006   41  1. Never Married  2. Black  3. Some College  2. Middle Atlantic   \n",
       "9  2004   52        2. Married  1. White       2. HS Grad  2. Middle Atlantic   \n",
       "\n",
       "         jobclass          health health_ins   logwage        wage  \n",
       "0   1. Industrial       1. <=Good      2. No  4.318063   75.043154  \n",
       "1  2. Information  2. >=Very Good      2. No  4.255273   70.476020  \n",
       "2   1. Industrial       1. <=Good     1. Yes  4.875061  130.982177  \n",
       "3  2. Information  2. >=Very Good     1. Yes  5.041393  154.685293  \n",
       "4  2. Information       1. <=Good     1. Yes  4.318063   75.043154  \n",
       "5  2. Information  2. >=Very Good     1. Yes  4.845098  127.115744  \n",
       "6   1. Industrial  2. >=Very Good     1. Yes  5.133021  169.528538  \n",
       "7  2. Information       1. <=Good     1. Yes  4.716003  111.720849  \n",
       "8  2. Information  2. >=Very Good     1. Yes  4.778151  118.884359  \n",
       "9  2. Information  2. >=Very Good     1. Yes  4.857332  128.680488  "
      ]
     },
     "execution_count": 2,
     "metadata": {},
     "output_type": "execute_result"
    }
   ],
   "source": [
    "df.head(10)"
   ]
  },
  {
   "cell_type": "markdown",
   "id": "dd08f076",
   "metadata": {},
   "source": [
    "#### Display the last 10 rows"
   ]
  },
  {
   "cell_type": "code",
   "execution_count": 3,
   "id": "7698e339",
   "metadata": {},
   "outputs": [
    {
     "data": {
      "text/html": [
       "<div>\n",
       "<style scoped>\n",
       "    .dataframe tbody tr th:only-of-type {\n",
       "        vertical-align: middle;\n",
       "    }\n",
       "\n",
       "    .dataframe tbody tr th {\n",
       "        vertical-align: top;\n",
       "    }\n",
       "\n",
       "    .dataframe thead th {\n",
       "        text-align: right;\n",
       "    }\n",
       "</style>\n",
       "<table border=\"1\" class=\"dataframe\">\n",
       "  <thead>\n",
       "    <tr style=\"text-align: right;\">\n",
       "      <th></th>\n",
       "      <th>year</th>\n",
       "      <th>age</th>\n",
       "      <th>maritl</th>\n",
       "      <th>race</th>\n",
       "      <th>education</th>\n",
       "      <th>region</th>\n",
       "      <th>jobclass</th>\n",
       "      <th>health</th>\n",
       "      <th>health_ins</th>\n",
       "      <th>logwage</th>\n",
       "      <th>wage</th>\n",
       "    </tr>\n",
       "  </thead>\n",
       "  <tbody>\n",
       "    <tr>\n",
       "      <th>2990</th>\n",
       "      <td>2009</td>\n",
       "      <td>50</td>\n",
       "      <td>2. Married</td>\n",
       "      <td>2. Black</td>\n",
       "      <td>2. HS Grad</td>\n",
       "      <td>2. Middle Atlantic</td>\n",
       "      <td>1. Industrial</td>\n",
       "      <td>2. &gt;=Very Good</td>\n",
       "      <td>2. No</td>\n",
       "      <td>4.886491</td>\n",
       "      <td>132.487821</td>\n",
       "    </tr>\n",
       "    <tr>\n",
       "      <th>2991</th>\n",
       "      <td>2003</td>\n",
       "      <td>26</td>\n",
       "      <td>1. Never Married</td>\n",
       "      <td>2. Black</td>\n",
       "      <td>3. Some College</td>\n",
       "      <td>2. Middle Atlantic</td>\n",
       "      <td>1. Industrial</td>\n",
       "      <td>2. &gt;=Very Good</td>\n",
       "      <td>2. No</td>\n",
       "      <td>4.778151</td>\n",
       "      <td>118.884359</td>\n",
       "    </tr>\n",
       "    <tr>\n",
       "      <th>2992</th>\n",
       "      <td>2007</td>\n",
       "      <td>35</td>\n",
       "      <td>2. Married</td>\n",
       "      <td>1. White</td>\n",
       "      <td>1. &lt; HS Grad</td>\n",
       "      <td>2. Middle Atlantic</td>\n",
       "      <td>1. Industrial</td>\n",
       "      <td>1. &lt;=Good</td>\n",
       "      <td>2. No</td>\n",
       "      <td>4.698970</td>\n",
       "      <td>109.833986</td>\n",
       "    </tr>\n",
       "    <tr>\n",
       "      <th>2993</th>\n",
       "      <td>2006</td>\n",
       "      <td>31</td>\n",
       "      <td>2. Married</td>\n",
       "      <td>1. White</td>\n",
       "      <td>2. HS Grad</td>\n",
       "      <td>2. Middle Atlantic</td>\n",
       "      <td>2. Information</td>\n",
       "      <td>2. &gt;=Very Good</td>\n",
       "      <td>1. Yes</td>\n",
       "      <td>4.633468</td>\n",
       "      <td>102.870247</td>\n",
       "    </tr>\n",
       "    <tr>\n",
       "      <th>2994</th>\n",
       "      <td>2009</td>\n",
       "      <td>31</td>\n",
       "      <td>2. Married</td>\n",
       "      <td>1. White</td>\n",
       "      <td>4. College Grad</td>\n",
       "      <td>2. Middle Atlantic</td>\n",
       "      <td>2. Information</td>\n",
       "      <td>2. &gt;=Very Good</td>\n",
       "      <td>1. Yes</td>\n",
       "      <td>4.893207</td>\n",
       "      <td>133.380608</td>\n",
       "    </tr>\n",
       "    <tr>\n",
       "      <th>2995</th>\n",
       "      <td>2008</td>\n",
       "      <td>44</td>\n",
       "      <td>2. Married</td>\n",
       "      <td>1. White</td>\n",
       "      <td>3. Some College</td>\n",
       "      <td>2. Middle Atlantic</td>\n",
       "      <td>1. Industrial</td>\n",
       "      <td>2. &gt;=Very Good</td>\n",
       "      <td>1. Yes</td>\n",
       "      <td>5.041393</td>\n",
       "      <td>154.685293</td>\n",
       "    </tr>\n",
       "    <tr>\n",
       "      <th>2996</th>\n",
       "      <td>2007</td>\n",
       "      <td>30</td>\n",
       "      <td>2. Married</td>\n",
       "      <td>1. White</td>\n",
       "      <td>2. HS Grad</td>\n",
       "      <td>2. Middle Atlantic</td>\n",
       "      <td>1. Industrial</td>\n",
       "      <td>2. &gt;=Very Good</td>\n",
       "      <td>2. No</td>\n",
       "      <td>4.602060</td>\n",
       "      <td>99.689464</td>\n",
       "    </tr>\n",
       "    <tr>\n",
       "      <th>2997</th>\n",
       "      <td>2005</td>\n",
       "      <td>27</td>\n",
       "      <td>2. Married</td>\n",
       "      <td>2. Black</td>\n",
       "      <td>1. &lt; HS Grad</td>\n",
       "      <td>2. Middle Atlantic</td>\n",
       "      <td>1. Industrial</td>\n",
       "      <td>1. &lt;=Good</td>\n",
       "      <td>2. No</td>\n",
       "      <td>4.193125</td>\n",
       "      <td>66.229408</td>\n",
       "    </tr>\n",
       "    <tr>\n",
       "      <th>2998</th>\n",
       "      <td>2005</td>\n",
       "      <td>27</td>\n",
       "      <td>1. Never Married</td>\n",
       "      <td>1. White</td>\n",
       "      <td>3. Some College</td>\n",
       "      <td>2. Middle Atlantic</td>\n",
       "      <td>1. Industrial</td>\n",
       "      <td>2. &gt;=Very Good</td>\n",
       "      <td>1. Yes</td>\n",
       "      <td>4.477121</td>\n",
       "      <td>87.981033</td>\n",
       "    </tr>\n",
       "    <tr>\n",
       "      <th>2999</th>\n",
       "      <td>2009</td>\n",
       "      <td>55</td>\n",
       "      <td>5. Separated</td>\n",
       "      <td>1. White</td>\n",
       "      <td>2. HS Grad</td>\n",
       "      <td>2. Middle Atlantic</td>\n",
       "      <td>1. Industrial</td>\n",
       "      <td>1. &lt;=Good</td>\n",
       "      <td>1. Yes</td>\n",
       "      <td>4.505150</td>\n",
       "      <td>90.481913</td>\n",
       "    </tr>\n",
       "  </tbody>\n",
       "</table>\n",
       "</div>"
      ],
      "text/plain": [
       "      year  age            maritl      race        education  \\\n",
       "2990  2009   50        2. Married  2. Black       2. HS Grad   \n",
       "2991  2003   26  1. Never Married  2. Black  3. Some College   \n",
       "2992  2007   35        2. Married  1. White     1. < HS Grad   \n",
       "2993  2006   31        2. Married  1. White       2. HS Grad   \n",
       "2994  2009   31        2. Married  1. White  4. College Grad   \n",
       "2995  2008   44        2. Married  1. White  3. Some College   \n",
       "2996  2007   30        2. Married  1. White       2. HS Grad   \n",
       "2997  2005   27        2. Married  2. Black     1. < HS Grad   \n",
       "2998  2005   27  1. Never Married  1. White  3. Some College   \n",
       "2999  2009   55      5. Separated  1. White       2. HS Grad   \n",
       "\n",
       "                  region        jobclass          health health_ins   logwage  \\\n",
       "2990  2. Middle Atlantic   1. Industrial  2. >=Very Good      2. No  4.886491   \n",
       "2991  2. Middle Atlantic   1. Industrial  2. >=Very Good      2. No  4.778151   \n",
       "2992  2. Middle Atlantic   1. Industrial       1. <=Good      2. No  4.698970   \n",
       "2993  2. Middle Atlantic  2. Information  2. >=Very Good     1. Yes  4.633468   \n",
       "2994  2. Middle Atlantic  2. Information  2. >=Very Good     1. Yes  4.893207   \n",
       "2995  2. Middle Atlantic   1. Industrial  2. >=Very Good     1. Yes  5.041393   \n",
       "2996  2. Middle Atlantic   1. Industrial  2. >=Very Good      2. No  4.602060   \n",
       "2997  2. Middle Atlantic   1. Industrial       1. <=Good      2. No  4.193125   \n",
       "2998  2. Middle Atlantic   1. Industrial  2. >=Very Good     1. Yes  4.477121   \n",
       "2999  2. Middle Atlantic   1. Industrial       1. <=Good     1. Yes  4.505150   \n",
       "\n",
       "            wage  \n",
       "2990  132.487821  \n",
       "2991  118.884359  \n",
       "2992  109.833986  \n",
       "2993  102.870247  \n",
       "2994  133.380608  \n",
       "2995  154.685293  \n",
       "2996   99.689464  \n",
       "2997   66.229408  \n",
       "2998   87.981033  \n",
       "2999   90.481913  "
      ]
     },
     "execution_count": 3,
     "metadata": {},
     "output_type": "execute_result"
    }
   ],
   "source": [
    "df.tail(10)"
   ]
  },
  {
   "cell_type": "markdown",
   "id": "e7c3040e",
   "metadata": {},
   "source": [
    "#### How many rows are in the DataFrame"
   ]
  },
  {
   "cell_type": "code",
   "execution_count": 4,
   "id": "84a160cb",
   "metadata": {},
   "outputs": [
    {
     "data": {
      "text/plain": [
       "3000"
      ]
     },
     "execution_count": 4,
     "metadata": {},
     "output_type": "execute_result"
    }
   ],
   "source": [
    "df.shape[0]"
   ]
  },
  {
   "cell_type": "markdown",
   "id": "d51b5ab5",
   "metadata": {},
   "source": [
    "#### Display metadata for the DataFrame"
   ]
  },
  {
   "cell_type": "code",
   "execution_count": 5,
   "id": "fe99da0b",
   "metadata": {},
   "outputs": [
    {
     "name": "stdout",
     "output_type": "stream",
     "text": [
      "<class 'pandas.core.frame.DataFrame'>\n",
      "RangeIndex: 3000 entries, 0 to 2999\n",
      "Data columns (total 11 columns):\n",
      " #   Column      Non-Null Count  Dtype  \n",
      "---  ------      --------------  -----  \n",
      " 0   year        3000 non-null   int64  \n",
      " 1   age         3000 non-null   int64  \n",
      " 2   maritl      3000 non-null   object \n",
      " 3   race        3000 non-null   object \n",
      " 4   education   3000 non-null   object \n",
      " 5   region      3000 non-null   object \n",
      " 6   jobclass    3000 non-null   object \n",
      " 7   health      3000 non-null   object \n",
      " 8   health_ins  3000 non-null   object \n",
      " 9   logwage     3000 non-null   float64\n",
      " 10  wage        3000 non-null   float64\n",
      "dtypes: float64(2), int64(2), object(7)\n",
      "memory usage: 257.9+ KB\n"
     ]
    }
   ],
   "source": [
    "df.info()"
   ]
  },
  {
   "cell_type": "markdown",
   "id": "b6c5ce47",
   "metadata": {},
   "source": [
    "#### Display the data types for two columns from the dataset"
   ]
  },
  {
   "cell_type": "code",
   "execution_count": 6,
   "id": "9b5d361e",
   "metadata": {},
   "outputs": [
    {
     "name": "stdout",
     "output_type": "stream",
     "text": [
      "int64\n",
      "int64\n"
     ]
    }
   ],
   "source": [
    "print(df.dtypes[0])\n",
    "print(df.dtypes[1])"
   ]
  },
  {
   "cell_type": "markdown",
   "id": "307b85f5",
   "metadata": {},
   "source": [
    "#### Display the column names from the dataset"
   ]
  },
  {
   "cell_type": "code",
   "execution_count": 7,
   "id": "bac464ab",
   "metadata": {},
   "outputs": [
    {
     "data": {
      "text/plain": [
       "Index(['year', 'age', 'maritl', 'race', 'education', 'region', 'jobclass',\n",
       "       'health', 'health_ins', 'logwage', 'wage'],\n",
       "      dtype='object')"
      ]
     },
     "execution_count": 7,
     "metadata": {},
     "output_type": "execute_result"
    }
   ],
   "source": [
    "df.columns"
   ]
  },
  {
   "cell_type": "markdown",
   "id": "07df4cc1",
   "metadata": {},
   "source": [
    "#### Display the DataFrame’s index"
   ]
  },
  {
   "cell_type": "code",
   "execution_count": 8,
   "id": "aca76a61",
   "metadata": {},
   "outputs": [
    {
     "data": {
      "text/plain": [
       "RangeIndex(start=0, stop=3000, step=1)"
      ]
     },
     "execution_count": 8,
     "metadata": {},
     "output_type": "execute_result"
    }
   ],
   "source": [
    "df.index"
   ]
  },
  {
   "cell_type": "markdown",
   "id": "0029451c",
   "metadata": {},
   "source": [
    "#### How many individual elements are in the DataFrame?"
   ]
  },
  {
   "cell_type": "code",
   "execution_count": 9,
   "id": "d6468676",
   "metadata": {},
   "outputs": [
    {
     "data": {
      "text/plain": [
       "year  age  maritl            race      education           region              jobclass        health          health_ins  logwage   wage      \n",
       "2007  46   2. Married        1. White  5. Advanced Degree  2. Middle Atlantic  2. Information  2. >=Very Good  1. Yes      5.641006  281.745971    2\n",
       "2004  38   2. Married        1. White  5. Advanced Degree  2. Middle Atlantic  2. Information  2. >=Very Good  1. Yes      5.000000  148.413159    2\n",
       "2003  50   2. Married        1. White  5. Advanced Degree  2. Middle Atlantic  2. Information  2. >=Very Good  1. Yes      4.903090  134.705375    2\n",
       "      18   1. Never Married  2. Black  2. HS Grad          2. Middle Atlantic  1. Industrial   2. >=Very Good  1. Yes      4.255273  70.476020     1\n",
       "2007  41   2. Married        1. White  2. HS Grad          2. Middle Atlantic  2. Information  2. >=Very Good  1. Yes      4.973128  144.478088    1\n",
       "                                                                                                                                                  ..\n",
       "2005  22   1. Never Married  1. White  2. HS Grad          2. Middle Atlantic  2. Information  1. <=Good       2. No       4.318063  75.043154     1\n",
       "                                       3. Some College     2. Middle Atlantic  1. Industrial   2. >=Very Good  2. No       4.146128  63.188861     1\n",
       "                                                                               2. Information  2. >=Very Good  1. Yes      4.301030  73.775743     1\n",
       "                                       4. College Grad     2. Middle Atlantic  2. Information  2. >=Very Good  1. Yes      4.544068  94.072715     1\n",
       "2009  76   4. Divorced       1. White  5. Advanced Degree  2. Middle Atlantic  2. Information  2. >=Very Good  1. Yes      5.176091  176.989650    1\n",
       "Length: 2997, dtype: int64"
      ]
     },
     "execution_count": 9,
     "metadata": {},
     "output_type": "execute_result"
    }
   ],
   "source": [
    "df.value_counts()"
   ]
  },
  {
   "cell_type": "markdown",
   "id": "da67c746",
   "metadata": {},
   "source": [
    "#### How many columns and rows are there?"
   ]
  },
  {
   "cell_type": "code",
   "execution_count": 10,
   "id": "0ca4c3fb",
   "metadata": {},
   "outputs": [
    {
     "data": {
      "text/plain": [
       "(3000, 11)"
      ]
     },
     "execution_count": 10,
     "metadata": {},
     "output_type": "execute_result"
    }
   ],
   "source": [
    "df.shape"
   ]
  },
  {
   "cell_type": "markdown",
   "id": "d64b0077",
   "metadata": {},
   "source": [
    "#### Display descriptive statistics for the wage column, and the age column"
   ]
  },
  {
   "cell_type": "code",
   "execution_count": 11,
   "id": "14c4e2c0",
   "metadata": {},
   "outputs": [
    {
     "data": {
      "text/html": [
       "<div>\n",
       "<style scoped>\n",
       "    .dataframe tbody tr th:only-of-type {\n",
       "        vertical-align: middle;\n",
       "    }\n",
       "\n",
       "    .dataframe tbody tr th {\n",
       "        vertical-align: top;\n",
       "    }\n",
       "\n",
       "    .dataframe thead th {\n",
       "        text-align: right;\n",
       "    }\n",
       "</style>\n",
       "<table border=\"1\" class=\"dataframe\">\n",
       "  <thead>\n",
       "    <tr style=\"text-align: right;\">\n",
       "      <th></th>\n",
       "      <th>wage</th>\n",
       "      <th>age</th>\n",
       "    </tr>\n",
       "  </thead>\n",
       "  <tbody>\n",
       "    <tr>\n",
       "      <th>count</th>\n",
       "      <td>3000.000000</td>\n",
       "      <td>3000.000000</td>\n",
       "    </tr>\n",
       "    <tr>\n",
       "      <th>mean</th>\n",
       "      <td>111.703608</td>\n",
       "      <td>42.414667</td>\n",
       "    </tr>\n",
       "    <tr>\n",
       "      <th>std</th>\n",
       "      <td>41.728595</td>\n",
       "      <td>11.542406</td>\n",
       "    </tr>\n",
       "    <tr>\n",
       "      <th>min</th>\n",
       "      <td>20.085537</td>\n",
       "      <td>18.000000</td>\n",
       "    </tr>\n",
       "    <tr>\n",
       "      <th>25%</th>\n",
       "      <td>85.383940</td>\n",
       "      <td>33.750000</td>\n",
       "    </tr>\n",
       "    <tr>\n",
       "      <th>50%</th>\n",
       "      <td>104.921507</td>\n",
       "      <td>42.000000</td>\n",
       "    </tr>\n",
       "    <tr>\n",
       "      <th>75%</th>\n",
       "      <td>128.680488</td>\n",
       "      <td>51.000000</td>\n",
       "    </tr>\n",
       "    <tr>\n",
       "      <th>max</th>\n",
       "      <td>318.342430</td>\n",
       "      <td>80.000000</td>\n",
       "    </tr>\n",
       "  </tbody>\n",
       "</table>\n",
       "</div>"
      ],
      "text/plain": [
       "              wage          age\n",
       "count  3000.000000  3000.000000\n",
       "mean    111.703608    42.414667\n",
       "std      41.728595    11.542406\n",
       "min      20.085537    18.000000\n",
       "25%      85.383940    33.750000\n",
       "50%     104.921507    42.000000\n",
       "75%     128.680488    51.000000\n",
       "max     318.342430    80.000000"
      ]
     },
     "execution_count": 11,
     "metadata": {},
     "output_type": "execute_result"
    }
   ],
   "source": [
    "df[['wage','age']].describe()"
   ]
  },
  {
   "cell_type": "markdown",
   "id": "5850cd27",
   "metadata": {},
   "source": [
    "#### Display descriptive statistics for the wage and age columns, by each race"
   ]
  },
  {
   "cell_type": "code",
   "execution_count": 12,
   "id": "da24c23c",
   "metadata": {},
   "outputs": [
    {
     "data": {
      "text/html": [
       "<div>\n",
       "<style scoped>\n",
       "    .dataframe tbody tr th:only-of-type {\n",
       "        vertical-align: middle;\n",
       "    }\n",
       "\n",
       "    .dataframe tbody tr th {\n",
       "        vertical-align: top;\n",
       "    }\n",
       "\n",
       "    .dataframe thead tr th {\n",
       "        text-align: left;\n",
       "    }\n",
       "\n",
       "    .dataframe thead tr:last-of-type th {\n",
       "        text-align: right;\n",
       "    }\n",
       "</style>\n",
       "<table border=\"1\" class=\"dataframe\">\n",
       "  <thead>\n",
       "    <tr>\n",
       "      <th></th>\n",
       "      <th colspan=\"8\" halign=\"left\">wage</th>\n",
       "      <th colspan=\"8\" halign=\"left\">age</th>\n",
       "    </tr>\n",
       "    <tr>\n",
       "      <th></th>\n",
       "      <th>count</th>\n",
       "      <th>mean</th>\n",
       "      <th>std</th>\n",
       "      <th>min</th>\n",
       "      <th>25%</th>\n",
       "      <th>50%</th>\n",
       "      <th>75%</th>\n",
       "      <th>max</th>\n",
       "      <th>count</th>\n",
       "      <th>mean</th>\n",
       "      <th>std</th>\n",
       "      <th>min</th>\n",
       "      <th>25%</th>\n",
       "      <th>50%</th>\n",
       "      <th>75%</th>\n",
       "      <th>max</th>\n",
       "    </tr>\n",
       "    <tr>\n",
       "      <th>race</th>\n",
       "      <th></th>\n",
       "      <th></th>\n",
       "      <th></th>\n",
       "      <th></th>\n",
       "      <th></th>\n",
       "      <th></th>\n",
       "      <th></th>\n",
       "      <th></th>\n",
       "      <th></th>\n",
       "      <th></th>\n",
       "      <th></th>\n",
       "      <th></th>\n",
       "      <th></th>\n",
       "      <th></th>\n",
       "      <th></th>\n",
       "      <th></th>\n",
       "    </tr>\n",
       "  </thead>\n",
       "  <tbody>\n",
       "    <tr>\n",
       "      <th>1. White</th>\n",
       "      <td>2480.0</td>\n",
       "      <td>112.563666</td>\n",
       "      <td>41.733830</td>\n",
       "      <td>20.085537</td>\n",
       "      <td>86.695155</td>\n",
       "      <td>106.348256</td>\n",
       "      <td>130.042934</td>\n",
       "      <td>314.329336</td>\n",
       "      <td>2480.0</td>\n",
       "      <td>42.394758</td>\n",
       "      <td>11.365655</td>\n",
       "      <td>18.0</td>\n",
       "      <td>34.00</td>\n",
       "      <td>42.0</td>\n",
       "      <td>51.0</td>\n",
       "      <td>80.0</td>\n",
       "    </tr>\n",
       "    <tr>\n",
       "      <th>2. Black</th>\n",
       "      <td>293.0</td>\n",
       "      <td>101.601177</td>\n",
       "      <td>37.162486</td>\n",
       "      <td>23.274704</td>\n",
       "      <td>81.283253</td>\n",
       "      <td>94.072715</td>\n",
       "      <td>117.146817</td>\n",
       "      <td>318.342430</td>\n",
       "      <td>293.0</td>\n",
       "      <td>43.563140</td>\n",
       "      <td>13.012913</td>\n",
       "      <td>18.0</td>\n",
       "      <td>33.00</td>\n",
       "      <td>44.0</td>\n",
       "      <td>52.0</td>\n",
       "      <td>75.0</td>\n",
       "    </tr>\n",
       "    <tr>\n",
       "      <th>3. Asian</th>\n",
       "      <td>190.0</td>\n",
       "      <td>120.288288</td>\n",
       "      <td>46.422514</td>\n",
       "      <td>34.607418</td>\n",
       "      <td>87.981033</td>\n",
       "      <td>115.375039</td>\n",
       "      <td>144.828129</td>\n",
       "      <td>299.262977</td>\n",
       "      <td>190.0</td>\n",
       "      <td>41.821053</td>\n",
       "      <td>11.218823</td>\n",
       "      <td>22.0</td>\n",
       "      <td>32.25</td>\n",
       "      <td>40.0</td>\n",
       "      <td>50.0</td>\n",
       "      <td>76.0</td>\n",
       "    </tr>\n",
       "    <tr>\n",
       "      <th>4. Other</th>\n",
       "      <td>37.0</td>\n",
       "      <td>89.973326</td>\n",
       "      <td>29.153530</td>\n",
       "      <td>38.223583</td>\n",
       "      <td>71.319639</td>\n",
       "      <td>81.283253</td>\n",
       "      <td>104.921507</td>\n",
       "      <td>169.528538</td>\n",
       "      <td>37.0</td>\n",
       "      <td>37.702703</td>\n",
       "      <td>11.553895</td>\n",
       "      <td>21.0</td>\n",
       "      <td>28.00</td>\n",
       "      <td>39.0</td>\n",
       "      <td>47.0</td>\n",
       "      <td>65.0</td>\n",
       "    </tr>\n",
       "  </tbody>\n",
       "</table>\n",
       "</div>"
      ],
      "text/plain": [
       "            wage                                                           \\\n",
       "           count        mean        std        min        25%         50%   \n",
       "race                                                                        \n",
       "1. White  2480.0  112.563666  41.733830  20.085537  86.695155  106.348256   \n",
       "2. Black   293.0  101.601177  37.162486  23.274704  81.283253   94.072715   \n",
       "3. Asian   190.0  120.288288  46.422514  34.607418  87.981033  115.375039   \n",
       "4. Other    37.0   89.973326  29.153530  38.223583  71.319639   81.283253   \n",
       "\n",
       "                                     age                                     \\\n",
       "                 75%         max   count       mean        std   min    25%   \n",
       "race                                                                          \n",
       "1. White  130.042934  314.329336  2480.0  42.394758  11.365655  18.0  34.00   \n",
       "2. Black  117.146817  318.342430   293.0  43.563140  13.012913  18.0  33.00   \n",
       "3. Asian  144.828129  299.262977   190.0  41.821053  11.218823  22.0  32.25   \n",
       "4. Other  104.921507  169.528538    37.0  37.702703  11.553895  21.0  28.00   \n",
       "\n",
       "                            \n",
       "           50%   75%   max  \n",
       "race                        \n",
       "1. White  42.0  51.0  80.0  \n",
       "2. Black  44.0  52.0  75.0  \n",
       "3. Asian  40.0  50.0  76.0  \n",
       "4. Other  39.0  47.0  65.0  "
      ]
     },
     "execution_count": 12,
     "metadata": {},
     "output_type": "execute_result"
    }
   ],
   "source": [
    "df.groupby('race')[['wage','age']].describe()"
   ]
  },
  {
   "cell_type": "markdown",
   "id": "c95bd49d",
   "metadata": {},
   "source": [
    "#### What do the mean and median values of wage tell us about the data?"
   ]
  },
  {
   "cell_type": "code",
   "execution_count": 13,
   "id": "6a5b9e37",
   "metadata": {},
   "outputs": [],
   "source": [
    "# Mean is about 111.7 and median is about 104.9. The fact that mean is larger than median shows that the wage data is right-skewed"
   ]
  },
  {
   "cell_type": "markdown",
   "id": "2ded07d9",
   "metadata": {},
   "source": [
    "#### Display the age and wage columns only"
   ]
  },
  {
   "cell_type": "code",
   "execution_count": 14,
   "id": "7939ae11",
   "metadata": {},
   "outputs": [
    {
     "data": {
      "text/html": [
       "<div>\n",
       "<style scoped>\n",
       "    .dataframe tbody tr th:only-of-type {\n",
       "        vertical-align: middle;\n",
       "    }\n",
       "\n",
       "    .dataframe tbody tr th {\n",
       "        vertical-align: top;\n",
       "    }\n",
       "\n",
       "    .dataframe thead th {\n",
       "        text-align: right;\n",
       "    }\n",
       "</style>\n",
       "<table border=\"1\" class=\"dataframe\">\n",
       "  <thead>\n",
       "    <tr style=\"text-align: right;\">\n",
       "      <th></th>\n",
       "      <th>wage</th>\n",
       "      <th>age</th>\n",
       "    </tr>\n",
       "  </thead>\n",
       "  <tbody>\n",
       "    <tr>\n",
       "      <th>0</th>\n",
       "      <td>75.043154</td>\n",
       "      <td>18</td>\n",
       "    </tr>\n",
       "    <tr>\n",
       "      <th>1</th>\n",
       "      <td>70.476020</td>\n",
       "      <td>24</td>\n",
       "    </tr>\n",
       "    <tr>\n",
       "      <th>2</th>\n",
       "      <td>130.982177</td>\n",
       "      <td>45</td>\n",
       "    </tr>\n",
       "    <tr>\n",
       "      <th>3</th>\n",
       "      <td>154.685293</td>\n",
       "      <td>43</td>\n",
       "    </tr>\n",
       "    <tr>\n",
       "      <th>4</th>\n",
       "      <td>75.043154</td>\n",
       "      <td>50</td>\n",
       "    </tr>\n",
       "    <tr>\n",
       "      <th>...</th>\n",
       "      <td>...</td>\n",
       "      <td>...</td>\n",
       "    </tr>\n",
       "    <tr>\n",
       "      <th>2995</th>\n",
       "      <td>154.685293</td>\n",
       "      <td>44</td>\n",
       "    </tr>\n",
       "    <tr>\n",
       "      <th>2996</th>\n",
       "      <td>99.689464</td>\n",
       "      <td>30</td>\n",
       "    </tr>\n",
       "    <tr>\n",
       "      <th>2997</th>\n",
       "      <td>66.229408</td>\n",
       "      <td>27</td>\n",
       "    </tr>\n",
       "    <tr>\n",
       "      <th>2998</th>\n",
       "      <td>87.981033</td>\n",
       "      <td>27</td>\n",
       "    </tr>\n",
       "    <tr>\n",
       "      <th>2999</th>\n",
       "      <td>90.481913</td>\n",
       "      <td>55</td>\n",
       "    </tr>\n",
       "  </tbody>\n",
       "</table>\n",
       "<p>3000 rows × 2 columns</p>\n",
       "</div>"
      ],
      "text/plain": [
       "            wage  age\n",
       "0      75.043154   18\n",
       "1      70.476020   24\n",
       "2     130.982177   45\n",
       "3     154.685293   43\n",
       "4      75.043154   50\n",
       "...          ...  ...\n",
       "2995  154.685293   44\n",
       "2996   99.689464   30\n",
       "2997   66.229408   27\n",
       "2998   87.981033   27\n",
       "2999   90.481913   55\n",
       "\n",
       "[3000 rows x 2 columns]"
      ]
     },
     "execution_count": 14,
     "metadata": {},
     "output_type": "execute_result"
    }
   ],
   "source": [
    "df[['wage','age']]"
   ]
  },
  {
   "cell_type": "markdown",
   "id": "42d3efb9",
   "metadata": {},
   "source": [
    "#### Are these two columns correlated?"
   ]
  },
  {
   "cell_type": "code",
   "execution_count": 15,
   "id": "c54ff553",
   "metadata": {},
   "outputs": [
    {
     "data": {
      "text/plain": [
       "0.19563720156358871"
      ]
     },
     "execution_count": 15,
     "metadata": {},
     "output_type": "execute_result"
    }
   ],
   "source": [
    "df['wage'].corr(df['age'])\n",
    "# based on the result, these two columns dont have strong correlation"
   ]
  },
  {
   "cell_type": "markdown",
   "id": "e6d5d343",
   "metadata": {},
   "source": [
    "#### Display the top 10 salaries"
   ]
  },
  {
   "cell_type": "code",
   "execution_count": 16,
   "id": "a445896b",
   "metadata": {},
   "outputs": [
    {
     "data": {
      "text/html": [
       "<div>\n",
       "<style scoped>\n",
       "    .dataframe tbody tr th:only-of-type {\n",
       "        vertical-align: middle;\n",
       "    }\n",
       "\n",
       "    .dataframe tbody tr th {\n",
       "        vertical-align: top;\n",
       "    }\n",
       "\n",
       "    .dataframe thead th {\n",
       "        text-align: right;\n",
       "    }\n",
       "</style>\n",
       "<table border=\"1\" class=\"dataframe\">\n",
       "  <thead>\n",
       "    <tr style=\"text-align: right;\">\n",
       "      <th></th>\n",
       "      <th>year</th>\n",
       "      <th>age</th>\n",
       "      <th>maritl</th>\n",
       "      <th>race</th>\n",
       "      <th>education</th>\n",
       "      <th>region</th>\n",
       "      <th>jobclass</th>\n",
       "      <th>health</th>\n",
       "      <th>health_ins</th>\n",
       "      <th>logwage</th>\n",
       "      <th>wage</th>\n",
       "    </tr>\n",
       "  </thead>\n",
       "  <tbody>\n",
       "    <tr>\n",
       "      <th>206</th>\n",
       "      <td>2007</td>\n",
       "      <td>63</td>\n",
       "      <td>2. Married</td>\n",
       "      <td>2. Black</td>\n",
       "      <td>5. Advanced Degree</td>\n",
       "      <td>2. Middle Atlantic</td>\n",
       "      <td>2. Information</td>\n",
       "      <td>2. &gt;=Very Good</td>\n",
       "      <td>1. Yes</td>\n",
       "      <td>5.763128</td>\n",
       "      <td>318.342430</td>\n",
       "    </tr>\n",
       "    <tr>\n",
       "      <th>1229</th>\n",
       "      <td>2007</td>\n",
       "      <td>46</td>\n",
       "      <td>2. Married</td>\n",
       "      <td>2. Black</td>\n",
       "      <td>2. HS Grad</td>\n",
       "      <td>2. Middle Atlantic</td>\n",
       "      <td>2. Information</td>\n",
       "      <td>2. &gt;=Very Good</td>\n",
       "      <td>1. Yes</td>\n",
       "      <td>5.763128</td>\n",
       "      <td>318.342430</td>\n",
       "    </tr>\n",
       "    <tr>\n",
       "      <th>503</th>\n",
       "      <td>2003</td>\n",
       "      <td>38</td>\n",
       "      <td>1. Never Married</td>\n",
       "      <td>1. White</td>\n",
       "      <td>3. Some College</td>\n",
       "      <td>2. Middle Atlantic</td>\n",
       "      <td>2. Information</td>\n",
       "      <td>2. &gt;=Very Good</td>\n",
       "      <td>1. Yes</td>\n",
       "      <td>5.750441</td>\n",
       "      <td>314.329336</td>\n",
       "    </tr>\n",
       "    <tr>\n",
       "      <th>1293</th>\n",
       "      <td>2009</td>\n",
       "      <td>38</td>\n",
       "      <td>2. Married</td>\n",
       "      <td>2. Black</td>\n",
       "      <td>2. HS Grad</td>\n",
       "      <td>2. Middle Atlantic</td>\n",
       "      <td>2. Information</td>\n",
       "      <td>1. &lt;=Good</td>\n",
       "      <td>1. Yes</td>\n",
       "      <td>5.742793</td>\n",
       "      <td>311.934569</td>\n",
       "    </tr>\n",
       "    <tr>\n",
       "      <th>2712</th>\n",
       "      <td>2006</td>\n",
       "      <td>58</td>\n",
       "      <td>2. Married</td>\n",
       "      <td>2. Black</td>\n",
       "      <td>3. Some College</td>\n",
       "      <td>2. Middle Atlantic</td>\n",
       "      <td>2. Information</td>\n",
       "      <td>1. &lt;=Good</td>\n",
       "      <td>2. No</td>\n",
       "      <td>5.735190</td>\n",
       "      <td>309.571771</td>\n",
       "    </tr>\n",
       "    <tr>\n",
       "      <th>1112</th>\n",
       "      <td>2006</td>\n",
       "      <td>34</td>\n",
       "      <td>1. Never Married</td>\n",
       "      <td>2. Black</td>\n",
       "      <td>5. Advanced Degree</td>\n",
       "      <td>2. Middle Atlantic</td>\n",
       "      <td>2. Information</td>\n",
       "      <td>2. &gt;=Very Good</td>\n",
       "      <td>1. Yes</td>\n",
       "      <td>5.735190</td>\n",
       "      <td>309.571771</td>\n",
       "    </tr>\n",
       "    <tr>\n",
       "      <th>2893</th>\n",
       "      <td>2003</td>\n",
       "      <td>40</td>\n",
       "      <td>2. Married</td>\n",
       "      <td>3. Asian</td>\n",
       "      <td>5. Advanced Degree</td>\n",
       "      <td>2. Middle Atlantic</td>\n",
       "      <td>2. Information</td>\n",
       "      <td>2. &gt;=Very Good</td>\n",
       "      <td>1. Yes</td>\n",
       "      <td>5.701323</td>\n",
       "      <td>299.262977</td>\n",
       "    </tr>\n",
       "    <tr>\n",
       "      <th>2925</th>\n",
       "      <td>2005</td>\n",
       "      <td>39</td>\n",
       "      <td>2. Married</td>\n",
       "      <td>1. White</td>\n",
       "      <td>2. HS Grad</td>\n",
       "      <td>2. Middle Atlantic</td>\n",
       "      <td>1. Industrial</td>\n",
       "      <td>2. &gt;=Very Good</td>\n",
       "      <td>2. No</td>\n",
       "      <td>5.690330</td>\n",
       "      <td>295.991250</td>\n",
       "    </tr>\n",
       "    <tr>\n",
       "      <th>489</th>\n",
       "      <td>2007</td>\n",
       "      <td>41</td>\n",
       "      <td>2. Married</td>\n",
       "      <td>1. White</td>\n",
       "      <td>5. Advanced Degree</td>\n",
       "      <td>2. Middle Atlantic</td>\n",
       "      <td>2. Information</td>\n",
       "      <td>2. &gt;=Very Good</td>\n",
       "      <td>1. Yes</td>\n",
       "      <td>5.650820</td>\n",
       "      <td>284.524741</td>\n",
       "    </tr>\n",
       "    <tr>\n",
       "      <th>347</th>\n",
       "      <td>2007</td>\n",
       "      <td>43</td>\n",
       "      <td>2. Married</td>\n",
       "      <td>1. White</td>\n",
       "      <td>5. Advanced Degree</td>\n",
       "      <td>2. Middle Atlantic</td>\n",
       "      <td>2. Information</td>\n",
       "      <td>2. &gt;=Very Good</td>\n",
       "      <td>1. Yes</td>\n",
       "      <td>5.641006</td>\n",
       "      <td>281.745971</td>\n",
       "    </tr>\n",
       "  </tbody>\n",
       "</table>\n",
       "</div>"
      ],
      "text/plain": [
       "      year  age            maritl      race           education  \\\n",
       "206   2007   63        2. Married  2. Black  5. Advanced Degree   \n",
       "1229  2007   46        2. Married  2. Black          2. HS Grad   \n",
       "503   2003   38  1. Never Married  1. White     3. Some College   \n",
       "1293  2009   38        2. Married  2. Black          2. HS Grad   \n",
       "2712  2006   58        2. Married  2. Black     3. Some College   \n",
       "1112  2006   34  1. Never Married  2. Black  5. Advanced Degree   \n",
       "2893  2003   40        2. Married  3. Asian  5. Advanced Degree   \n",
       "2925  2005   39        2. Married  1. White          2. HS Grad   \n",
       "489   2007   41        2. Married  1. White  5. Advanced Degree   \n",
       "347   2007   43        2. Married  1. White  5. Advanced Degree   \n",
       "\n",
       "                  region        jobclass          health health_ins   logwage  \\\n",
       "206   2. Middle Atlantic  2. Information  2. >=Very Good     1. Yes  5.763128   \n",
       "1229  2. Middle Atlantic  2. Information  2. >=Very Good     1. Yes  5.763128   \n",
       "503   2. Middle Atlantic  2. Information  2. >=Very Good     1. Yes  5.750441   \n",
       "1293  2. Middle Atlantic  2. Information       1. <=Good     1. Yes  5.742793   \n",
       "2712  2. Middle Atlantic  2. Information       1. <=Good      2. No  5.735190   \n",
       "1112  2. Middle Atlantic  2. Information  2. >=Very Good     1. Yes  5.735190   \n",
       "2893  2. Middle Atlantic  2. Information  2. >=Very Good     1. Yes  5.701323   \n",
       "2925  2. Middle Atlantic   1. Industrial  2. >=Very Good      2. No  5.690330   \n",
       "489   2. Middle Atlantic  2. Information  2. >=Very Good     1. Yes  5.650820   \n",
       "347   2. Middle Atlantic  2. Information  2. >=Very Good     1. Yes  5.641006   \n",
       "\n",
       "            wage  \n",
       "206   318.342430  \n",
       "1229  318.342430  \n",
       "503   314.329336  \n",
       "1293  311.934569  \n",
       "2712  309.571771  \n",
       "1112  309.571771  \n",
       "2893  299.262977  \n",
       "2925  295.991250  \n",
       "489   284.524741  \n",
       "347   281.745971  "
      ]
     },
     "execution_count": 16,
     "metadata": {},
     "output_type": "execute_result"
    }
   ],
   "source": [
    "df.sort_values(by='wage',ascending=False).head(10)"
   ]
  },
  {
   "cell_type": "markdown",
   "id": "4e962cf4",
   "metadata": {},
   "source": [
    "#### Display the counts of each race in the dataset"
   ]
  },
  {
   "cell_type": "code",
   "execution_count": 17,
   "id": "61678010",
   "metadata": {},
   "outputs": [
    {
     "data": {
      "text/plain": [
       "1. White    2480\n",
       "2. Black     293\n",
       "3. Asian     190\n",
       "4. Other      37\n",
       "Name: race, dtype: int64"
      ]
     },
     "execution_count": 17,
     "metadata": {},
     "output_type": "execute_result"
    }
   ],
   "source": [
    "df['race'].value_counts()"
   ]
  },
  {
   "cell_type": "markdown",
   "id": "002a9ff6",
   "metadata": {},
   "source": [
    "#### Display the proportion of each race in the dataset"
   ]
  },
  {
   "cell_type": "code",
   "execution_count": 18,
   "id": "f4a65684",
   "metadata": {},
   "outputs": [
    {
     "data": {
      "text/plain": [
       "1. White    0.826667\n",
       "2. Black    0.097667\n",
       "3. Asian    0.063333\n",
       "4. Other    0.012333\n",
       "Name: race, dtype: float64"
      ]
     },
     "execution_count": 18,
     "metadata": {},
     "output_type": "execute_result"
    }
   ],
   "source": [
    "df['race'].value_counts(normalize=True)"
   ]
  },
  {
   "cell_type": "markdown",
   "id": "76141845",
   "metadata": {},
   "source": [
    "#### Create a bar plot of regional proportionality"
   ]
  },
  {
   "cell_type": "code",
   "execution_count": 4,
   "id": "ddcff6da",
   "metadata": {},
   "outputs": [
    {
     "data": {
      "text/plain": [
       "<Axes: >"
      ]
     },
     "execution_count": 4,
     "metadata": {},
     "output_type": "execute_result"
    },
    {
     "data": {
      "image/png": "[encoded data removed]",
      "text/plain": [
       "<Figure size 640x480 with 1 Axes>"
      ]
     },
     "metadata": {},
     "output_type": "display_data"
    }
   ],
   "source": [
    "df['maritl'].value_counts().plot(kind='bar')"
   ]
  },
  {
   "cell_type": "code",
   "execution_count": null,
   "id": "d65c01f1",
   "metadata": {},
   "outputs": [],
   "source": []
  }
 ],
 "metadata": {
  "kernelspec": {
   "display_name": "Python 3 (ipykernel)",
   "language": "python",
   "name": "python3"
  },
  "language_info": {
   "codemirror_mode": {
    "name": "ipython",
    "version": 3
   },
   "file_extension": ".py",
   "mimetype": "text/x-python",
   "name": "python",
   "nbconvert_exporter": "python",
   "pygments_lexer": "ipython3",
   "version": "3.11.4"
  }
 },
 "nbformat": 4,
 "nbformat_minor": 5
}
