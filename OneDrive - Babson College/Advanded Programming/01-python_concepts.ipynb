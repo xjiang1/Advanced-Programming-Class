{
 "cells": [
  {
   "cell_type": "markdown",
   "id": "9383bafa",
   "metadata": {},
   "source": [
    "### Python Programming Concepts"
   ]
  },
  {
   "cell_type": "markdown",
   "id": "17df7d6e",
   "metadata": {},
   "source": [
    "#### 1. Create a variable to store the value 500 for sales"
   ]
  },
  {
   "cell_type": "code",
   "execution_count": 1,
   "id": "a5f43c2f",
   "metadata": {
    "scrolled": true
   },
   "outputs": [
    {
     "data": {
      "text/plain": [
       "500"
      ]
     },
     "execution_count": 1,
     "metadata": {},
     "output_type": "execute_result"
    }
   ],
   "source": [
    "sales = 500\n",
    "sales"
   ]
  },
  {
   "cell_type": "markdown",
   "id": "6dc8b9ea",
   "metadata": {},
   "source": [
    "#### 2. Create a variable to store several values:  \n",
    "* sales: 500, 475, 625\n",
    "* integers 1 - 9 "
   ]
  },
  {
   "cell_type": "code",
   "execution_count": 2,
   "id": "902fe3bd",
   "metadata": {
    "scrolled": true
   },
   "outputs": [
    {
     "name": "stdout",
     "output_type": "stream",
     "text": [
      "500\n",
      "475\n",
      "625\n",
      "[1, 2, 3, 4, 5, 6, 7, 8, 9]\n"
     ]
    }
   ],
   "source": [
    "sales = [500, 475, 625]\n",
    "integers = [1,2,3,4,5,6,7,8,9]\n",
    "for sale in sales:\n",
    "    print(sale)\n",
    "print(integers)"
   ]
  },
  {
   "cell_type": "markdown",
   "id": "62e55953",
   "metadata": {},
   "source": [
    "#### 3. Create a variable to store the names and email addresses for a number of customers\n",
    "* John, john@some.com; Ann, ann@some.com"
   ]
  },
  {
   "cell_type": "code",
   "execution_count": 3,
   "id": "c9971eed",
   "metadata": {
    "scrolled": true
   },
   "outputs": [
    {
     "name": "stdout",
     "output_type": "stream",
     "text": [
      "{'name': ['John', 'Ann'], 'email': ['john@some.com', 'ann@some.com']}\n"
     ]
    }
   ],
   "source": [
    "customer = {\n",
    "    \"name\": ['John','Ann'],\n",
    "    \"email\":['john@some.com','ann@some.com']}\n",
    "\n",
    "print(customer)\n"
   ]
  },
  {
   "cell_type": "markdown",
   "id": "d6b1e8c6",
   "metadata": {},
   "source": [
    "#### 4. Use Python to generate a random value based on each of following:\n",
    "1. between 0 and 1\n",
    "2. the standard normal distribution (rounded to two decimal places)\n",
    "3. a value between 1 and 10\n",
    "4. either H or T"
   ]
  },
  {
   "cell_type": "code",
   "execution_count": 4,
   "id": "f004d7b5",
   "metadata": {
    "scrolled": true
   },
   "outputs": [
    {
     "data": {
      "text/plain": [
       "0.7219926872417683"
      ]
     },
     "execution_count": 4,
     "metadata": {},
     "output_type": "execute_result"
    }
   ],
   "source": [
    "import random\n",
    "number1 = random.random()\n",
    "number1"
   ]
  },
  {
   "cell_type": "code",
   "execution_count": 5,
   "id": "a8efc6fc",
   "metadata": {
    "scrolled": true
   },
   "outputs": [
    {
     "name": "stdout",
     "output_type": "stream",
     "text": [
      "0.06\n",
      "0.16\n"
     ]
    }
   ],
   "source": [
    "number2A = random.gauss(0,1)\n",
    "print(round(number2A,2))\n",
    "\n",
    "number2B = random.normalvariate(0,1)\n",
    "print(round(number2B,2))"
   ]
  },
  {
   "cell_type": "code",
   "execution_count": 6,
   "id": "1a29e601",
   "metadata": {
    "scrolled": true
   },
   "outputs": [
    {
     "data": {
      "text/plain": [
       "4"
      ]
     },
     "execution_count": 6,
     "metadata": {},
     "output_type": "execute_result"
    }
   ],
   "source": [
    "number3 = random.randrange(1,10)\n",
    "number3\n"
   ]
  },
  {
   "cell_type": "code",
   "execution_count": 7,
   "id": "fddb29dd",
   "metadata": {
    "scrolled": true
   },
   "outputs": [
    {
     "data": {
      "text/plain": [
       "'H'"
      ]
     },
     "execution_count": 7,
     "metadata": {},
     "output_type": "execute_result"
    }
   ],
   "source": [
    "random.choice(['H','T'])"
   ]
  },
  {
   "cell_type": "code",
   "execution_count": 8,
   "id": "f80f4b3b",
   "metadata": {
    "scrolled": true
   },
   "outputs": [
    {
     "name": "stdout",
     "output_type": "stream",
     "text": [
      "TTTHTHTTHH\n"
     ]
    },
    {
     "data": {
      "text/plain": [
       "['', '', '', 'H', 'H', '', 'HH']"
      ]
     },
     "execution_count": 8,
     "metadata": {},
     "output_type": "execute_result"
    }
   ],
   "source": [
    "#flipping coins 10 times and capture all results#\n",
    "flips = ''\n",
    "for flip in range(10): #flip here has no meaning, it could be anything like x,a,b\n",
    "    flips += random.choice(['H','T'])\n",
    "print(flips)\n",
    "\n",
    "#isolate results to only show H\n",
    "flips.split('T')"
   ]
  },
  {
   "cell_type": "code",
   "execution_count": null,
   "id": "bdb52b86",
   "metadata": {
    "scrolled": true
   },
   "outputs": [],
   "source": []
  },
  {
   "cell_type": "markdown",
   "id": "7eddf06a",
   "metadata": {},
   "source": [
    "#### 5. Use Python to determine your current working directory"
   ]
  },
  {
   "cell_type": "code",
   "execution_count": 9,
   "id": "d8f79474",
   "metadata": {
    "scrolled": true
   },
   "outputs": [
    {
     "data": {
      "text/plain": [
       "['.ipynb_checkpoints',\n",
       " '01-python_concepts.ipynb',\n",
       " '01_question14_txt',\n",
       " '01_question_14',\n",
       " '02-basic_numpy.ipynb',\n",
       " '02-pandas_intro.ipynb',\n",
       " '03-API.ipynb',\n",
       " '03-NLP.ipynb',\n",
       " '04-basic_matplotlib.ipynb',\n",
       " 'data',\n",
       " 'desolation_row.txt',\n",
       " 'python_files',\n",
       " 'README.md']"
      ]
     },
     "execution_count": 9,
     "metadata": {},
     "output_type": "execute_result"
    }
   ],
   "source": [
    "import os\n",
    "os.getcwd()\n",
    "\n",
    "os.listdir() #show the files in the folder"
   ]
  },
  {
   "cell_type": "markdown",
   "id": "fc43ec50",
   "metadata": {},
   "source": [
    "#### 6. Use Python to determine how many days until New Year's Day"
   ]
  },
  {
   "cell_type": "code",
   "execution_count": 10,
   "id": "13f630fe",
   "metadata": {
    "scrolled": true
   },
   "outputs": [
    {
     "data": {
      "text/plain": [
       "datetime.timedelta(days=344)"
      ]
     },
     "execution_count": 10,
     "metadata": {},
     "output_type": "execute_result"
    }
   ],
   "source": [
    "import datetime as dt\n",
    "\n",
    "today = dt.date.today()\n",
    "\n",
    "newyear = dt.date(2025,1,1)\n",
    "\n",
    "newyear-today"
   ]
  },
  {
   "cell_type": "markdown",
   "id": "2ba4ea92",
   "metadata": {},
   "source": [
    "#### 7. Write a short program that displays the future value of 1,000 earning 5%  at the end of each year for the next 5 years"
   ]
  },
  {
   "cell_type": "code",
   "execution_count": 11,
   "id": "6fef4a8c",
   "metadata": {
    "scrolled": true
   },
   "outputs": [
    {
     "name": "stdout",
     "output_type": "stream",
     "text": [
      "year 0 is 1000.0\n",
      "year 1 is 1050.0\n",
      "year 2 is 1102.5\n",
      "year 3 is 1157.6250000000002\n",
      "year 4 is 1215.5062500000001\n"
     ]
    }
   ],
   "source": [
    "pv = 1000\n",
    "rate = 0.05\n",
    "for year in range(0,5):\n",
    "    fv = pv*(1+rate)**year\n",
    "    year += 1\n",
    "    print('year',year-1,\"is\",fv)"
   ]
  },
  {
   "cell_type": "markdown",
   "id": "150201c8",
   "metadata": {},
   "source": [
    "#### 8. Write a short program that prompts a user to enter a stock symbol and press enter. Add each symbol entered to a variable. The program should run until the user presses the enter key without entering anything (empty string) "
   ]
  },
  {
   "cell_type": "code",
   "execution_count": 12,
   "id": "931a346f",
   "metadata": {
    "scrolled": true
   },
   "outputs": [
    {
     "name": "stdout",
     "output_type": "stream",
     "text": [
      "Enter a stock symbol (press Enter to finish): hhh\n",
      "Enter a stock symbol (press Enter to finish):  \n",
      "Enter a stock symbol (press Enter to finish): \n",
      "['hhh', ' ', '']\n"
     ]
    }
   ],
   "source": [
    "def symbol():\n",
    "    symbol = []\n",
    "    \n",
    "    while True:\n",
    "        input_symbol = input(\"Enter a stock symbol (press Enter to finish): \")\n",
    "        symbol.append(input_symbol)\n",
    "        \n",
    "        if not input_symbol:\n",
    "            break  # Exit the loop if an empty string is entered\n",
    "    \n",
    "    \n",
    "    print(symbol)\n",
    "    \n",
    "\n",
    "symbol()"
   ]
  },
  {
   "cell_type": "markdown",
   "id": "e4d98cda",
   "metadata": {},
   "source": [
    "#### 9. Write the code necessary to calculate the sum of the square differences of a group of values : \n",
    "58, 32, 37, 41, 36, 36, 54, 37, 25, 53\n",
    "##### $\\Sigma $(${x}$ - $\\bar{x}$)$^2$"
   ]
  },
  {
   "cell_type": "code",
   "execution_count": 13,
   "id": "47251b5b",
   "metadata": {},
   "outputs": [
    {
     "name": "stdout",
     "output_type": "stream",
     "text": [
      "[292.41, 79.20999999999998, 15.209999999999988, 0.010000000000000285, 24.009999999999987, 24.009999999999987, 171.61000000000004, 15.209999999999988, 252.80999999999995, 146.41000000000003]\n"
     ]
    },
    {
     "data": {
      "text/plain": [
       "1020.9000000000001"
      ]
     },
     "execution_count": 13,
     "metadata": {},
     "output_type": "execute_result"
    }
   ],
   "source": [
    "numbers = [58, 32, 37, 41, 36, 36, 54, 37, 25, 53]\n",
    "average = [40.9]\n",
    "all_square_diff = []\n",
    "\n",
    "for i in numbers:\n",
    "    square_diff = (i-40.9)**2\n",
    "    i += 1\n",
    "    all_square_diff.append(square_diff)\n",
    "    \n",
    "print(all_square_diff)\n",
    "sum(all_square_diff)\n",
    "\n",
    "## I couldn't get this to work"
   ]
  },
  {
   "cell_type": "markdown",
   "id": "6d6f2e64",
   "metadata": {},
   "source": [
    "#### 10. Opening, reading and writing files"
   ]
  },
  {
   "cell_type": "code",
   "execution_count": 14,
   "id": "f7fa569d",
   "metadata": {
    "scrolled": true
   },
   "outputs": [
    {
     "name": "stdout",
     "output_type": "stream",
     "text": [
      "\n",
      "added this lineadded this lineadded this lineadded this lineadded this lineadded this line\n",
      "\n"
     ]
    }
   ],
   "source": [
    "import os\n",
    "\n",
    "folder_path = 'C:\\\\Users\\\\yvonn\\\\OneDrive - Babson College\\\\Advanded Programming\\\\data'\n",
    "\n",
    "file = open('desolation_row.txt', 'r+')\n",
    "file_content = file.read()\n",
    "print(file.read())\n",
    "print(file_content)\n",
    "\n",
    "file.write('added this line')\n",
    "file.close\n",
    "print(file.read())"
   ]
  },
  {
   "cell_type": "markdown",
   "id": "eec548d6",
   "metadata": {},
   "source": [
    "#### 11. Create a function the will simulate rolling two die and return the value of each and and the sum "
   ]
  },
  {
   "cell_type": "code",
   "execution_count": 15,
   "id": "bb115cdc",
   "metadata": {
    "scrolled": true
   },
   "outputs": [
    {
     "name": "stdout",
     "output_type": "stream",
     "text": [
      "[5, 5]\n",
      "10\n"
     ]
    }
   ],
   "source": [
    "die_both = []\n",
    "for die in range(2): \n",
    "    die += random.randint(1,6)\n",
    "    die_both.append(die)\n",
    "print(die_both)\n",
    "sum = die_both[0] + die_both[1]\n",
    "print(sum)"
   ]
  },
  {
   "cell_type": "markdown",
   "id": "21556d7f",
   "metadata": {},
   "source": [
    "#### 12. Write the code needed to evaluate whether a value in a group of values is negative or postive and prints an approriate message, i.e. postive, negative \n",
    "-1.59, 2.36, 1.69, 1.13, -0.91, 1.48, -0.34, 1.31, -0.74, 0.2"
   ]
  },
  {
   "cell_type": "code",
   "execution_count": 16,
   "id": "d6c38ecb",
   "metadata": {
    "scrolled": true
   },
   "outputs": [
    {
     "name": "stdout",
     "output_type": "stream",
     "text": [
      "negative\n",
      "positive\n",
      "positive\n",
      "positive\n",
      "negative\n",
      "positive\n",
      "negative\n",
      "positive\n",
      "negative\n",
      "positive\n"
     ]
    }
   ],
   "source": [
    "list = [-1.59, 2.36, 1.69, 1.13, -0.91, 1.48, -0.34, 1.31, -0.74, 0.2]\n",
    "\n",
    "def evaluate():\n",
    "    for i in list:\n",
    "        if i < 0:\n",
    "            print('negative');\n",
    "        elif i > 0:\n",
    "            print('positive')\n",
    "        \n",
    "        i += 1\n",
    "        \n",
    "evaluate()"
   ]
  },
  {
   "cell_type": "code",
   "execution_count": null,
   "id": "aaefba17",
   "metadata": {
    "scrolled": true
   },
   "outputs": [],
   "source": []
  },
  {
   "cell_type": "markdown",
   "id": "8cafe65c",
   "metadata": {},
   "source": [
    "#### 14.  Complete the following:\n",
    "1. Write a program that generates 500 random integers from 1 to n, for example, the first integer will be 1 the second will be 1 or 2, the fifth between 1 and 5, and so on.\n",
    "2. The program should write each integer to a file \n",
    "3. Once all integers are written close the file\n",
    "\n",
    "##### Part 2\n",
    "1. Open and read the file into a list\n",
    "2. Create a line plot of the data"
   ]
  },
  {
   "cell_type": "code",
   "execution_count": 17,
   "id": "60a910bb",
   "metadata": {
    "scrolled": true
   },
   "outputs": [],
   "source": [
    "import random\n",
    "import os\n",
    "\n",
    "folder_path = 'C:\\\\Users\\\\yvonn\\\\OneDrive - Babson College\\\\Advanded Programming'\n",
    "file = open('01_question_14','r+')\n",
    "\n",
    "def generate():\n",
    "    for i in range(1,500):\n",
    "        value = random.randint(1,i)\n",
    "        file.write(str(value))\n",
    "        i += 1\n",
    "    file.close\n",
    "\n",
    "generate()"
   ]
  },
  {
   "cell_type": "code",
   "execution_count": 18,
   "id": "d6b4180c",
   "metadata": {
    "scrolled": true
   },
   "outputs": [
    {
     "name": "stdout",
     "output_type": "stream",
     "text": [
      "[1132233567912472461095811202316232718529117263212714312322328132110294204542522842525522116511112545984138144868693159950272291261774057332734218343344424108435515786192644911035358944150101682681101114606510161101025010212293320543911030991459313195853449479513777139131284811112381145058144151961113850100661492613159371641099598138715615717315231169271146158181671651697413118111218099601661377512329126194711067961402573144133149124882914112381174373585179152921913810319114321071631489715411112422417811373321327175232402018012413211062491002221438148344414149123100392621318322341381622081143244362113525019027227721917914610167211269186163105231297114262726329672279225729225028422021527515928724016741371953116619524852231902956032645265152304162502512411913313166182832611654315105431592531657821674793417223184216255315511193533543101531247722054031131415053137317186296130181333642042410416682236630615126733211322924213612431834227937452249357112001503842862801673783892321164134155526911119237529110121281034052443103285144216423326199423673031820659972093233604224022133841423333121815992396259963432621178198132237304326262174380419110277136253462387241465404349201168289181329742613373354]\n"
     ]
    }
   ],
   "source": [
    "import os\n",
    "folder_path = 'C:\\\\Users\\\\yvonn\\\\OneDrive - Babson College\\\\Advanded Programming'\n",
    "file = open('01_question_14','r+')\n",
    "\n",
    "list = [int(x) for x in file.readline().split()]\n",
    "print(list)\n",
    " \n",
    "## I couldn't get this done\n"
   ]
  },
  {
   "cell_type": "code",
   "execution_count": null,
   "id": "adb6aa11",
   "metadata": {
    "scrolled": true
   },
   "outputs": [],
   "source": []
  },
  {
   "cell_type": "code",
   "execution_count": null,
   "id": "6745da79",
   "metadata": {
    "scrolled": true
   },
   "outputs": [],
   "source": []
  },
  {
   "cell_type": "code",
   "execution_count": null,
   "id": "21140445",
   "metadata": {
    "scrolled": true
   },
   "outputs": [],
   "source": []
  },
  {
   "cell_type": "code",
   "execution_count": null,
   "id": "3d546600",
   "metadata": {
    "scrolled": true
   },
   "outputs": [],
   "source": []
  }
 ],
 "metadata": {
  "kernelspec": {
   "display_name": "Python 3 (ipykernel)",
   "language": "python",
   "name": "python3"
  },
  "language_info": {
   "codemirror_mode": {
    "name": "ipython",
    "version": 3
   },
   "file_extension": ".py",
   "mimetype": "text/x-python",
   "name": "python",
   "nbconvert_exporter": "python",
   "pygments_lexer": "ipython3",
   "version": "3.11.4"
  }
 },
 "nbformat": 4,
 "nbformat_minor": 5
}
