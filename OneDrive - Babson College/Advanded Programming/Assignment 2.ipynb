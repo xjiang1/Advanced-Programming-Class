{
 "cells": [
  {
   "cell_type": "markdown",
   "id": "c441e4ca",
   "metadata": {},
   "source": [
    "# Assignment 2\n",
    "* In this assignment you will be working with three data files from iMDB:\n",
    "    * cast.csv\n",
    "    * release_dates.csv\n",
    "    * titles.csv\n",
    "* Using the appropriate file(s), answer the following questions\n",
    "* Some questions can be completed with one-liners while others are a bit more involved\n",
    "* Where appropriate, answers should also provide brief commentary\n",
    "* Exclude data that doen't make senss, i.e. data from the future\n",
    "* Once complete upload this notebook to your classwork Github repo and post the link on Canvas "
   ]
  },
  {
   "cell_type": "code",
   "execution_count": 1,
   "id": "f4594546",
   "metadata": {},
   "outputs": [],
   "source": [
    "import pandas as pd\n",
    "import matplotlib.pyplot as plt"
   ]
  },
  {
   "cell_type": "code",
   "execution_count": 2,
   "id": "b71a6fca",
   "metadata": {},
   "outputs": [],
   "source": [
    "cast = pd.read_csv(\"data/cast.csv\")\n",
    "release_dates = pd.read_csv(\"data/release_dates.csv\")\n",
    "titles = pd.read_csv(\"data/titles.csv\")"
   ]
  },
  {
   "cell_type": "markdown",
   "id": "7f3efd04",
   "metadata": {},
   "source": [
    "### 1. Conduct a high level assessment of the three data files, i.e. how many records are there, what kind of data, etc. Summarize your findings with annotation. "
   ]
  },
  {
   "cell_type": "code",
   "execution_count": 3,
   "id": "03bc8314",
   "metadata": {},
   "outputs": [
    {
     "name": "stdout",
     "output_type": "stream",
     "text": [
      "cast.csv has 3442902 records\n",
      "release_dates.csv has 443486 records\n",
      "titles.csv has 226013 records\n"
     ]
    }
   ],
   "source": [
    "print(\"cast.csv has\", len(cast), \"records\")\n",
    "print(\"release_dates.csv has\", len(release_dates), \"records\")\n",
    "print(\"titles.csv has\", len(titles), \"records\")"
   ]
  },
  {
   "cell_type": "markdown",
   "id": "50470e67",
   "metadata": {},
   "source": [
    "##### Analysis on cast.csv\n",
    "The results shows that most of the columns' data type are object. This may cause trouble when we run certain analysis, so we need to modify the data type if necessary.\n",
    "\n",
    "Most columns don't have null values but the \"n\" column also has more than one third null values. \n",
    "\n",
    "The majority of movies are from mid 20th century to early 21th century. The maximum year contained in the cast.csv is 2115, which doesn't make sense. Thus, I deleted the 3 rows which year is 2115."
   ]
  },
  {
   "cell_type": "code",
   "execution_count": 4,
   "id": "c11606da",
   "metadata": {},
   "outputs": [
    {
     "data": {
      "text/html": [
       "<div>\n",
       "<style scoped>\n",
       "    .dataframe tbody tr th:only-of-type {\n",
       "        vertical-align: middle;\n",
       "    }\n",
       "\n",
       "    .dataframe tbody tr th {\n",
       "        vertical-align: top;\n",
       "    }\n",
       "\n",
       "    .dataframe thead th {\n",
       "        text-align: right;\n",
       "    }\n",
       "</style>\n",
       "<table border=\"1\" class=\"dataframe\">\n",
       "  <thead>\n",
       "    <tr style=\"text-align: right;\">\n",
       "      <th></th>\n",
       "      <th>title</th>\n",
       "      <th>year</th>\n",
       "      <th>name</th>\n",
       "      <th>type</th>\n",
       "      <th>character</th>\n",
       "      <th>n</th>\n",
       "    </tr>\n",
       "  </thead>\n",
       "  <tbody>\n",
       "    <tr>\n",
       "      <th>0</th>\n",
       "      <td>Closet Monster</td>\n",
       "      <td>2015</td>\n",
       "      <td>Buffy #1</td>\n",
       "      <td>actor</td>\n",
       "      <td>Buffy 4</td>\n",
       "      <td>31.0</td>\n",
       "    </tr>\n",
       "    <tr>\n",
       "      <th>1</th>\n",
       "      <td>Suuri illusioni</td>\n",
       "      <td>1985</td>\n",
       "      <td>Homo $</td>\n",
       "      <td>actor</td>\n",
       "      <td>Guests</td>\n",
       "      <td>22.0</td>\n",
       "    </tr>\n",
       "    <tr>\n",
       "      <th>2</th>\n",
       "      <td>Battle of the Sexes</td>\n",
       "      <td>2017</td>\n",
       "      <td>$hutter</td>\n",
       "      <td>actor</td>\n",
       "      <td>Bobby Riggs Fan</td>\n",
       "      <td>10.0</td>\n",
       "    </tr>\n",
       "    <tr>\n",
       "      <th>3</th>\n",
       "      <td>Secret in Their Eyes</td>\n",
       "      <td>2015</td>\n",
       "      <td>$hutter</td>\n",
       "      <td>actor</td>\n",
       "      <td>2002 Dodger Fan</td>\n",
       "      <td>NaN</td>\n",
       "    </tr>\n",
       "    <tr>\n",
       "      <th>4</th>\n",
       "      <td>Steve Jobs</td>\n",
       "      <td>2015</td>\n",
       "      <td>$hutter</td>\n",
       "      <td>actor</td>\n",
       "      <td>1988 Opera House Patron</td>\n",
       "      <td>NaN</td>\n",
       "    </tr>\n",
       "  </tbody>\n",
       "</table>\n",
       "</div>"
      ],
      "text/plain": [
       "                  title  year      name   type                character     n\n",
       "0        Closet Monster  2015  Buffy #1  actor                  Buffy 4  31.0\n",
       "1       Suuri illusioni  1985    Homo $  actor                   Guests  22.0\n",
       "2   Battle of the Sexes  2017   $hutter  actor          Bobby Riggs Fan  10.0\n",
       "3  Secret in Their Eyes  2015   $hutter  actor          2002 Dodger Fan   NaN\n",
       "4            Steve Jobs  2015   $hutter  actor  1988 Opera House Patron   NaN"
      ]
     },
     "execution_count": 4,
     "metadata": {},
     "output_type": "execute_result"
    }
   ],
   "source": [
    "cast.head()"
   ]
  },
  {
   "cell_type": "code",
   "execution_count": 5,
   "id": "ace17d50",
   "metadata": {},
   "outputs": [
    {
     "name": "stdout",
     "output_type": "stream",
     "text": [
      "<class 'pandas.core.frame.DataFrame'>\n",
      "RangeIndex: 3442902 entries, 0 to 3442901\n",
      "Data columns (total 6 columns):\n",
      " #   Column     Dtype  \n",
      "---  ------     -----  \n",
      " 0   title      object \n",
      " 1   year       int64  \n",
      " 2   name       object \n",
      " 3   type       object \n",
      " 4   character  object \n",
      " 5   n          float64\n",
      "dtypes: float64(1), int64(1), object(4)\n",
      "memory usage: 157.6+ MB\n"
     ]
    }
   ],
   "source": [
    "cast.info()"
   ]
  },
  {
   "cell_type": "code",
   "execution_count": 6,
   "id": "9cb50635",
   "metadata": {},
   "outputs": [
    {
     "data": {
      "text/plain": [
       "title              0\n",
       "year               0\n",
       "name               0\n",
       "type               0\n",
       "character          0\n",
       "n            1327783\n",
       "dtype: int64"
      ]
     },
     "execution_count": 6,
     "metadata": {},
     "output_type": "execute_result"
    }
   ],
   "source": [
    "cast.isnull().sum()"
   ]
  },
  {
   "cell_type": "code",
   "execution_count": 7,
   "id": "c57fb66a",
   "metadata": {},
   "outputs": [
    {
     "data": {
      "text/plain": [
       "0.38565808727637324"
      ]
     },
     "execution_count": 7,
     "metadata": {},
     "output_type": "execute_result"
    }
   ],
   "source": [
    "1327783/3442902"
   ]
  },
  {
   "cell_type": "code",
   "execution_count": 8,
   "id": "c04f237d",
   "metadata": {},
   "outputs": [
    {
     "data": {
      "text/plain": [
       "count    2.115119e+06\n",
       "mean     1.673178e+01\n",
       "std      3.209100e+01\n",
       "min      1.000000e+00\n",
       "25%      5.000000e+00\n",
       "50%      1.000000e+01\n",
       "75%      2.100000e+01\n",
       "max      3.361300e+04\n",
       "Name: n, dtype: float64"
      ]
     },
     "execution_count": 8,
     "metadata": {},
     "output_type": "execute_result"
    }
   ],
   "source": [
    "cast['n'].describe()"
   ]
  },
  {
   "cell_type": "code",
   "execution_count": 9,
   "id": "dfcbb1dc",
   "metadata": {},
   "outputs": [
    {
     "data": {
      "text/plain": [
       "count    3.442902e+06\n",
       "mean     1.987597e+03\n",
       "std      2.837612e+01\n",
       "min      1.894000e+03\n",
       "25%      1.967000e+03\n",
       "50%      1.999000e+03\n",
       "75%      2.011000e+03\n",
       "max      2.115000e+03\n",
       "Name: year, dtype: float64"
      ]
     },
     "execution_count": 9,
     "metadata": {},
     "output_type": "execute_result"
    }
   ],
   "source": [
    "cast['year'].describe()"
   ]
  },
  {
   "cell_type": "code",
   "execution_count": 10,
   "id": "88431e45",
   "metadata": {},
   "outputs": [
    {
     "data": {
      "image/png": "[encoded data removed]",
      "text/plain": [
       "<Figure size 640x480 with 1 Axes>"
      ]
     },
     "metadata": {},
     "output_type": "display_data"
    }
   ],
   "source": [
    "plt.hist(cast['year'])\n",
    "plt.xlabel('Year')\n",
    "plt.ylabel('Count')\n",
    "plt.title('Count of Years')\n",
    "plt.show()"
   ]
  },
  {
   "cell_type": "code",
   "execution_count": 11,
   "id": "6a60f4f3",
   "metadata": {},
   "outputs": [
    {
     "data": {
      "text/html": [
       "<div>\n",
       "<style scoped>\n",
       "    .dataframe tbody tr th:only-of-type {\n",
       "        vertical-align: middle;\n",
       "    }\n",
       "\n",
       "    .dataframe tbody tr th {\n",
       "        vertical-align: top;\n",
       "    }\n",
       "\n",
       "    .dataframe thead th {\n",
       "        text-align: right;\n",
       "    }\n",
       "</style>\n",
       "<table border=\"1\" class=\"dataframe\">\n",
       "  <thead>\n",
       "    <tr style=\"text-align: right;\">\n",
       "      <th></th>\n",
       "      <th>title</th>\n",
       "      <th>year</th>\n",
       "      <th>name</th>\n",
       "      <th>type</th>\n",
       "      <th>character</th>\n",
       "      <th>n</th>\n",
       "    </tr>\n",
       "  </thead>\n",
       "  <tbody>\n",
       "    <tr>\n",
       "      <th>464893</th>\n",
       "      <td>Avatar 5</td>\n",
       "      <td>2025</td>\n",
       "      <td>Cliff Curtis</td>\n",
       "      <td>actor</td>\n",
       "      <td>Tonowari</td>\n",
       "      <td>NaN</td>\n",
       "    </tr>\n",
       "    <tr>\n",
       "      <th>748727</th>\n",
       "      <td>Avatar 5</td>\n",
       "      <td>2025</td>\n",
       "      <td>Matt Gerald</td>\n",
       "      <td>actor</td>\n",
       "      <td>Corporal Lyle Wainfleet</td>\n",
       "      <td>NaN</td>\n",
       "    </tr>\n",
       "    <tr>\n",
       "      <th>1170295</th>\n",
       "      <td>Avatar 5</td>\n",
       "      <td>2025</td>\n",
       "      <td>Stephen Lang</td>\n",
       "      <td>actor</td>\n",
       "      <td>Miles Quaritch</td>\n",
       "      <td>NaN</td>\n",
       "    </tr>\n",
       "    <tr>\n",
       "      <th>1445224</th>\n",
       "      <td>Avatar 5</td>\n",
       "      <td>2025</td>\n",
       "      <td>Joel David Moore</td>\n",
       "      <td>actor</td>\n",
       "      <td>Norm Spellman</td>\n",
       "      <td>NaN</td>\n",
       "    </tr>\n",
       "    <tr>\n",
       "      <th>2270934</th>\n",
       "      <td>Avatar 5</td>\n",
       "      <td>2025</td>\n",
       "      <td>Sam Worthington</td>\n",
       "      <td>actor</td>\n",
       "      <td>Jake Sully</td>\n",
       "      <td>NaN</td>\n",
       "    </tr>\n",
       "    <tr>\n",
       "      <th>2490668</th>\n",
       "      <td>Avatar 5</td>\n",
       "      <td>2025</td>\n",
       "      <td>Oona (II) Chaplin</td>\n",
       "      <td>actress</td>\n",
       "      <td>Varang</td>\n",
       "      <td>NaN</td>\n",
       "    </tr>\n",
       "    <tr>\n",
       "      <th>3128354</th>\n",
       "      <td>Avatar 5</td>\n",
       "      <td>2025</td>\n",
       "      <td>CCH Pounder</td>\n",
       "      <td>actress</td>\n",
       "      <td>Moat</td>\n",
       "      <td>NaN</td>\n",
       "    </tr>\n",
       "    <tr>\n",
       "      <th>3203518</th>\n",
       "      <td>Avatar 5</td>\n",
       "      <td>2025</td>\n",
       "      <td>Zoe Saldana</td>\n",
       "      <td>actress</td>\n",
       "      <td>Neytiri</td>\n",
       "      <td>NaN</td>\n",
       "    </tr>\n",
       "    <tr>\n",
       "      <th>3390285</th>\n",
       "      <td>Avatar 5</td>\n",
       "      <td>2025</td>\n",
       "      <td>Sigourney Weaver</td>\n",
       "      <td>actress</td>\n",
       "      <td>Grace Augustine</td>\n",
       "      <td>NaN</td>\n",
       "    </tr>\n",
       "    <tr>\n",
       "      <th>1295487</th>\n",
       "      <td>100 Years</td>\n",
       "      <td>2115</td>\n",
       "      <td>John Malkovich</td>\n",
       "      <td>actor</td>\n",
       "      <td>Hero</td>\n",
       "      <td>NaN</td>\n",
       "    </tr>\n",
       "    <tr>\n",
       "      <th>2302158</th>\n",
       "      <td>100 Years</td>\n",
       "      <td>2115</td>\n",
       "      <td>Marko Zaror</td>\n",
       "      <td>actor</td>\n",
       "      <td>Bad Guy</td>\n",
       "      <td>NaN</td>\n",
       "    </tr>\n",
       "    <tr>\n",
       "      <th>2489995</th>\n",
       "      <td>100 Years</td>\n",
       "      <td>2115</td>\n",
       "      <td>Shuya Chang</td>\n",
       "      <td>actress</td>\n",
       "      <td>Hero Girl</td>\n",
       "      <td>NaN</td>\n",
       "    </tr>\n",
       "  </tbody>\n",
       "</table>\n",
       "</div>"
      ],
      "text/plain": [
       "             title  year               name     type                character  \\\n",
       "464893    Avatar 5  2025       Cliff Curtis    actor                 Tonowari   \n",
       "748727    Avatar 5  2025        Matt Gerald    actor  Corporal Lyle Wainfleet   \n",
       "1170295   Avatar 5  2025       Stephen Lang    actor           Miles Quaritch   \n",
       "1445224   Avatar 5  2025   Joel David Moore    actor            Norm Spellman   \n",
       "2270934   Avatar 5  2025    Sam Worthington    actor               Jake Sully   \n",
       "2490668   Avatar 5  2025  Oona (II) Chaplin  actress                   Varang   \n",
       "3128354   Avatar 5  2025        CCH Pounder  actress                     Moat   \n",
       "3203518   Avatar 5  2025        Zoe Saldana  actress                  Neytiri   \n",
       "3390285   Avatar 5  2025   Sigourney Weaver  actress          Grace Augustine   \n",
       "1295487  100 Years  2115     John Malkovich    actor                     Hero   \n",
       "2302158  100 Years  2115        Marko Zaror    actor                  Bad Guy   \n",
       "2489995  100 Years  2115        Shuya Chang  actress                Hero Girl   \n",
       "\n",
       "          n  \n",
       "464893  NaN  \n",
       "748727  NaN  \n",
       "1170295 NaN  \n",
       "1445224 NaN  \n",
       "2270934 NaN  \n",
       "2490668 NaN  \n",
       "3128354 NaN  \n",
       "3203518 NaN  \n",
       "3390285 NaN  \n",
       "1295487 NaN  \n",
       "2302158 NaN  \n",
       "2489995 NaN  "
      ]
     },
     "execution_count": 11,
     "metadata": {},
     "output_type": "execute_result"
    }
   ],
   "source": [
    "#check what rows contain year > 2024\n",
    "cast[cast['year'] > 2024].sort_values(by='year')"
   ]
  },
  {
   "cell_type": "code",
   "execution_count": 12,
   "id": "12d40beb",
   "metadata": {},
   "outputs": [
    {
     "data": {
      "image/png": "[encoded data removed]",
      "text/plain": [
       "<Figure size 640x480 with 1 Axes>"
      ]
     },
     "metadata": {},
     "output_type": "display_data"
    }
   ],
   "source": [
    "#remove rows which year is 2115\n",
    "cast= cast[cast['year']!=2115]\n",
    "\n",
    "#draw the histogram of year again to check if the 3 rows are deleted successfully\n",
    "plt.hist(cast['year'])\n",
    "plt.xlabel('Year')\n",
    "plt.ylabel('Count')\n",
    "plt.title('Count of Years')\n",
    "plt.show()"
   ]
  },
  {
   "cell_type": "markdown",
   "id": "01e509e9",
   "metadata": {},
   "source": [
    "##### Analysis of release_dates.csv\n",
    "The results shows that most of the columns' data type are object. This is cause trouble when we run certain analysis, so we need to modify the data type if necessary.\n",
    "\n",
    "No columns have null values.\n",
    "\n",
    "The majority of movies in the release_dates dataset are also from mid 20th century to early 21th century. The maximum year contained in the release_dates.csv is 2115, which doesn't make sense. Thus, I deleted the 1 rows which year is 2115."
   ]
  },
  {
   "cell_type": "code",
   "execution_count": 13,
   "id": "608850c6",
   "metadata": {},
   "outputs": [
    {
     "name": "stdout",
     "output_type": "stream",
     "text": [
      "<class 'pandas.core.frame.DataFrame'>\n",
      "RangeIndex: 443486 entries, 0 to 443485\n",
      "Data columns (total 4 columns):\n",
      " #   Column   Non-Null Count   Dtype \n",
      "---  ------   --------------   ----- \n",
      " 0   title    443486 non-null  object\n",
      " 1   year     443486 non-null  int64 \n",
      " 2   country  443486 non-null  object\n",
      " 3   date     443486 non-null  object\n",
      "dtypes: int64(1), object(3)\n",
      "memory usage: 13.5+ MB\n"
     ]
    }
   ],
   "source": [
    "release_dates.info()"
   ]
  },
  {
   "cell_type": "code",
   "execution_count": 14,
   "id": "93b226d6",
   "metadata": {},
   "outputs": [
    {
     "data": {
      "text/html": [
       "<div>\n",
       "<style scoped>\n",
       "    .dataframe tbody tr th:only-of-type {\n",
       "        vertical-align: middle;\n",
       "    }\n",
       "\n",
       "    .dataframe tbody tr th {\n",
       "        vertical-align: top;\n",
       "    }\n",
       "\n",
       "    .dataframe thead th {\n",
       "        text-align: right;\n",
       "    }\n",
       "</style>\n",
       "<table border=\"1\" class=\"dataframe\">\n",
       "  <thead>\n",
       "    <tr style=\"text-align: right;\">\n",
       "      <th></th>\n",
       "      <th>title</th>\n",
       "      <th>year</th>\n",
       "      <th>country</th>\n",
       "      <th>date</th>\n",
       "    </tr>\n",
       "  </thead>\n",
       "  <tbody>\n",
       "    <tr>\n",
       "      <th>0</th>\n",
       "      <td>#73, Shaanthi Nivaasa</td>\n",
       "      <td>2007</td>\n",
       "      <td>India</td>\n",
       "      <td>2007-06-15</td>\n",
       "    </tr>\n",
       "    <tr>\n",
       "      <th>1</th>\n",
       "      <td>#BKKY</td>\n",
       "      <td>2016</td>\n",
       "      <td>Cambodia</td>\n",
       "      <td>2017-10-12</td>\n",
       "    </tr>\n",
       "    <tr>\n",
       "      <th>2</th>\n",
       "      <td>#Beings</td>\n",
       "      <td>2015</td>\n",
       "      <td>Romania</td>\n",
       "      <td>2015-01-29</td>\n",
       "    </tr>\n",
       "    <tr>\n",
       "      <th>3</th>\n",
       "      <td>#Captured</td>\n",
       "      <td>2017</td>\n",
       "      <td>USA</td>\n",
       "      <td>2017-09-05</td>\n",
       "    </tr>\n",
       "    <tr>\n",
       "      <th>4</th>\n",
       "      <td>#Ewankosau saranghaeyo</td>\n",
       "      <td>2015</td>\n",
       "      <td>Philippines</td>\n",
       "      <td>2015-01-21</td>\n",
       "    </tr>\n",
       "  </tbody>\n",
       "</table>\n",
       "</div>"
      ],
      "text/plain": [
       "                    title  year      country        date\n",
       "0   #73, Shaanthi Nivaasa  2007        India  2007-06-15\n",
       "1                   #BKKY  2016     Cambodia  2017-10-12\n",
       "2                 #Beings  2015      Romania  2015-01-29\n",
       "3               #Captured  2017          USA  2017-09-05\n",
       "4  #Ewankosau saranghaeyo  2015  Philippines  2015-01-21"
      ]
     },
     "execution_count": 14,
     "metadata": {},
     "output_type": "execute_result"
    }
   ],
   "source": [
    "release_dates.head()"
   ]
  },
  {
   "cell_type": "code",
   "execution_count": 15,
   "id": "e252fda4",
   "metadata": {},
   "outputs": [
    {
     "data": {
      "text/html": [
       "<div>\n",
       "<style scoped>\n",
       "    .dataframe tbody tr th:only-of-type {\n",
       "        vertical-align: middle;\n",
       "    }\n",
       "\n",
       "    .dataframe tbody tr th {\n",
       "        vertical-align: top;\n",
       "    }\n",
       "\n",
       "    .dataframe thead th {\n",
       "        text-align: right;\n",
       "    }\n",
       "</style>\n",
       "<table border=\"1\" class=\"dataframe\">\n",
       "  <thead>\n",
       "    <tr style=\"text-align: right;\">\n",
       "      <th></th>\n",
       "      <th>year</th>\n",
       "    </tr>\n",
       "  </thead>\n",
       "  <tbody>\n",
       "    <tr>\n",
       "      <th>count</th>\n",
       "      <td>443486.000000</td>\n",
       "    </tr>\n",
       "    <tr>\n",
       "      <th>mean</th>\n",
       "      <td>1985.554863</td>\n",
       "    </tr>\n",
       "    <tr>\n",
       "      <th>std</th>\n",
       "      <td>28.373819</td>\n",
       "    </tr>\n",
       "    <tr>\n",
       "      <th>min</th>\n",
       "      <td>1894.000000</td>\n",
       "    </tr>\n",
       "    <tr>\n",
       "      <th>25%</th>\n",
       "      <td>1964.000000</td>\n",
       "    </tr>\n",
       "    <tr>\n",
       "      <th>50%</th>\n",
       "      <td>1997.000000</td>\n",
       "    </tr>\n",
       "    <tr>\n",
       "      <th>75%</th>\n",
       "      <td>2010.000000</td>\n",
       "    </tr>\n",
       "    <tr>\n",
       "      <th>max</th>\n",
       "      <td>2115.000000</td>\n",
       "    </tr>\n",
       "  </tbody>\n",
       "</table>\n",
       "</div>"
      ],
      "text/plain": [
       "                year\n",
       "count  443486.000000\n",
       "mean     1985.554863\n",
       "std        28.373819\n",
       "min      1894.000000\n",
       "25%      1964.000000\n",
       "50%      1997.000000\n",
       "75%      2010.000000\n",
       "max      2115.000000"
      ]
     },
     "execution_count": 15,
     "metadata": {},
     "output_type": "execute_result"
    }
   ],
   "source": [
    "release_dates.describe()"
   ]
  },
  {
   "cell_type": "code",
   "execution_count": 16,
   "id": "e7c4ee1f",
   "metadata": {},
   "outputs": [
    {
     "data": {
      "image/png": "[encoded data removed]",
      "text/plain": [
       "<Figure size 640x480 with 1 Axes>"
      ]
     },
     "metadata": {},
     "output_type": "display_data"
    }
   ],
   "source": [
    "plt.hist(release_dates['year'])\n",
    "plt.xlabel('Year')\n",
    "plt.ylabel('Count')\n",
    "plt.title('Count of Years')\n",
    "plt.show()"
   ]
  },
  {
   "cell_type": "code",
   "execution_count": 17,
   "id": "cd6c3c02",
   "metadata": {},
   "outputs": [
    {
     "data": {
      "text/html": [
       "<div>\n",
       "<style scoped>\n",
       "    .dataframe tbody tr th:only-of-type {\n",
       "        vertical-align: middle;\n",
       "    }\n",
       "\n",
       "    .dataframe tbody tr th {\n",
       "        vertical-align: top;\n",
       "    }\n",
       "\n",
       "    .dataframe thead th {\n",
       "        text-align: right;\n",
       "    }\n",
       "</style>\n",
       "<table border=\"1\" class=\"dataframe\">\n",
       "  <thead>\n",
       "    <tr style=\"text-align: right;\">\n",
       "      <th></th>\n",
       "      <th>title</th>\n",
       "      <th>year</th>\n",
       "      <th>country</th>\n",
       "      <th>date</th>\n",
       "    </tr>\n",
       "  </thead>\n",
       "  <tbody>\n",
       "    <tr>\n",
       "      <th>30716</th>\n",
       "      <td>Avatar 5</td>\n",
       "      <td>2025</td>\n",
       "      <td>USA</td>\n",
       "      <td>2025-12-19</td>\n",
       "    </tr>\n",
       "    <tr>\n",
       "      <th>831</th>\n",
       "      <td>100 Years</td>\n",
       "      <td>2115</td>\n",
       "      <td>France</td>\n",
       "      <td>2115-11-18</td>\n",
       "    </tr>\n",
       "  </tbody>\n",
       "</table>\n",
       "</div>"
      ],
      "text/plain": [
       "           title  year country        date\n",
       "30716   Avatar 5  2025     USA  2025-12-19\n",
       "831    100 Years  2115  France  2115-11-18"
      ]
     },
     "execution_count": 17,
     "metadata": {},
     "output_type": "execute_result"
    }
   ],
   "source": [
    "#check what rows contain year > 2024\n",
    "release_dates[release_dates['year'] > 2024].sort_values(by='year')"
   ]
  },
  {
   "cell_type": "code",
   "execution_count": 18,
   "id": "ff211eeb",
   "metadata": {},
   "outputs": [
    {
     "data": {
      "image/png": "[encoded data removed]",
      "text/plain": [
       "<Figure size 640x480 with 1 Axes>"
      ]
     },
     "metadata": {},
     "output_type": "display_data"
    }
   ],
   "source": [
    "#remove rows which year is 2115\n",
    "release_dates= release_dates[release_dates['year']!=2115]\n",
    "\n",
    "#draw the histogram of year again to check if the 3 rows are deleted successfully\n",
    "plt.hist(release_dates['year'])\n",
    "plt.xlabel('Year')\n",
    "plt.ylabel('Count')\n",
    "plt.title('Count of Years')\n",
    "plt.show()"
   ]
  },
  {
   "cell_type": "markdown",
   "id": "715f69e3",
   "metadata": {},
   "source": [
    "##### Analysis of titles.csv\n",
    "No columns have null values.\n",
    "\n",
    "The majority of movies in the titles dataset are also from mid 20th century to early 21th century. The maximum year contained in the titles.csv is 2115, which doesn't make sense. Thus, I deleted the 1 rows which year is 2115."
   ]
  },
  {
   "cell_type": "code",
   "execution_count": 19,
   "id": "3ca6e319",
   "metadata": {},
   "outputs": [
    {
     "name": "stdout",
     "output_type": "stream",
     "text": [
      "<class 'pandas.core.frame.DataFrame'>\n",
      "RangeIndex: 226013 entries, 0 to 226012\n",
      "Data columns (total 2 columns):\n",
      " #   Column  Non-Null Count   Dtype \n",
      "---  ------  --------------   ----- \n",
      " 0   title   226013 non-null  object\n",
      " 1   year    226013 non-null  int64 \n",
      "dtypes: int64(1), object(1)\n",
      "memory usage: 3.4+ MB\n"
     ]
    }
   ],
   "source": [
    "titles.info()"
   ]
  },
  {
   "cell_type": "code",
   "execution_count": 20,
   "id": "89825b89",
   "metadata": {},
   "outputs": [
    {
     "data": {
      "text/html": [
       "<div>\n",
       "<style scoped>\n",
       "    .dataframe tbody tr th:only-of-type {\n",
       "        vertical-align: middle;\n",
       "    }\n",
       "\n",
       "    .dataframe tbody tr th {\n",
       "        vertical-align: top;\n",
       "    }\n",
       "\n",
       "    .dataframe thead th {\n",
       "        text-align: right;\n",
       "    }\n",
       "</style>\n",
       "<table border=\"1\" class=\"dataframe\">\n",
       "  <thead>\n",
       "    <tr style=\"text-align: right;\">\n",
       "      <th></th>\n",
       "      <th>title</th>\n",
       "      <th>year</th>\n",
       "    </tr>\n",
       "  </thead>\n",
       "  <tbody>\n",
       "    <tr>\n",
       "      <th>0</th>\n",
       "      <td>Ankara ekspresi</td>\n",
       "      <td>1952</td>\n",
       "    </tr>\n",
       "    <tr>\n",
       "      <th>1</th>\n",
       "      <td>Ans Vaterland, ans teure</td>\n",
       "      <td>1915</td>\n",
       "    </tr>\n",
       "    <tr>\n",
       "      <th>2</th>\n",
       "      <td>Miss Mohini</td>\n",
       "      <td>2002</td>\n",
       "    </tr>\n",
       "    <tr>\n",
       "      <th>3</th>\n",
       "      <td>La vera madre</td>\n",
       "      <td>1999</td>\n",
       "    </tr>\n",
       "    <tr>\n",
       "      <th>4</th>\n",
       "      <td>O Amerikanos</td>\n",
       "      <td>1993</td>\n",
       "    </tr>\n",
       "  </tbody>\n",
       "</table>\n",
       "</div>"
      ],
      "text/plain": [
       "                      title  year\n",
       "0           Ankara ekspresi  1952\n",
       "1  Ans Vaterland, ans teure  1915\n",
       "2               Miss Mohini  2002\n",
       "3             La vera madre  1999\n",
       "4              O Amerikanos  1993"
      ]
     },
     "execution_count": 20,
     "metadata": {},
     "output_type": "execute_result"
    }
   ],
   "source": [
    "titles.head()"
   ]
  },
  {
   "cell_type": "code",
   "execution_count": 21,
   "id": "463e93f6",
   "metadata": {},
   "outputs": [
    {
     "data": {
      "text/html": [
       "<div>\n",
       "<style scoped>\n",
       "    .dataframe tbody tr th:only-of-type {\n",
       "        vertical-align: middle;\n",
       "    }\n",
       "\n",
       "    .dataframe tbody tr th {\n",
       "        vertical-align: top;\n",
       "    }\n",
       "\n",
       "    .dataframe thead th {\n",
       "        text-align: right;\n",
       "    }\n",
       "</style>\n",
       "<table border=\"1\" class=\"dataframe\">\n",
       "  <thead>\n",
       "    <tr style=\"text-align: right;\">\n",
       "      <th></th>\n",
       "      <th>year</th>\n",
       "    </tr>\n",
       "  </thead>\n",
       "  <tbody>\n",
       "    <tr>\n",
       "      <th>count</th>\n",
       "      <td>226013.000000</td>\n",
       "    </tr>\n",
       "    <tr>\n",
       "      <th>mean</th>\n",
       "      <td>1985.281294</td>\n",
       "    </tr>\n",
       "    <tr>\n",
       "      <th>std</th>\n",
       "      <td>29.816257</td>\n",
       "    </tr>\n",
       "    <tr>\n",
       "      <th>min</th>\n",
       "      <td>1894.000000</td>\n",
       "    </tr>\n",
       "    <tr>\n",
       "      <th>25%</th>\n",
       "      <td>1965.000000</td>\n",
       "    </tr>\n",
       "    <tr>\n",
       "      <th>50%</th>\n",
       "      <td>1994.000000</td>\n",
       "    </tr>\n",
       "    <tr>\n",
       "      <th>75%</th>\n",
       "      <td>2011.000000</td>\n",
       "    </tr>\n",
       "    <tr>\n",
       "      <th>max</th>\n",
       "      <td>2115.000000</td>\n",
       "    </tr>\n",
       "  </tbody>\n",
       "</table>\n",
       "</div>"
      ],
      "text/plain": [
       "                year\n",
       "count  226013.000000\n",
       "mean     1985.281294\n",
       "std        29.816257\n",
       "min      1894.000000\n",
       "25%      1965.000000\n",
       "50%      1994.000000\n",
       "75%      2011.000000\n",
       "max      2115.000000"
      ]
     },
     "execution_count": 21,
     "metadata": {},
     "output_type": "execute_result"
    }
   ],
   "source": [
    "titles.describe()"
   ]
  },
  {
   "cell_type": "code",
   "execution_count": 22,
   "id": "2bb60541",
   "metadata": {},
   "outputs": [
    {
     "data": {
      "image/png": "[encoded data removed]",
      "text/plain": [
       "<Figure size 640x480 with 1 Axes>"
      ]
     },
     "metadata": {},
     "output_type": "display_data"
    }
   ],
   "source": [
    "plt.hist(titles['year'])\n",
    "plt.xlabel('Year')\n",
    "plt.ylabel('Count')\n",
    "plt.title('Count of Years')\n",
    "plt.show()"
   ]
  },
  {
   "cell_type": "code",
   "execution_count": 23,
   "id": "ef5afa77",
   "metadata": {},
   "outputs": [
    {
     "data": {
      "text/html": [
       "<div>\n",
       "<style scoped>\n",
       "    .dataframe tbody tr th:only-of-type {\n",
       "        vertical-align: middle;\n",
       "    }\n",
       "\n",
       "    .dataframe tbody tr th {\n",
       "        vertical-align: top;\n",
       "    }\n",
       "\n",
       "    .dataframe thead th {\n",
       "        text-align: right;\n",
       "    }\n",
       "</style>\n",
       "<table border=\"1\" class=\"dataframe\">\n",
       "  <thead>\n",
       "    <tr style=\"text-align: right;\">\n",
       "      <th></th>\n",
       "      <th>title</th>\n",
       "      <th>year</th>\n",
       "    </tr>\n",
       "  </thead>\n",
       "  <tbody>\n",
       "    <tr>\n",
       "      <th>67170</th>\n",
       "      <td>Avatar 5</td>\n",
       "      <td>2025</td>\n",
       "    </tr>\n",
       "    <tr>\n",
       "      <th>125751</th>\n",
       "      <td>The Zero Century: Maetel</td>\n",
       "      <td>2026</td>\n",
       "    </tr>\n",
       "    <tr>\n",
       "      <th>60046</th>\n",
       "      <td>100 Years</td>\n",
       "      <td>2115</td>\n",
       "    </tr>\n",
       "  </tbody>\n",
       "</table>\n",
       "</div>"
      ],
      "text/plain": [
       "                           title  year\n",
       "67170                   Avatar 5  2025\n",
       "125751  The Zero Century: Maetel  2026\n",
       "60046                  100 Years  2115"
      ]
     },
     "execution_count": 23,
     "metadata": {},
     "output_type": "execute_result"
    }
   ],
   "source": [
    "#check what rows contain year > 2024\n",
    "titles[titles['year'] > 2024].sort_values(by='year')"
   ]
  },
  {
   "cell_type": "code",
   "execution_count": 24,
   "id": "4e43cbff",
   "metadata": {},
   "outputs": [
    {
     "data": {
      "image/png": "[encoded data removed]",
      "text/plain": [
       "<Figure size 640x480 with 1 Axes>"
      ]
     },
     "metadata": {},
     "output_type": "display_data"
    }
   ],
   "source": [
    "#remove rows which year is 2115\n",
    "titles= titles[titles['year']!=2115]\n",
    "\n",
    "#draw the histogram of year again to check if the 3 rows are deleted successfully\n",
    "plt.hist(titles['year'])\n",
    "plt.xlabel('Year')\n",
    "plt.ylabel('Count')\n",
    "plt.title('Count of Years')\n",
    "plt.show()"
   ]
  },
  {
   "cell_type": "code",
   "execution_count": 25,
   "id": "8ef5281b",
   "metadata": {},
   "outputs": [
    {
     "data": {
      "text/plain": [
       "count    226012.000000\n",
       "mean       1985.280720\n",
       "std          29.815074\n",
       "min        1894.000000\n",
       "25%        1965.000000\n",
       "50%        1994.000000\n",
       "75%        2011.000000\n",
       "max        2026.000000\n",
       "Name: year, dtype: float64"
      ]
     },
     "execution_count": 25,
     "metadata": {},
     "output_type": "execute_result"
    }
   ],
   "source": [
    "titles['year'].describe()"
   ]
  },
  {
   "cell_type": "markdown",
   "id": "8949aee1",
   "metadata": {},
   "source": [
    "### 2. How many movies have the title North by Northwest\n",
    "If we only look at movies with unique titles that contain \"North by Northwest\", then there is only 1 movie based on the analysis on the titles.csv.\n",
    "\n",
    "If we want to know how many versions of movies contain \"North by Northwest\" even if they have the same name, then there are 18 movies based on the analysis on the release_dates.csv."
   ]
  },
  {
   "cell_type": "code",
   "execution_count": 26,
   "id": "607acc9c",
   "metadata": {},
   "outputs": [
    {
     "data": {
      "text/plain": [
       "1"
      ]
     },
     "execution_count": 26,
     "metadata": {},
     "output_type": "execute_result"
    }
   ],
   "source": [
    "titles['title'].str.contains(\"North by Northwest\").sum()"
   ]
  },
  {
   "cell_type": "code",
   "execution_count": 27,
   "id": "712cba84",
   "metadata": {},
   "outputs": [
    {
     "data": {
      "text/plain": [
       "18"
      ]
     },
     "execution_count": 27,
     "metadata": {},
     "output_type": "execute_result"
    }
   ],
   "source": [
    "release_dates['title'].str.contains(\"North by Northwest\").sum()"
   ]
  },
  {
   "cell_type": "markdown",
   "id": "651191f3",
   "metadata": {},
   "source": [
    "### 3. How many version of Hamlet are there, when was the first made? the last?\n",
    "There are 152 versions of Hamlet. The first version is made in 1910, and the last one is made in 2017."
   ]
  },
  {
   "cell_type": "code",
   "execution_count": 28,
   "id": "1e421672",
   "metadata": {},
   "outputs": [
    {
     "data": {
      "text/plain": [
       "152"
      ]
     },
     "execution_count": 28,
     "metadata": {},
     "output_type": "execute_result"
    }
   ],
   "source": [
    "release_dates['title'].str.contains(\"Hamlet\").sum()"
   ]
  },
  {
   "cell_type": "code",
   "execution_count": 29,
   "id": "98f99739",
   "metadata": {},
   "outputs": [
    {
     "data": {
      "text/html": [
       "<div>\n",
       "<style scoped>\n",
       "    .dataframe tbody tr th:only-of-type {\n",
       "        vertical-align: middle;\n",
       "    }\n",
       "\n",
       "    .dataframe tbody tr th {\n",
       "        vertical-align: top;\n",
       "    }\n",
       "\n",
       "    .dataframe thead th {\n",
       "        text-align: right;\n",
       "    }\n",
       "</style>\n",
       "<table border=\"1\" class=\"dataframe\">\n",
       "  <thead>\n",
       "    <tr style=\"text-align: right;\">\n",
       "      <th></th>\n",
       "      <th>title</th>\n",
       "      <th>year</th>\n",
       "      <th>country</th>\n",
       "      <th>date</th>\n",
       "    </tr>\n",
       "  </thead>\n",
       "  <tbody>\n",
       "    <tr>\n",
       "      <th>136026</th>\n",
       "      <td>Hamlet</td>\n",
       "      <td>1910</td>\n",
       "      <td>USA</td>\n",
       "      <td>1910-02-02</td>\n",
       "    </tr>\n",
       "    <tr>\n",
       "      <th>136027</th>\n",
       "      <td>Hamlet</td>\n",
       "      <td>1911</td>\n",
       "      <td>Denmark</td>\n",
       "      <td>1911-02-27</td>\n",
       "    </tr>\n",
       "    <tr>\n",
       "      <th>136028</th>\n",
       "      <td>Hamlet</td>\n",
       "      <td>1911</td>\n",
       "      <td>UK</td>\n",
       "      <td>1911-03-18</td>\n",
       "    </tr>\n",
       "    <tr>\n",
       "      <th>136029</th>\n",
       "      <td>Hamlet</td>\n",
       "      <td>1911</td>\n",
       "      <td>USA</td>\n",
       "      <td>1911-04-15</td>\n",
       "    </tr>\n",
       "    <tr>\n",
       "      <th>9530</th>\n",
       "      <td>A Sagebrush Hamlet</td>\n",
       "      <td>1919</td>\n",
       "      <td>USA</td>\n",
       "      <td>1919-08-03</td>\n",
       "    </tr>\n",
       "    <tr>\n",
       "      <th>...</th>\n",
       "      <td>...</td>\n",
       "      <td>...</td>\n",
       "      <td>...</td>\n",
       "      <td>...</td>\n",
       "    </tr>\n",
       "    <tr>\n",
       "      <th>241979</th>\n",
       "      <td>National Theatre Live: Hamlet</td>\n",
       "      <td>2015</td>\n",
       "      <td>Estonia</td>\n",
       "      <td>2015-10-15</td>\n",
       "    </tr>\n",
       "    <tr>\n",
       "      <th>136107</th>\n",
       "      <td>Hamlet</td>\n",
       "      <td>2016</td>\n",
       "      <td>USA</td>\n",
       "      <td>2016-04-24</td>\n",
       "    </tr>\n",
       "    <tr>\n",
       "      <th>136106</th>\n",
       "      <td>Hamlet</td>\n",
       "      <td>2016</td>\n",
       "      <td>Canada</td>\n",
       "      <td>2016-04-23</td>\n",
       "    </tr>\n",
       "    <tr>\n",
       "      <th>289499</th>\n",
       "      <td>Royal Shakespeare Company: Hamlet</td>\n",
       "      <td>2016</td>\n",
       "      <td>UK</td>\n",
       "      <td>2016-06-08</td>\n",
       "    </tr>\n",
       "    <tr>\n",
       "      <th>136108</th>\n",
       "      <td>Hamlet</td>\n",
       "      <td>2017</td>\n",
       "      <td>UK</td>\n",
       "      <td>2017-04-28</td>\n",
       "    </tr>\n",
       "  </tbody>\n",
       "</table>\n",
       "<p>152 rows × 4 columns</p>\n",
       "</div>"
      ],
      "text/plain": [
       "                                    title  year  country        date\n",
       "136026                             Hamlet  1910      USA  1910-02-02\n",
       "136027                             Hamlet  1911  Denmark  1911-02-27\n",
       "136028                             Hamlet  1911       UK  1911-03-18\n",
       "136029                             Hamlet  1911      USA  1911-04-15\n",
       "9530                   A Sagebrush Hamlet  1919      USA  1919-08-03\n",
       "...                                   ...   ...      ...         ...\n",
       "241979      National Theatre Live: Hamlet  2015  Estonia  2015-10-15\n",
       "136107                             Hamlet  2016      USA  2016-04-24\n",
       "136106                             Hamlet  2016   Canada  2016-04-23\n",
       "289499  Royal Shakespeare Company: Hamlet  2016       UK  2016-06-08\n",
       "136108                             Hamlet  2017       UK  2017-04-28\n",
       "\n",
       "[152 rows x 4 columns]"
      ]
     },
     "execution_count": 29,
     "metadata": {},
     "output_type": "execute_result"
    }
   ],
   "source": [
    "release_dates[release_dates['title'].str.contains(\"Hamlet\")].sort_values(by='year')"
   ]
  },
  {
   "cell_type": "markdown",
   "id": "5650b610",
   "metadata": {},
   "source": [
    "### 4. List all the movies called Treasure Island from oldest to newest"
   ]
  },
  {
   "cell_type": "code",
   "execution_count": 30,
   "id": "636611d9",
   "metadata": {
    "scrolled": true
   },
   "outputs": [
    {
     "data": {
      "text/html": [
       "<div>\n",
       "<style scoped>\n",
       "    .dataframe tbody tr th:only-of-type {\n",
       "        vertical-align: middle;\n",
       "    }\n",
       "\n",
       "    .dataframe tbody tr th {\n",
       "        vertical-align: top;\n",
       "    }\n",
       "\n",
       "    .dataframe thead th {\n",
       "        text-align: right;\n",
       "    }\n",
       "</style>\n",
       "<table border=\"1\" class=\"dataframe\">\n",
       "  <thead>\n",
       "    <tr style=\"text-align: right;\">\n",
       "      <th></th>\n",
       "      <th>title</th>\n",
       "      <th>year</th>\n",
       "      <th>country</th>\n",
       "      <th>date</th>\n",
       "    </tr>\n",
       "  </thead>\n",
       "  <tbody>\n",
       "    <tr>\n",
       "      <th>408261</th>\n",
       "      <td>Treasure Island</td>\n",
       "      <td>1918</td>\n",
       "      <td>USA</td>\n",
       "      <td>1918-01-27</td>\n",
       "    </tr>\n",
       "    <tr>\n",
       "      <th>408266</th>\n",
       "      <td>Treasure Island</td>\n",
       "      <td>1920</td>\n",
       "      <td>Finland</td>\n",
       "      <td>1923-04-01</td>\n",
       "    </tr>\n",
       "    <tr>\n",
       "      <th>408265</th>\n",
       "      <td>Treasure Island</td>\n",
       "      <td>1920</td>\n",
       "      <td>France</td>\n",
       "      <td>1923-01-12</td>\n",
       "    </tr>\n",
       "    <tr>\n",
       "      <th>408264</th>\n",
       "      <td>Treasure Island</td>\n",
       "      <td>1920</td>\n",
       "      <td>UK</td>\n",
       "      <td>1921-06-20</td>\n",
       "    </tr>\n",
       "    <tr>\n",
       "      <th>408263</th>\n",
       "      <td>Treasure Island</td>\n",
       "      <td>1920</td>\n",
       "      <td>Sweden</td>\n",
       "      <td>1921-03-19</td>\n",
       "    </tr>\n",
       "    <tr>\n",
       "      <th>408262</th>\n",
       "      <td>Treasure Island</td>\n",
       "      <td>1920</td>\n",
       "      <td>USA</td>\n",
       "      <td>1920-04-04</td>\n",
       "    </tr>\n",
       "    <tr>\n",
       "      <th>408267</th>\n",
       "      <td>Treasure Island</td>\n",
       "      <td>1934</td>\n",
       "      <td>USA</td>\n",
       "      <td>1934-08-17</td>\n",
       "    </tr>\n",
       "    <tr>\n",
       "      <th>408269</th>\n",
       "      <td>Treasure Island</td>\n",
       "      <td>1934</td>\n",
       "      <td>Spain</td>\n",
       "      <td>1934-12-28</td>\n",
       "    </tr>\n",
       "    <tr>\n",
       "      <th>408268</th>\n",
       "      <td>Treasure Island</td>\n",
       "      <td>1934</td>\n",
       "      <td>Denmark</td>\n",
       "      <td>1934-12-26</td>\n",
       "    </tr>\n",
       "    <tr>\n",
       "      <th>408272</th>\n",
       "      <td>Treasure Island</td>\n",
       "      <td>1934</td>\n",
       "      <td>France</td>\n",
       "      <td>1935-02-08</td>\n",
       "    </tr>\n",
       "    <tr>\n",
       "      <th>408270</th>\n",
       "      <td>Treasure Island</td>\n",
       "      <td>1934</td>\n",
       "      <td>Sweden</td>\n",
       "      <td>1935-01-07</td>\n",
       "    </tr>\n",
       "    <tr>\n",
       "      <th>408273</th>\n",
       "      <td>Treasure Island</td>\n",
       "      <td>1934</td>\n",
       "      <td>Portugal</td>\n",
       "      <td>1936-01-07</td>\n",
       "    </tr>\n",
       "    <tr>\n",
       "      <th>408271</th>\n",
       "      <td>Treasure Island</td>\n",
       "      <td>1934</td>\n",
       "      <td>Finland</td>\n",
       "      <td>1935-01-20</td>\n",
       "    </tr>\n",
       "    <tr>\n",
       "      <th>386104</th>\n",
       "      <td>The Secret of Treasure Island</td>\n",
       "      <td>1938</td>\n",
       "      <td>USA</td>\n",
       "      <td>1938-03-17</td>\n",
       "    </tr>\n",
       "    <tr>\n",
       "      <th>386105</th>\n",
       "      <td>The Secret of Treasure Island</td>\n",
       "      <td>1938</td>\n",
       "      <td>Portugal</td>\n",
       "      <td>1939-05-03</td>\n",
       "    </tr>\n",
       "    <tr>\n",
       "      <th>408274</th>\n",
       "      <td>Treasure Island</td>\n",
       "      <td>1950</td>\n",
       "      <td>USA</td>\n",
       "      <td>1950-07-19</td>\n",
       "    </tr>\n",
       "    <tr>\n",
       "      <th>408288</th>\n",
       "      <td>Treasure Island</td>\n",
       "      <td>1950</td>\n",
       "      <td>Spain</td>\n",
       "      <td>1953-04-04</td>\n",
       "    </tr>\n",
       "    <tr>\n",
       "      <th>408287</th>\n",
       "      <td>Treasure Island</td>\n",
       "      <td>1950</td>\n",
       "      <td>Austria</td>\n",
       "      <td>1952-11-14</td>\n",
       "    </tr>\n",
       "    <tr>\n",
       "      <th>408286</th>\n",
       "      <td>Treasure Island</td>\n",
       "      <td>1950</td>\n",
       "      <td>West Germany</td>\n",
       "      <td>1952-03-17</td>\n",
       "    </tr>\n",
       "    <tr>\n",
       "      <th>408285</th>\n",
       "      <td>Treasure Island</td>\n",
       "      <td>1950</td>\n",
       "      <td>Hong Kong</td>\n",
       "      <td>1952-01-10</td>\n",
       "    </tr>\n",
       "    <tr>\n",
       "      <th>408284</th>\n",
       "      <td>Treasure Island</td>\n",
       "      <td>1950</td>\n",
       "      <td>Japan</td>\n",
       "      <td>1951-12-27</td>\n",
       "    </tr>\n",
       "    <tr>\n",
       "      <th>408283</th>\n",
       "      <td>Treasure Island</td>\n",
       "      <td>1950</td>\n",
       "      <td>Finland</td>\n",
       "      <td>1951-11-09</td>\n",
       "    </tr>\n",
       "    <tr>\n",
       "      <th>408282</th>\n",
       "      <td>Treasure Island</td>\n",
       "      <td>1950</td>\n",
       "      <td>Australia</td>\n",
       "      <td>1951-05-18</td>\n",
       "    </tr>\n",
       "    <tr>\n",
       "      <th>408275</th>\n",
       "      <td>Treasure Island</td>\n",
       "      <td>1950</td>\n",
       "      <td>Ireland</td>\n",
       "      <td>1950-10-20</td>\n",
       "    </tr>\n",
       "    <tr>\n",
       "      <th>408281</th>\n",
       "      <td>Treasure Island</td>\n",
       "      <td>1950</td>\n",
       "      <td>Denmark</td>\n",
       "      <td>1951-05-11</td>\n",
       "    </tr>\n",
       "    <tr>\n",
       "      <th>408278</th>\n",
       "      <td>Treasure Island</td>\n",
       "      <td>1950</td>\n",
       "      <td>Italy</td>\n",
       "      <td>1951-03-08</td>\n",
       "    </tr>\n",
       "    <tr>\n",
       "      <th>408276</th>\n",
       "      <td>Treasure Island</td>\n",
       "      <td>1950</td>\n",
       "      <td>Sweden</td>\n",
       "      <td>1950-11-27</td>\n",
       "    </tr>\n",
       "    <tr>\n",
       "      <th>408279</th>\n",
       "      <td>Treasure Island</td>\n",
       "      <td>1950</td>\n",
       "      <td>Portugal</td>\n",
       "      <td>1951-03-29</td>\n",
       "    </tr>\n",
       "    <tr>\n",
       "      <th>408280</th>\n",
       "      <td>Treasure Island</td>\n",
       "      <td>1950</td>\n",
       "      <td>France</td>\n",
       "      <td>1951-04-20</td>\n",
       "    </tr>\n",
       "    <tr>\n",
       "      <th>408277</th>\n",
       "      <td>Treasure Island</td>\n",
       "      <td>1950</td>\n",
       "      <td>Argentina</td>\n",
       "      <td>1951-01-17</td>\n",
       "    </tr>\n",
       "    <tr>\n",
       "      <th>283451</th>\n",
       "      <td>Return to Treasure Island</td>\n",
       "      <td>1954</td>\n",
       "      <td>Denmark</td>\n",
       "      <td>1955-12-26</td>\n",
       "    </tr>\n",
       "    <tr>\n",
       "      <th>283450</th>\n",
       "      <td>Return to Treasure Island</td>\n",
       "      <td>1954</td>\n",
       "      <td>Sweden</td>\n",
       "      <td>1955-06-27</td>\n",
       "    </tr>\n",
       "    <tr>\n",
       "      <th>283449</th>\n",
       "      <td>Return to Treasure Island</td>\n",
       "      <td>1954</td>\n",
       "      <td>Finland</td>\n",
       "      <td>1955-03-25</td>\n",
       "    </tr>\n",
       "    <tr>\n",
       "      <th>283448</th>\n",
       "      <td>Return to Treasure Island</td>\n",
       "      <td>1954</td>\n",
       "      <td>USA</td>\n",
       "      <td>1954-06-30</td>\n",
       "    </tr>\n",
       "    <tr>\n",
       "      <th>115442</th>\n",
       "      <td>Five on a Treasure Island</td>\n",
       "      <td>1957</td>\n",
       "      <td>Sweden</td>\n",
       "      <td>1958-03-23</td>\n",
       "    </tr>\n",
       "    <tr>\n",
       "      <th>115443</th>\n",
       "      <td>Five on a Treasure Island</td>\n",
       "      <td>1957</td>\n",
       "      <td>Finland</td>\n",
       "      <td>1959-12-11</td>\n",
       "    </tr>\n",
       "    <tr>\n",
       "      <th>408294</th>\n",
       "      <td>Treasure Island</td>\n",
       "      <td>1972</td>\n",
       "      <td>Hungary</td>\n",
       "      <td>1977-01-27</td>\n",
       "    </tr>\n",
       "    <tr>\n",
       "      <th>408293</th>\n",
       "      <td>Treasure Island</td>\n",
       "      <td>1972</td>\n",
       "      <td>Finland</td>\n",
       "      <td>1974-12-20</td>\n",
       "    </tr>\n",
       "    <tr>\n",
       "      <th>408292</th>\n",
       "      <td>Treasure Island</td>\n",
       "      <td>1972</td>\n",
       "      <td>France</td>\n",
       "      <td>1973-10-25</td>\n",
       "    </tr>\n",
       "    <tr>\n",
       "      <th>408291</th>\n",
       "      <td>Treasure Island</td>\n",
       "      <td>1972</td>\n",
       "      <td>Italy</td>\n",
       "      <td>1973-08-13</td>\n",
       "    </tr>\n",
       "    <tr>\n",
       "      <th>408290</th>\n",
       "      <td>Treasure Island</td>\n",
       "      <td>1972</td>\n",
       "      <td>West Germany</td>\n",
       "      <td>1972-12-26</td>\n",
       "    </tr>\n",
       "    <tr>\n",
       "      <th>408289</th>\n",
       "      <td>Treasure Island</td>\n",
       "      <td>1972</td>\n",
       "      <td>UK</td>\n",
       "      <td>1972-10-30</td>\n",
       "    </tr>\n",
       "    <tr>\n",
       "      <th>408295</th>\n",
       "      <td>Treasure Island</td>\n",
       "      <td>1972</td>\n",
       "      <td>Poland</td>\n",
       "      <td>1978-02-03</td>\n",
       "    </tr>\n",
       "    <tr>\n",
       "      <th>408296</th>\n",
       "      <td>Treasure Island</td>\n",
       "      <td>1985</td>\n",
       "      <td>France</td>\n",
       "      <td>1994-06-15</td>\n",
       "    </tr>\n",
       "    <tr>\n",
       "      <th>236843</th>\n",
       "      <td>Muppet Treasure Island</td>\n",
       "      <td>1996</td>\n",
       "      <td>USA</td>\n",
       "      <td>1996-02-16</td>\n",
       "    </tr>\n",
       "    <tr>\n",
       "      <th>236844</th>\n",
       "      <td>Muppet Treasure Island</td>\n",
       "      <td>1996</td>\n",
       "      <td>UK</td>\n",
       "      <td>1996-05-24</td>\n",
       "    </tr>\n",
       "    <tr>\n",
       "      <th>236845</th>\n",
       "      <td>Muppet Treasure Island</td>\n",
       "      <td>1996</td>\n",
       "      <td>Brazil</td>\n",
       "      <td>1996-06-14</td>\n",
       "    </tr>\n",
       "    <tr>\n",
       "      <th>236846</th>\n",
       "      <td>Muppet Treasure Island</td>\n",
       "      <td>1996</td>\n",
       "      <td>Spain</td>\n",
       "      <td>1996-06-26</td>\n",
       "    </tr>\n",
       "    <tr>\n",
       "      <th>236848</th>\n",
       "      <td>Muppet Treasure Island</td>\n",
       "      <td>1996</td>\n",
       "      <td>Denmark</td>\n",
       "      <td>1996-06-28</td>\n",
       "    </tr>\n",
       "    <tr>\n",
       "      <th>236849</th>\n",
       "      <td>Muppet Treasure Island</td>\n",
       "      <td>1996</td>\n",
       "      <td>Sweden</td>\n",
       "      <td>1996-06-28</td>\n",
       "    </tr>\n",
       "    <tr>\n",
       "      <th>236850</th>\n",
       "      <td>Muppet Treasure Island</td>\n",
       "      <td>1996</td>\n",
       "      <td>Ireland</td>\n",
       "      <td>1996-07-05</td>\n",
       "    </tr>\n",
       "    <tr>\n",
       "      <th>236851</th>\n",
       "      <td>Muppet Treasure Island</td>\n",
       "      <td>1996</td>\n",
       "      <td>Germany</td>\n",
       "      <td>1996-07-11</td>\n",
       "    </tr>\n",
       "    <tr>\n",
       "      <th>236852</th>\n",
       "      <td>Muppet Treasure Island</td>\n",
       "      <td>1996</td>\n",
       "      <td>South Africa</td>\n",
       "      <td>1996-08-23</td>\n",
       "    </tr>\n",
       "    <tr>\n",
       "      <th>236853</th>\n",
       "      <td>Muppet Treasure Island</td>\n",
       "      <td>1996</td>\n",
       "      <td>Italy</td>\n",
       "      <td>1996-08-29</td>\n",
       "    </tr>\n",
       "    <tr>\n",
       "      <th>236847</th>\n",
       "      <td>Muppet Treasure Island</td>\n",
       "      <td>1996</td>\n",
       "      <td>Australia</td>\n",
       "      <td>1996-06-27</td>\n",
       "    </tr>\n",
       "    <tr>\n",
       "      <th>267148</th>\n",
       "      <td>Pirates of Treasure Island</td>\n",
       "      <td>2006</td>\n",
       "      <td>USA</td>\n",
       "      <td>2006-06-27</td>\n",
       "    </tr>\n",
       "    <tr>\n",
       "      <th>242052</th>\n",
       "      <td>National Theatre Live: Treasure Island</td>\n",
       "      <td>2015</td>\n",
       "      <td>UK</td>\n",
       "      <td>2015-01-22</td>\n",
       "    </tr>\n",
       "    <tr>\n",
       "      <th>242053</th>\n",
       "      <td>National Theatre Live: Treasure Island</td>\n",
       "      <td>2015</td>\n",
       "      <td>Poland</td>\n",
       "      <td>2015-02-24</td>\n",
       "    </tr>\n",
       "    <tr>\n",
       "      <th>242054</th>\n",
       "      <td>National Theatre Live: Treasure Island</td>\n",
       "      <td>2015</td>\n",
       "      <td>Japan</td>\n",
       "      <td>2015-09-11</td>\n",
       "    </tr>\n",
       "  </tbody>\n",
       "</table>\n",
       "</div>"
      ],
      "text/plain": [
       "                                         title  year       country        date\n",
       "408261                         Treasure Island  1918           USA  1918-01-27\n",
       "408266                         Treasure Island  1920       Finland  1923-04-01\n",
       "408265                         Treasure Island  1920        France  1923-01-12\n",
       "408264                         Treasure Island  1920            UK  1921-06-20\n",
       "408263                         Treasure Island  1920        Sweden  1921-03-19\n",
       "408262                         Treasure Island  1920           USA  1920-04-04\n",
       "408267                         Treasure Island  1934           USA  1934-08-17\n",
       "408269                         Treasure Island  1934         Spain  1934-12-28\n",
       "408268                         Treasure Island  1934       Denmark  1934-12-26\n",
       "408272                         Treasure Island  1934        France  1935-02-08\n",
       "408270                         Treasure Island  1934        Sweden  1935-01-07\n",
       "408273                         Treasure Island  1934      Portugal  1936-01-07\n",
       "408271                         Treasure Island  1934       Finland  1935-01-20\n",
       "386104           The Secret of Treasure Island  1938           USA  1938-03-17\n",
       "386105           The Secret of Treasure Island  1938      Portugal  1939-05-03\n",
       "408274                         Treasure Island  1950           USA  1950-07-19\n",
       "408288                         Treasure Island  1950         Spain  1953-04-04\n",
       "408287                         Treasure Island  1950       Austria  1952-11-14\n",
       "408286                         Treasure Island  1950  West Germany  1952-03-17\n",
       "408285                         Treasure Island  1950     Hong Kong  1952-01-10\n",
       "408284                         Treasure Island  1950         Japan  1951-12-27\n",
       "408283                         Treasure Island  1950       Finland  1951-11-09\n",
       "408282                         Treasure Island  1950     Australia  1951-05-18\n",
       "408275                         Treasure Island  1950       Ireland  1950-10-20\n",
       "408281                         Treasure Island  1950       Denmark  1951-05-11\n",
       "408278                         Treasure Island  1950         Italy  1951-03-08\n",
       "408276                         Treasure Island  1950        Sweden  1950-11-27\n",
       "408279                         Treasure Island  1950      Portugal  1951-03-29\n",
       "408280                         Treasure Island  1950        France  1951-04-20\n",
       "408277                         Treasure Island  1950     Argentina  1951-01-17\n",
       "283451               Return to Treasure Island  1954       Denmark  1955-12-26\n",
       "283450               Return to Treasure Island  1954        Sweden  1955-06-27\n",
       "283449               Return to Treasure Island  1954       Finland  1955-03-25\n",
       "283448               Return to Treasure Island  1954           USA  1954-06-30\n",
       "115442               Five on a Treasure Island  1957        Sweden  1958-03-23\n",
       "115443               Five on a Treasure Island  1957       Finland  1959-12-11\n",
       "408294                         Treasure Island  1972       Hungary  1977-01-27\n",
       "408293                         Treasure Island  1972       Finland  1974-12-20\n",
       "408292                         Treasure Island  1972        France  1973-10-25\n",
       "408291                         Treasure Island  1972         Italy  1973-08-13\n",
       "408290                         Treasure Island  1972  West Germany  1972-12-26\n",
       "408289                         Treasure Island  1972            UK  1972-10-30\n",
       "408295                         Treasure Island  1972        Poland  1978-02-03\n",
       "408296                         Treasure Island  1985        France  1994-06-15\n",
       "236843                  Muppet Treasure Island  1996           USA  1996-02-16\n",
       "236844                  Muppet Treasure Island  1996            UK  1996-05-24\n",
       "236845                  Muppet Treasure Island  1996        Brazil  1996-06-14\n",
       "236846                  Muppet Treasure Island  1996         Spain  1996-06-26\n",
       "236848                  Muppet Treasure Island  1996       Denmark  1996-06-28\n",
       "236849                  Muppet Treasure Island  1996        Sweden  1996-06-28\n",
       "236850                  Muppet Treasure Island  1996       Ireland  1996-07-05\n",
       "236851                  Muppet Treasure Island  1996       Germany  1996-07-11\n",
       "236852                  Muppet Treasure Island  1996  South Africa  1996-08-23\n",
       "236853                  Muppet Treasure Island  1996         Italy  1996-08-29\n",
       "236847                  Muppet Treasure Island  1996     Australia  1996-06-27\n",
       "267148              Pirates of Treasure Island  2006           USA  2006-06-27\n",
       "242052  National Theatre Live: Treasure Island  2015            UK  2015-01-22\n",
       "242053  National Theatre Live: Treasure Island  2015        Poland  2015-02-24\n",
       "242054  National Theatre Live: Treasure Island  2015         Japan  2015-09-11"
      ]
     },
     "execution_count": 30,
     "metadata": {},
     "output_type": "execute_result"
    }
   ],
   "source": [
    "#movies that contain “Treasure Island\" in their title\n",
    "release_dates[release_dates['title'].str.contains(\"Treasure Island\")].sort_values(by='year')"
   ]
  },
  {
   "cell_type": "code",
   "execution_count": 31,
   "id": "9d8b3f9a",
   "metadata": {
    "scrolled": true
   },
   "outputs": [
    {
     "data": {
      "text/html": [
       "<div>\n",
       "<style scoped>\n",
       "    .dataframe tbody tr th:only-of-type {\n",
       "        vertical-align: middle;\n",
       "    }\n",
       "\n",
       "    .dataframe tbody tr th {\n",
       "        vertical-align: top;\n",
       "    }\n",
       "\n",
       "    .dataframe thead th {\n",
       "        text-align: right;\n",
       "    }\n",
       "</style>\n",
       "<table border=\"1\" class=\"dataframe\">\n",
       "  <thead>\n",
       "    <tr style=\"text-align: right;\">\n",
       "      <th></th>\n",
       "      <th>title</th>\n",
       "      <th>year</th>\n",
       "      <th>country</th>\n",
       "      <th>date</th>\n",
       "    </tr>\n",
       "  </thead>\n",
       "  <tbody>\n",
       "    <tr>\n",
       "      <th>408261</th>\n",
       "      <td>Treasure Island</td>\n",
       "      <td>1918</td>\n",
       "      <td>USA</td>\n",
       "      <td>1918-01-27</td>\n",
       "    </tr>\n",
       "    <tr>\n",
       "      <th>408262</th>\n",
       "      <td>Treasure Island</td>\n",
       "      <td>1920</td>\n",
       "      <td>USA</td>\n",
       "      <td>1920-04-04</td>\n",
       "    </tr>\n",
       "    <tr>\n",
       "      <th>408263</th>\n",
       "      <td>Treasure Island</td>\n",
       "      <td>1920</td>\n",
       "      <td>Sweden</td>\n",
       "      <td>1921-03-19</td>\n",
       "    </tr>\n",
       "    <tr>\n",
       "      <th>408264</th>\n",
       "      <td>Treasure Island</td>\n",
       "      <td>1920</td>\n",
       "      <td>UK</td>\n",
       "      <td>1921-06-20</td>\n",
       "    </tr>\n",
       "    <tr>\n",
       "      <th>408265</th>\n",
       "      <td>Treasure Island</td>\n",
       "      <td>1920</td>\n",
       "      <td>France</td>\n",
       "      <td>1923-01-12</td>\n",
       "    </tr>\n",
       "    <tr>\n",
       "      <th>408266</th>\n",
       "      <td>Treasure Island</td>\n",
       "      <td>1920</td>\n",
       "      <td>Finland</td>\n",
       "      <td>1923-04-01</td>\n",
       "    </tr>\n",
       "    <tr>\n",
       "      <th>408273</th>\n",
       "      <td>Treasure Island</td>\n",
       "      <td>1934</td>\n",
       "      <td>Portugal</td>\n",
       "      <td>1936-01-07</td>\n",
       "    </tr>\n",
       "    <tr>\n",
       "      <th>408272</th>\n",
       "      <td>Treasure Island</td>\n",
       "      <td>1934</td>\n",
       "      <td>France</td>\n",
       "      <td>1935-02-08</td>\n",
       "    </tr>\n",
       "    <tr>\n",
       "      <th>408271</th>\n",
       "      <td>Treasure Island</td>\n",
       "      <td>1934</td>\n",
       "      <td>Finland</td>\n",
       "      <td>1935-01-20</td>\n",
       "    </tr>\n",
       "    <tr>\n",
       "      <th>408270</th>\n",
       "      <td>Treasure Island</td>\n",
       "      <td>1934</td>\n",
       "      <td>Sweden</td>\n",
       "      <td>1935-01-07</td>\n",
       "    </tr>\n",
       "    <tr>\n",
       "      <th>408269</th>\n",
       "      <td>Treasure Island</td>\n",
       "      <td>1934</td>\n",
       "      <td>Spain</td>\n",
       "      <td>1934-12-28</td>\n",
       "    </tr>\n",
       "    <tr>\n",
       "      <th>408268</th>\n",
       "      <td>Treasure Island</td>\n",
       "      <td>1934</td>\n",
       "      <td>Denmark</td>\n",
       "      <td>1934-12-26</td>\n",
       "    </tr>\n",
       "    <tr>\n",
       "      <th>408267</th>\n",
       "      <td>Treasure Island</td>\n",
       "      <td>1934</td>\n",
       "      <td>USA</td>\n",
       "      <td>1934-08-17</td>\n",
       "    </tr>\n",
       "    <tr>\n",
       "      <th>408288</th>\n",
       "      <td>Treasure Island</td>\n",
       "      <td>1950</td>\n",
       "      <td>Spain</td>\n",
       "      <td>1953-04-04</td>\n",
       "    </tr>\n",
       "    <tr>\n",
       "      <th>408287</th>\n",
       "      <td>Treasure Island</td>\n",
       "      <td>1950</td>\n",
       "      <td>Austria</td>\n",
       "      <td>1952-11-14</td>\n",
       "    </tr>\n",
       "    <tr>\n",
       "      <th>408286</th>\n",
       "      <td>Treasure Island</td>\n",
       "      <td>1950</td>\n",
       "      <td>West Germany</td>\n",
       "      <td>1952-03-17</td>\n",
       "    </tr>\n",
       "    <tr>\n",
       "      <th>408285</th>\n",
       "      <td>Treasure Island</td>\n",
       "      <td>1950</td>\n",
       "      <td>Hong Kong</td>\n",
       "      <td>1952-01-10</td>\n",
       "    </tr>\n",
       "    <tr>\n",
       "      <th>408284</th>\n",
       "      <td>Treasure Island</td>\n",
       "      <td>1950</td>\n",
       "      <td>Japan</td>\n",
       "      <td>1951-12-27</td>\n",
       "    </tr>\n",
       "    <tr>\n",
       "      <th>408283</th>\n",
       "      <td>Treasure Island</td>\n",
       "      <td>1950</td>\n",
       "      <td>Finland</td>\n",
       "      <td>1951-11-09</td>\n",
       "    </tr>\n",
       "    <tr>\n",
       "      <th>408282</th>\n",
       "      <td>Treasure Island</td>\n",
       "      <td>1950</td>\n",
       "      <td>Australia</td>\n",
       "      <td>1951-05-18</td>\n",
       "    </tr>\n",
       "    <tr>\n",
       "      <th>408278</th>\n",
       "      <td>Treasure Island</td>\n",
       "      <td>1950</td>\n",
       "      <td>Italy</td>\n",
       "      <td>1951-03-08</td>\n",
       "    </tr>\n",
       "    <tr>\n",
       "      <th>408280</th>\n",
       "      <td>Treasure Island</td>\n",
       "      <td>1950</td>\n",
       "      <td>France</td>\n",
       "      <td>1951-04-20</td>\n",
       "    </tr>\n",
       "    <tr>\n",
       "      <th>408279</th>\n",
       "      <td>Treasure Island</td>\n",
       "      <td>1950</td>\n",
       "      <td>Portugal</td>\n",
       "      <td>1951-03-29</td>\n",
       "    </tr>\n",
       "    <tr>\n",
       "      <th>408277</th>\n",
       "      <td>Treasure Island</td>\n",
       "      <td>1950</td>\n",
       "      <td>Argentina</td>\n",
       "      <td>1951-01-17</td>\n",
       "    </tr>\n",
       "    <tr>\n",
       "      <th>408276</th>\n",
       "      <td>Treasure Island</td>\n",
       "      <td>1950</td>\n",
       "      <td>Sweden</td>\n",
       "      <td>1950-11-27</td>\n",
       "    </tr>\n",
       "    <tr>\n",
       "      <th>408275</th>\n",
       "      <td>Treasure Island</td>\n",
       "      <td>1950</td>\n",
       "      <td>Ireland</td>\n",
       "      <td>1950-10-20</td>\n",
       "    </tr>\n",
       "    <tr>\n",
       "      <th>408274</th>\n",
       "      <td>Treasure Island</td>\n",
       "      <td>1950</td>\n",
       "      <td>USA</td>\n",
       "      <td>1950-07-19</td>\n",
       "    </tr>\n",
       "    <tr>\n",
       "      <th>408281</th>\n",
       "      <td>Treasure Island</td>\n",
       "      <td>1950</td>\n",
       "      <td>Denmark</td>\n",
       "      <td>1951-05-11</td>\n",
       "    </tr>\n",
       "    <tr>\n",
       "      <th>408295</th>\n",
       "      <td>Treasure Island</td>\n",
       "      <td>1972</td>\n",
       "      <td>Poland</td>\n",
       "      <td>1978-02-03</td>\n",
       "    </tr>\n",
       "    <tr>\n",
       "      <th>408289</th>\n",
       "      <td>Treasure Island</td>\n",
       "      <td>1972</td>\n",
       "      <td>UK</td>\n",
       "      <td>1972-10-30</td>\n",
       "    </tr>\n",
       "    <tr>\n",
       "      <th>408290</th>\n",
       "      <td>Treasure Island</td>\n",
       "      <td>1972</td>\n",
       "      <td>West Germany</td>\n",
       "      <td>1972-12-26</td>\n",
       "    </tr>\n",
       "    <tr>\n",
       "      <th>408291</th>\n",
       "      <td>Treasure Island</td>\n",
       "      <td>1972</td>\n",
       "      <td>Italy</td>\n",
       "      <td>1973-08-13</td>\n",
       "    </tr>\n",
       "    <tr>\n",
       "      <th>408292</th>\n",
       "      <td>Treasure Island</td>\n",
       "      <td>1972</td>\n",
       "      <td>France</td>\n",
       "      <td>1973-10-25</td>\n",
       "    </tr>\n",
       "    <tr>\n",
       "      <th>408293</th>\n",
       "      <td>Treasure Island</td>\n",
       "      <td>1972</td>\n",
       "      <td>Finland</td>\n",
       "      <td>1974-12-20</td>\n",
       "    </tr>\n",
       "    <tr>\n",
       "      <th>408294</th>\n",
       "      <td>Treasure Island</td>\n",
       "      <td>1972</td>\n",
       "      <td>Hungary</td>\n",
       "      <td>1977-01-27</td>\n",
       "    </tr>\n",
       "    <tr>\n",
       "      <th>408296</th>\n",
       "      <td>Treasure Island</td>\n",
       "      <td>1985</td>\n",
       "      <td>France</td>\n",
       "      <td>1994-06-15</td>\n",
       "    </tr>\n",
       "  </tbody>\n",
       "</table>\n",
       "</div>"
      ],
      "text/plain": [
       "                  title  year       country        date\n",
       "408261  Treasure Island  1918           USA  1918-01-27\n",
       "408262  Treasure Island  1920           USA  1920-04-04\n",
       "408263  Treasure Island  1920        Sweden  1921-03-19\n",
       "408264  Treasure Island  1920            UK  1921-06-20\n",
       "408265  Treasure Island  1920        France  1923-01-12\n",
       "408266  Treasure Island  1920       Finland  1923-04-01\n",
       "408273  Treasure Island  1934      Portugal  1936-01-07\n",
       "408272  Treasure Island  1934        France  1935-02-08\n",
       "408271  Treasure Island  1934       Finland  1935-01-20\n",
       "408270  Treasure Island  1934        Sweden  1935-01-07\n",
       "408269  Treasure Island  1934         Spain  1934-12-28\n",
       "408268  Treasure Island  1934       Denmark  1934-12-26\n",
       "408267  Treasure Island  1934           USA  1934-08-17\n",
       "408288  Treasure Island  1950         Spain  1953-04-04\n",
       "408287  Treasure Island  1950       Austria  1952-11-14\n",
       "408286  Treasure Island  1950  West Germany  1952-03-17\n",
       "408285  Treasure Island  1950     Hong Kong  1952-01-10\n",
       "408284  Treasure Island  1950         Japan  1951-12-27\n",
       "408283  Treasure Island  1950       Finland  1951-11-09\n",
       "408282  Treasure Island  1950     Australia  1951-05-18\n",
       "408278  Treasure Island  1950         Italy  1951-03-08\n",
       "408280  Treasure Island  1950        France  1951-04-20\n",
       "408279  Treasure Island  1950      Portugal  1951-03-29\n",
       "408277  Treasure Island  1950     Argentina  1951-01-17\n",
       "408276  Treasure Island  1950        Sweden  1950-11-27\n",
       "408275  Treasure Island  1950       Ireland  1950-10-20\n",
       "408274  Treasure Island  1950           USA  1950-07-19\n",
       "408281  Treasure Island  1950       Denmark  1951-05-11\n",
       "408295  Treasure Island  1972        Poland  1978-02-03\n",
       "408289  Treasure Island  1972            UK  1972-10-30\n",
       "408290  Treasure Island  1972  West Germany  1972-12-26\n",
       "408291  Treasure Island  1972         Italy  1973-08-13\n",
       "408292  Treasure Island  1972        France  1973-10-25\n",
       "408293  Treasure Island  1972       Finland  1974-12-20\n",
       "408294  Treasure Island  1972       Hungary  1977-01-27\n",
       "408296  Treasure Island  1985        France  1994-06-15"
      ]
     },
     "execution_count": 31,
     "metadata": {},
     "output_type": "execute_result"
    }
   ],
   "source": [
    "#movies which title equal to “Treasure Island\"\n",
    "release_dates[release_dates['title']==\"Treasure Island\"].sort_values(by='year')"
   ]
  },
  {
   "cell_type": "markdown",
   "id": "a94f4524",
   "metadata": {},
   "source": [
    "### 5. How many movies were made in 1950? 1980? 2000? What conclusions can you draw from these data points?\n",
    "\n",
    "3049 movies were made in 1950. 2912 movies were made in 1980. 7216 movies were made in 2000.\n",
    "\n",
    "The numbers of movies made in 1950 and 1980 are similar to each other, but in 2000, the number of movies is more than doubled. Thus, it is possible to assume that the number of movies increases significantly in the 21th century."
   ]
  },
  {
   "cell_type": "code",
   "execution_count": 32,
   "id": "8d44bdb2",
   "metadata": {},
   "outputs": [
    {
     "name": "stdout",
     "output_type": "stream",
     "text": [
      "3049 movies made in 1950\n",
      "2912 movies made in 1980\n",
      "7216 movies made in 2000\n"
     ]
    }
   ],
   "source": [
    "print(release_dates['year'][release_dates['year']==1950].count(), \"movies made in 1950\")\n",
    "\n",
    "print(release_dates['year'][release_dates['year']==1980].count(), \"movies made in 1980\")\n",
    "\n",
    "print(release_dates['year'][release_dates['year']==2000].count(), \"movies made in 2000\")"
   ]
  },
  {
   "cell_type": "markdown",
   "id": "0c34799c",
   "metadata": {},
   "source": [
    "### 6. How big was the cast of Metropolis\n",
    "The number of casts for the movie with title \"Metropolis\" is 33. "
   ]
  },
  {
   "cell_type": "code",
   "execution_count": 33,
   "id": "d43aa7f6",
   "metadata": {},
   "outputs": [
    {
     "data": {
      "text/plain": [
       "33"
      ]
     },
     "execution_count": 33,
     "metadata": {},
     "output_type": "execute_result"
    }
   ],
   "source": [
    "cast['name'][cast['title']==\"Metropolis\"].count()"
   ]
  },
  {
   "cell_type": "markdown",
   "id": "7dead3d7",
   "metadata": {},
   "source": [
    "### 7. How many roles for actors were there 1950's? 1990's\n",
    "\n",
    "There are 153559 total roles for actors in 1950s.\n",
    "\n",
    "There are 90603  total unique roles for actors in 1950s.\n",
    "\n",
    "There are 245713   total roles for actors in 1990s.\n",
    "\n",
    "There are 134449   total unique roles for actors in 1990s."
   ]
  },
  {
   "cell_type": "code",
   "execution_count": 34,
   "id": "9f7336d3",
   "metadata": {},
   "outputs": [
    {
     "name": "stdout",
     "output_type": "stream",
     "text": [
      "153559 total roles for actors in 1950\n",
      "90603 total unique roles for actors in 1950\n",
      "245713 total roles for actors in 1990\n",
      "134449 total unique roles for actors in 1990\n"
     ]
    }
   ],
   "source": [
    "print(cast['character'][(cast['type']=='actor')&(cast['year']>=1950)&(cast['year']<1960)].count(), \"total roles for actors in 1950\")\n",
    "\n",
    "print(cast['character'][(cast['type']=='actor')&(cast['year']>=1950)&(cast['year']<1960)].nunique(), \"total unique roles for actors in 1950\")\n",
    "\n",
    "print(cast['character'][(cast['type']=='actor')&(cast['year']>=1990)&(cast['year']<2000)].count(), \"total roles for actors in 1990\")\n",
    "\n",
    "print(cast['character'][(cast['type']=='actor')&(cast['year']>=1990)&(cast['year']<2000)].nunique(), \"total unique roles for actors in 1990\")"
   ]
  },
  {
   "cell_type": "markdown",
   "id": "3c5ad9f2",
   "metadata": {},
   "source": [
    "### 8. How many roles for actors & actresses over time? Output should be a line graph"
   ]
  },
  {
   "cell_type": "code",
   "execution_count": 35,
   "id": "a4401c78",
   "metadata": {},
   "outputs": [
    {
     "data": {
      "image/png": "[encoded data removed]",
      "text/plain": [
       "<Figure size 640x480 with 1 Axes>"
      ]
     },
     "metadata": {},
     "output_type": "display_data"
    }
   ],
   "source": [
    "year_type_group = cast.groupby(['year', 'type']).size().unstack()\n",
    "\n",
    "plt.plot(year_type_group)\n",
    "plt.xlabel('Year')\n",
    "plt.ylabel('Count')\n",
    "plt.title('Number of Actors and Actresses Over Time')\n",
    "plt.legend(['Actor','Actress' ], loc='best')\n",
    "plt.show()"
   ]
  },
  {
   "cell_type": "code",
   "execution_count": 36,
   "id": "05124123",
   "metadata": {},
   "outputs": [
    {
     "data": {
      "text/html": [
       "<div>\n",
       "<style scoped>\n",
       "    .dataframe tbody tr th:only-of-type {\n",
       "        vertical-align: middle;\n",
       "    }\n",
       "\n",
       "    .dataframe tbody tr th {\n",
       "        vertical-align: top;\n",
       "    }\n",
       "\n",
       "    .dataframe thead th {\n",
       "        text-align: right;\n",
       "    }\n",
       "</style>\n",
       "<table border=\"1\" class=\"dataframe\">\n",
       "  <thead>\n",
       "    <tr style=\"text-align: right;\">\n",
       "      <th>type</th>\n",
       "      <th>actor</th>\n",
       "      <th>actress</th>\n",
       "    </tr>\n",
       "    <tr>\n",
       "      <th>year</th>\n",
       "      <th></th>\n",
       "      <th></th>\n",
       "    </tr>\n",
       "  </thead>\n",
       "  <tbody>\n",
       "    <tr>\n",
       "      <th>1894</th>\n",
       "      <td>2.0</td>\n",
       "      <td>1.0</td>\n",
       "    </tr>\n",
       "    <tr>\n",
       "      <th>1900</th>\n",
       "      <td>2.0</td>\n",
       "      <td>NaN</td>\n",
       "    </tr>\n",
       "    <tr>\n",
       "      <th>1905</th>\n",
       "      <td>1.0</td>\n",
       "      <td>NaN</td>\n",
       "    </tr>\n",
       "    <tr>\n",
       "      <th>1906</th>\n",
       "      <td>14.0</td>\n",
       "      <td>3.0</td>\n",
       "    </tr>\n",
       "    <tr>\n",
       "      <th>1907</th>\n",
       "      <td>5.0</td>\n",
       "      <td>NaN</td>\n",
       "    </tr>\n",
       "    <tr>\n",
       "      <th>...</th>\n",
       "      <td>...</td>\n",
       "      <td>...</td>\n",
       "    </tr>\n",
       "    <tr>\n",
       "      <th>2021</th>\n",
       "      <td>14.0</td>\n",
       "      <td>20.0</td>\n",
       "    </tr>\n",
       "    <tr>\n",
       "      <th>2022</th>\n",
       "      <td>12.0</td>\n",
       "      <td>4.0</td>\n",
       "    </tr>\n",
       "    <tr>\n",
       "      <th>2023</th>\n",
       "      <td>2.0</td>\n",
       "      <td>NaN</td>\n",
       "    </tr>\n",
       "    <tr>\n",
       "      <th>2024</th>\n",
       "      <td>5.0</td>\n",
       "      <td>3.0</td>\n",
       "    </tr>\n",
       "    <tr>\n",
       "      <th>2025</th>\n",
       "      <td>5.0</td>\n",
       "      <td>4.0</td>\n",
       "    </tr>\n",
       "  </tbody>\n",
       "</table>\n",
       "<p>123 rows × 2 columns</p>\n",
       "</div>"
      ],
      "text/plain": [
       "type  actor  actress\n",
       "year                \n",
       "1894    2.0      1.0\n",
       "1900    2.0      NaN\n",
       "1905    1.0      NaN\n",
       "1906   14.0      3.0\n",
       "1907    5.0      NaN\n",
       "...     ...      ...\n",
       "2021   14.0     20.0\n",
       "2022   12.0      4.0\n",
       "2023    2.0      NaN\n",
       "2024    5.0      3.0\n",
       "2025    5.0      4.0\n",
       "\n",
       "[123 rows x 2 columns]"
      ]
     },
     "execution_count": 36,
     "metadata": {},
     "output_type": "execute_result"
    }
   ],
   "source": [
    "year_type_group"
   ]
  },
  {
   "cell_type": "markdown",
   "id": "5e3a04c7",
   "metadata": {},
   "source": [
    "### 9. How many \"leading roles\" were there in the 2000's?\n",
    "\n",
    "There are 23593 roles that has the \"1\" ranking/"
   ]
  },
  {
   "cell_type": "code",
   "execution_count": 37,
   "id": "be8f5bd0",
   "metadata": {},
   "outputs": [
    {
     "data": {
      "text/plain": [
       "23593"
      ]
     },
     "execution_count": 37,
     "metadata": {},
     "output_type": "execute_result"
    }
   ],
   "source": [
    "cast['n'][(cast['year']>=2000)&(cast['year']<2010)&(cast['n']==1)].count()"
   ]
  },
  {
   "cell_type": "markdown",
   "id": "a60c91b4",
   "metadata": {},
   "source": [
    "### 10. How many roles received no ranking in the 2000's? 1950's. What conclusions can you draw from these two data points?\n",
    "In 1950s, there are 95406 roles received no ranking, and it is 45.45523845824003 percent of total roles in the 1950s.\n",
    "\n",
    "In 2000s, there are 232037 roles received no ranking, and it is 34.32362908582054 percent of total roles in the 2000s.\n",
    "\n",
    "Based on these numbers, I learn that more although there are more roles in 2000s than 1950s, roles in the 2000s receive more ranking than those in the 1950s.\n",
    "\n"
   ]
  },
  {
   "cell_type": "code",
   "execution_count": 38,
   "id": "4b729250",
   "metadata": {},
   "outputs": [
    {
     "name": "stdout",
     "output_type": "stream",
     "text": [
      "In 1950s, there are 95406 roles received no ranking, and it is 45.45523845824003 percent of total roles in the 1950s\n",
      "In 2000s, there are 232037 roles received no ranking, and it is 34.32362908582054 percent of total roles in the 2000s\n"
     ]
    }
   ],
   "source": [
    "#count the number of roles received no ranking in the 1950s\n",
    "no_ranking_50 = cast['name'][(cast['year']>=1950)&(cast['year']<1960)&(cast['n'].isna())].count()\n",
    "#calculate the percentage of roles received no ranking in the 1950s by dividing the total roles in 1950s\n",
    "percentage_50=no_ranking_50/cast['character'][(cast['year']>=1950)&(cast['year']<1960)].count()*100\n",
    "print(\"In 1950s, there are\", no_ranking_50, \"roles received no ranking, and it is\", percentage_50,\"percent of total roles in the 1950s\")\n",
    "\n",
    "\n",
    "#count the number of roles received no ranking in the 2000s\n",
    "no_ranking_2000 = cast['name'][(cast['year']>=2000)&(cast['year']<2010)&(cast['n'].isna())].count()\n",
    "#calculate the percentage of roles received no ranking in the 2000s by dividing the total roles in 2000s\n",
    "percentage_2000=no_ranking_2000/cast['character'][(cast['year']>=2000)&(cast['year']<2010)].count()*100\n",
    "print(\"In 2000s, there are\", no_ranking_2000, \"roles received no ranking, and it is\", percentage_2000,\"percent of total roles in the 2000s\")\n"
   ]
  },
  {
   "cell_type": "markdown",
   "id": "33d9c249",
   "metadata": {},
   "source": [
    "### 11. Plot the number of films made in each decade"
   ]
  },
  {
   "cell_type": "code",
   "execution_count": 39,
   "id": "3f6c5b5a",
   "metadata": {},
   "outputs": [
    {
     "data": {
      "image/png": "[encoded data removed]",
      "text/plain": [
       "<Figure size 640x480 with 1 Axes>"
      ]
     },
     "metadata": {},
     "output_type": "display_data"
    }
   ],
   "source": [
    "#first create the bins of each decade of years\n",
    "bin_range = list(range(1890,2031,10)) #because the previous analysis shows that the minium is 1894 and the maximum after deleting 2115 is 2026\n",
    "bin_labels = [f'{start}-{start + 9}' for start in range(1890, 2030, 10)]\n",
    "\n",
    "#create a column for the bins\n",
    "titles['decade'] = pd.cut(titles['year'], bins=bin_range, labels=bin_labels, right=False)\n",
    "\n",
    "#group the data into each decade\n",
    "film_decade = titles.groupby('decade').size()\n",
    "\n",
    "#plot a histogram\n",
    "plt.hist(titles['year'],bins=bin_range)\n",
    "plt.xlabel('Year')\n",
    "plt.ylabel('Count')\n",
    "plt.title('Number of films made in each decade')\n",
    "plt.show()"
   ]
  },
  {
   "cell_type": "code",
   "execution_count": 40,
   "id": "6c41f414",
   "metadata": {},
   "outputs": [
    {
     "data": {
      "text/plain": [
       "decade\n",
       "1890-1899        3\n",
       "1900-1909       39\n",
       "1910-1919     6752\n",
       "1920-1929     8954\n",
       "1930-1939    10245\n",
       "1940-1949     8561\n",
       "1950-1959    12664\n",
       "1960-1969    17419\n",
       "1970-1979    18476\n",
       "1980-1989    19532\n",
       "1990-1999    21547\n",
       "2000-2009    35730\n",
       "2010-2019    65830\n",
       "2020-2029      260\n",
       "dtype: int64"
      ]
     },
     "execution_count": 40,
     "metadata": {},
     "output_type": "execute_result"
    }
   ],
   "source": [
    "film_decade"
   ]
  },
  {
   "cell_type": "markdown",
   "id": "7b8b93e3",
   "metadata": {},
   "source": [
    "### 12. Plot the number of films with a Rustler character over time"
   ]
  },
  {
   "cell_type": "code",
   "execution_count": 41,
   "id": "0ef6c523",
   "metadata": {},
   "outputs": [
    {
     "data": {
      "image/png": "[encoded data removed]",
      "text/plain": [
       "<Figure size 1000x600 with 1 Axes>"
      ]
     },
     "metadata": {},
     "output_type": "display_data"
    }
   ],
   "source": [
    "# Filter rows where 'character' contains 'rustler' (case insensitive)\n",
    "rustler_count_by_year = cast[cast['character'].str.contains('rustler', case=False)]\n",
    "\n",
    "# Group by 'year' and count the number of rows for each year\n",
    "rustler_count_by_year = rustler_count_by_year.groupby('year').size()\n",
    "\n",
    "# Plot the number of rows where 'character' contains 'rustler' each year\n",
    "rustler_count_by_year.plot(kind='bar', figsize=(10, 6))\n",
    "plt.xlabel('Year')\n",
    "plt.ylabel('Number of Characters Containing Rustler')\n",
    "plt.title('Number of Characters Containing Rustler by Year')\n",
    "plt.show()"
   ]
  },
  {
   "cell_type": "code",
   "execution_count": 42,
   "id": "b72da13b",
   "metadata": {},
   "outputs": [
    {
     "data": {
      "text/plain": [
       "year\n",
       "1919     1\n",
       "1926     1\n",
       "1928     2\n",
       "1929     6\n",
       "1930     2\n",
       "1931     1\n",
       "1932    37\n",
       "1933     2\n",
       "1934     7\n",
       "1935     7\n",
       "1936     8\n",
       "1937    18\n",
       "1938    24\n",
       "1939     7\n",
       "1940     5\n",
       "1941     1\n",
       "1942     8\n",
       "1943     6\n",
       "1945     1\n",
       "1946     5\n",
       "1947     2\n",
       "1952     2\n",
       "1953     5\n",
       "1956     2\n",
       "1957     2\n",
       "1958     2\n",
       "1960     1\n",
       "1967     1\n",
       "1972    10\n",
       "1974     1\n",
       "1980     5\n",
       "1981     1\n",
       "1983     4\n",
       "1990     1\n",
       "1994     1\n",
       "1995     1\n",
       "1999     7\n",
       "2000     3\n",
       "2011     1\n",
       "2014     1\n",
       "dtype: int64"
      ]
     },
     "execution_count": 42,
     "metadata": {},
     "output_type": "execute_result"
    }
   ],
   "source": [
    "rustler_count_by_year"
   ]
  },
  {
   "cell_type": "markdown",
   "id": "1df5a8a7",
   "metadata": {},
   "source": [
    "### 13. What are the top ten character names of all time?\n",
    "The top 10 character names of all time are (from descending order): Himself, Dancer, Extra, Reporter, Doctor, Party Guest, Student, Policeman, Bartender, Herself"
   ]
  },
  {
   "cell_type": "code",
   "execution_count": 43,
   "id": "fc30c391",
   "metadata": {},
   "outputs": [
    {
     "data": {
      "text/plain": [
       "character\n",
       "Himself        19637\n",
       "Dancer         12019\n",
       "Extra          10848\n",
       "Reporter        7818\n",
       "Doctor          6963\n",
       "Party Guest     6786\n",
       "Student         6631\n",
       "Policeman       6424\n",
       "Bartender       6290\n",
       "Herself         6269\n",
       "dtype: int64"
      ]
     },
     "execution_count": 43,
     "metadata": {},
     "output_type": "execute_result"
    }
   ],
   "source": [
    "cast.groupby('character').size().sort_values(ascending=False).head(10)"
   ]
  },
  {
   "cell_type": "markdown",
   "id": "febd5c97",
   "metadata": {},
   "source": [
    "### 14. Which actor appeared in the most films in the 1990's decade?\n",
    "Shakti Kapoor"
   ]
  },
  {
   "cell_type": "code",
   "execution_count": 44,
   "id": "ed10c4df",
   "metadata": {},
   "outputs": [
    {
     "data": {
      "text/plain": [
       "name\n",
       "Shakti Kapoor        128\n",
       "Anupam Kher          112\n",
       "Kader Khan           112\n",
       "Gulshan Grover       112\n",
       "Brahmanandam         105\n",
       "                    ... \n",
       "J. Wesley Adams        1\n",
       "J. Watlington          1\n",
       "J. Walter Call         1\n",
       "J. Walker Fischer      1\n",
       "Þórir Waagfjörð        1\n",
       "Length: 111044, dtype: int64"
      ]
     },
     "execution_count": 44,
     "metadata": {},
     "output_type": "execute_result"
    }
   ],
   "source": [
    "cast[(cast['type']=='actor')&(cast['year']>=1990)&(cast['year']<1999)].groupby('name').size().sort_values(ascending=False)"
   ]
  },
  {
   "cell_type": "markdown",
   "id": "b2d57a18",
   "metadata": {},
   "source": [
    "### 15. What are the top 10 roles that start with Science?\n",
    "The top 10 roles that start with Science: Science Teacher, Science Fair Student, Science Fair Judge, Science Student, Science Kid, Science Reporter, Science Fair Kid, Science, Science teacher, Science Officer "
   ]
  },
  {
   "cell_type": "code",
   "execution_count": 45,
   "id": "64b41362",
   "metadata": {},
   "outputs": [
    {
     "data": {
      "text/plain": [
       "character\n",
       "Science Teacher         57\n",
       "Science Fair Student     9\n",
       "Science Fair Judge       6\n",
       "Science Student          6\n",
       "Science Kid              5\n",
       "Science Reporter         5\n",
       "Science Fair Kid         5\n",
       "Science                  4\n",
       "Science teacher          3\n",
       "Science Officer          3\n",
       "dtype: int64"
      ]
     },
     "execution_count": 45,
     "metadata": {},
     "output_type": "execute_result"
    }
   ],
   "source": [
    "science = cast[(cast['character'].str.startswith(\"Science\"))]\n",
    "science.groupby('character').size().sort_values(ascending=False).head(10)"
   ]
  },
  {
   "cell_type": "markdown",
   "id": "7e37caf3",
   "metadata": {},
   "source": [
    "### 16. What film has the largest cast\n",
    "The movie \"Around the World in 80 days\" has the largest number of cast of 1364 names"
   ]
  },
  {
   "cell_type": "code",
   "execution_count": 46,
   "id": "1de674fc",
   "metadata": {},
   "outputs": [
    {
     "data": {
      "text/plain": [
       "title\n",
       "Around the World in 80 Days    1364\n",
       "Hello Au Revoir                 726\n",
       "7 cajas                         689\n",
       "Thelma                          593\n",
       "The Ten Commandments            536\n",
       "                               ... \n",
       "Prosto z nieba                    1\n",
       "Athili Sathibabu LKG              1\n",
       "Prostodushnyy                     1\n",
       "Urban Turban                      1\n",
       "Daughter's of the Concrete        1\n",
       "Length: 168254, dtype: int64"
      ]
     },
     "execution_count": 46,
     "metadata": {},
     "output_type": "execute_result"
    }
   ],
   "source": [
    "cast.groupby('title').size().sort_values(ascending=False)"
   ]
  },
  {
   "cell_type": "markdown",
   "id": "3a1a26ba",
   "metadata": {},
   "source": [
    "### 17. Generate descriptive statistics for cast size. Briefly comment on the results\n",
    "Based on the descriptive statistics for the cast size of each movie, I can learn that the minimum number of cast is only 1, while the maximum number of cast size can go up to 1364. The average cast size is about 20 people."
   ]
  },
  {
   "cell_type": "code",
   "execution_count": 47,
   "id": "b0592c92",
   "metadata": {},
   "outputs": [
    {
     "data": {
      "text/plain": [
       "count    168254.000000\n",
       "mean         20.462509\n",
       "std          24.206651\n",
       "min           1.000000\n",
       "25%           6.000000\n",
       "50%          13.000000\n",
       "75%          26.000000\n",
       "max        1364.000000\n",
       "dtype: float64"
      ]
     },
     "execution_count": 47,
     "metadata": {},
     "output_type": "execute_result"
    }
   ],
   "source": [
    "cast.groupby('title').size().describe()"
   ]
  },
  {
   "cell_type": "markdown",
   "id": "57885f86",
   "metadata": {},
   "source": [
    "### 18. How many films has Natalie Portman been in in each year throughout her career?"
   ]
  },
  {
   "cell_type": "code",
   "execution_count": 48,
   "id": "e2457352",
   "metadata": {},
   "outputs": [
    {
     "data": {
      "text/plain": [
       "year\n",
       "1995    1\n",
       "1996    3\n",
       "1999    3\n",
       "2000    1\n",
       "2001    1\n",
       "2002    1\n",
       "2003    1\n",
       "2004    2\n",
       "2005    4\n",
       "2006    2\n",
       "2007    3\n",
       "2008    1\n",
       "2009    2\n",
       "2010    4\n",
       "2011    3\n",
       "2013    1\n",
       "2015    4\n",
       "2016    3\n",
       "2017    1\n",
       "dtype: int64"
      ]
     },
     "execution_count": 48,
     "metadata": {},
     "output_type": "execute_result"
    }
   ],
   "source": [
    "np = cast[cast['name']==\"Natalie Portman\"].groupby('year').size()\n",
    "np"
   ]
  },
  {
   "cell_type": "code",
   "execution_count": 49,
   "id": "a80b46ef",
   "metadata": {},
   "outputs": [
    {
     "data": {
      "image/png": "[encoded data removed]",
      "text/plain": [
       "<Figure size 640x480 with 1 Axes>"
      ]
     },
     "metadata": {},
     "output_type": "display_data"
    }
   ],
   "source": [
    "plt.bar(np.index,np)\n",
    "plt.xlabel('Year')\n",
    "plt.ylabel('Number of Roles')\n",
    "plt.title('Number of Roles Played by Natalie Portman Each Year')\n",
    "plt.xticks(rotation=45)\n",
    "plt.show()"
   ]
  },
  {
   "cell_type": "markdown",
   "id": "1bff19c5",
   "metadata": {},
   "source": [
    "### 19. How many films did Natalie Portman appear in each year where where she was either the top star or co-star?"
   ]
  },
  {
   "cell_type": "code",
   "execution_count": 50,
   "id": "e2f4d043",
   "metadata": {},
   "outputs": [
    {
     "data": {
      "text/plain": [
       "year\n",
       "2000    1\n",
       "2005    2\n",
       "2008    1\n",
       "2009    1\n",
       "2010    2\n",
       "2011    1\n",
       "2015    2\n",
       "2016    2\n",
       "dtype: int64"
      ]
     },
     "execution_count": 50,
     "metadata": {},
     "output_type": "execute_result"
    }
   ],
   "source": [
    "np_top = cast[(cast['name']==\"Natalie Portman\")&(cast['n']==1.0)]\n",
    "np_top_count_by_year = np_top.groupby('year').size()\n",
    "\n",
    "np_top_count_by_year"
   ]
  },
  {
   "cell_type": "code",
   "execution_count": 51,
   "id": "e8f313f7",
   "metadata": {},
   "outputs": [
    {
     "data": {
      "text/plain": [
       "year\n",
       "1999    1\n",
       "2002    1\n",
       "2005    1\n",
       "2006    2\n",
       "2007    1\n",
       "2011    1\n",
       "2013    1\n",
       "dtype: int64"
      ]
     },
     "execution_count": 51,
     "metadata": {},
     "output_type": "execute_result"
    }
   ],
   "source": [
    "np_co = cast[(cast['name']==\"Natalie Portman\")&(cast['n']==2.0)]\n",
    "np_co_count_by_year = np_co.groupby('year').size()\n",
    "\n",
    "np_co_count_by_year"
   ]
  },
  {
   "cell_type": "markdown",
   "id": "8eda704b",
   "metadata": {},
   "source": [
    "### 20. Determine how many roles for actor or actress by decade. Plot the output "
   ]
  },
  {
   "cell_type": "code",
   "execution_count": 52,
   "id": "6abd6fe1",
   "metadata": {},
   "outputs": [
    {
     "name": "stderr",
     "output_type": "stream",
     "text": [
      "No artists with labels found to put in legend.  Note that artists whose label start with an underscore are ignored when legend() is called with no argument.\n"
     ]
    },
    {
     "data": {
      "image/png": "[encoded data removed]",
      "text/plain": [
       "<Figure size 640x480 with 1 Axes>"
      ]
     },
     "metadata": {},
     "output_type": "display_data"
    }
   ],
   "source": [
    "#created the bins of each decade of years before: variable \"bin_range\" & \"bin_labels\n",
    "\n",
    "#create a column in the cast.csv for the bins\n",
    "cast['decade'] = pd.cut(cast['year'], bins=bin_range, labels=bin_labels, right=False)\n",
    "\n",
    "#group the data into each decade\n",
    "type_decade = cast.groupby(['decade','type']).size().unstack()\n",
    "\n",
    "#plot\n",
    "plt.plot(type_decade)\n",
    "plt.xlabel('decade')\n",
    "plt.xticks(rotation=90)\n",
    "plt.ylabel('Count')\n",
    "plt.title('Number of actors or actress in each decade')\n",
    "plt.legend(title='Type')\n",
    "plt.legend(['Actor','Actress' ], loc='best')\n",
    "plt.show()"
   ]
  },
  {
   "cell_type": "code",
   "execution_count": 53,
   "id": "1bdd2370",
   "metadata": {},
   "outputs": [
    {
     "data": {
      "text/html": [
       "<div>\n",
       "<style scoped>\n",
       "    .dataframe tbody tr th:only-of-type {\n",
       "        vertical-align: middle;\n",
       "    }\n",
       "\n",
       "    .dataframe tbody tr th {\n",
       "        vertical-align: top;\n",
       "    }\n",
       "\n",
       "    .dataframe thead th {\n",
       "        text-align: right;\n",
       "    }\n",
       "</style>\n",
       "<table border=\"1\" class=\"dataframe\">\n",
       "  <thead>\n",
       "    <tr style=\"text-align: right;\">\n",
       "      <th>type</th>\n",
       "      <th>actor</th>\n",
       "      <th>actress</th>\n",
       "    </tr>\n",
       "    <tr>\n",
       "      <th>decade</th>\n",
       "      <th></th>\n",
       "      <th></th>\n",
       "    </tr>\n",
       "  </thead>\n",
       "  <tbody>\n",
       "    <tr>\n",
       "      <th>1890-1899</th>\n",
       "      <td>2</td>\n",
       "      <td>1</td>\n",
       "    </tr>\n",
       "    <tr>\n",
       "      <th>1900-1909</th>\n",
       "      <td>54</td>\n",
       "      <td>16</td>\n",
       "    </tr>\n",
       "    <tr>\n",
       "      <th>1910-1919</th>\n",
       "      <td>27396</td>\n",
       "      <td>15733</td>\n",
       "    </tr>\n",
       "    <tr>\n",
       "      <th>1920-1929</th>\n",
       "      <td>48112</td>\n",
       "      <td>23826</td>\n",
       "    </tr>\n",
       "    <tr>\n",
       "      <th>1930-1939</th>\n",
       "      <td>149272</td>\n",
       "      <td>49298</td>\n",
       "    </tr>\n",
       "    <tr>\n",
       "      <th>1940-1949</th>\n",
       "      <td>159799</td>\n",
       "      <td>50871</td>\n",
       "    </tr>\n",
       "    <tr>\n",
       "      <th>1950-1959</th>\n",
       "      <td>153559</td>\n",
       "      <td>56331</td>\n",
       "    </tr>\n",
       "    <tr>\n",
       "      <th>1960-1969</th>\n",
       "      <td>128132</td>\n",
       "      <td>54484</td>\n",
       "    </tr>\n",
       "    <tr>\n",
       "      <th>1970-1979</th>\n",
       "      <td>142015</td>\n",
       "      <td>60977</td>\n",
       "    </tr>\n",
       "    <tr>\n",
       "      <th>1980-1989</th>\n",
       "      <td>177064</td>\n",
       "      <td>80619</td>\n",
       "    </tr>\n",
       "    <tr>\n",
       "      <th>1990-1999</th>\n",
       "      <td>245713</td>\n",
       "      <td>115505</td>\n",
       "    </tr>\n",
       "    <tr>\n",
       "      <th>2000-2009</th>\n",
       "      <td>440810</td>\n",
       "      <td>235217</td>\n",
       "    </tr>\n",
       "    <tr>\n",
       "      <th>2010-2019</th>\n",
       "      <td>645548</td>\n",
       "      <td>382288</td>\n",
       "    </tr>\n",
       "    <tr>\n",
       "      <th>2020-2029</th>\n",
       "      <td>134</td>\n",
       "      <td>123</td>\n",
       "    </tr>\n",
       "  </tbody>\n",
       "</table>\n",
       "</div>"
      ],
      "text/plain": [
       "type        actor  actress\n",
       "decade                    \n",
       "1890-1899       2        1\n",
       "1900-1909      54       16\n",
       "1910-1919   27396    15733\n",
       "1920-1929   48112    23826\n",
       "1930-1939  149272    49298\n",
       "1940-1949  159799    50871\n",
       "1950-1959  153559    56331\n",
       "1960-1969  128132    54484\n",
       "1970-1979  142015    60977\n",
       "1980-1989  177064    80619\n",
       "1990-1999  245713   115505\n",
       "2000-2009  440810   235217\n",
       "2010-2019  645548   382288\n",
       "2020-2029     134      123"
      ]
     },
     "execution_count": 53,
     "metadata": {},
     "output_type": "execute_result"
    }
   ],
   "source": [
    "type_decade"
   ]
  },
  {
   "cell_type": "markdown",
   "id": "fffe663b",
   "metadata": {},
   "source": [
    "### 21. Determine and comment on the day of the week that movies are released. What is notable about release days and months throughout the year? (Use pd.pivot_table)\n",
    "I notice significant difference in release days which most films are released on Friday and Thursday. As for months, the difference between months are less significant, and March and October are the most popular months. "
   ]
  },
  {
   "cell_type": "code",
   "execution_count": 54,
   "id": "e1bf7a95",
   "metadata": {},
   "outputs": [
    {
     "data": {
      "text/html": [
       "<div>\n",
       "<style scoped>\n",
       "    .dataframe tbody tr th:only-of-type {\n",
       "        vertical-align: middle;\n",
       "    }\n",
       "\n",
       "    .dataframe tbody tr th {\n",
       "        vertical-align: top;\n",
       "    }\n",
       "\n",
       "    .dataframe thead th {\n",
       "        text-align: right;\n",
       "    }\n",
       "</style>\n",
       "<table border=\"1\" class=\"dataframe\">\n",
       "  <thead>\n",
       "    <tr style=\"text-align: right;\">\n",
       "      <th></th>\n",
       "      <th>weekday</th>\n",
       "      <th>count</th>\n",
       "    </tr>\n",
       "  </thead>\n",
       "  <tbody>\n",
       "    <tr>\n",
       "      <th>0</th>\n",
       "      <td>Friday</td>\n",
       "      <td>163174</td>\n",
       "    </tr>\n",
       "    <tr>\n",
       "      <th>4</th>\n",
       "      <td>Thursday</td>\n",
       "      <td>125746</td>\n",
       "    </tr>\n",
       "    <tr>\n",
       "      <th>6</th>\n",
       "      <td>Wednesday</td>\n",
       "      <td>53439</td>\n",
       "    </tr>\n",
       "    <tr>\n",
       "      <th>1</th>\n",
       "      <td>Monday</td>\n",
       "      <td>37209</td>\n",
       "    </tr>\n",
       "    <tr>\n",
       "      <th>2</th>\n",
       "      <td>Saturday</td>\n",
       "      <td>31332</td>\n",
       "    </tr>\n",
       "    <tr>\n",
       "      <th>5</th>\n",
       "      <td>Tuesday</td>\n",
       "      <td>16762</td>\n",
       "    </tr>\n",
       "    <tr>\n",
       "      <th>3</th>\n",
       "      <td>Sunday</td>\n",
       "      <td>15823</td>\n",
       "    </tr>\n",
       "  </tbody>\n",
       "</table>\n",
       "</div>"
      ],
      "text/plain": [
       "     weekday   count\n",
       "0     Friday  163174\n",
       "4   Thursday  125746\n",
       "6  Wednesday   53439\n",
       "1     Monday   37209\n",
       "2   Saturday   31332\n",
       "5    Tuesday   16762\n",
       "3     Sunday   15823"
      ]
     },
     "execution_count": 54,
     "metadata": {},
     "output_type": "execute_result"
    }
   ],
   "source": [
    "release_dates['date'] = pd.to_datetime(release_dates['date'])\n",
    "\n",
    "release_dates['weekday'] = release_dates['date'].dt.day_name()\n",
    "\n",
    "weekday_pattern = pd.pivot_table(release_dates, index='weekday', aggfunc='size').reset_index(name='count').sort_values(by = 'count', ascending=False)\n",
    "weekday_pattern"
   ]
  },
  {
   "cell_type": "code",
   "execution_count": 55,
   "id": "4f445a25",
   "metadata": {},
   "outputs": [
    {
     "data": {
      "text/html": [
       "<div>\n",
       "<style scoped>\n",
       "    .dataframe tbody tr th:only-of-type {\n",
       "        vertical-align: middle;\n",
       "    }\n",
       "\n",
       "    .dataframe tbody tr th {\n",
       "        vertical-align: top;\n",
       "    }\n",
       "\n",
       "    .dataframe thead th {\n",
       "        text-align: right;\n",
       "    }\n",
       "</style>\n",
       "<table border=\"1\" class=\"dataframe\">\n",
       "  <thead>\n",
       "    <tr style=\"text-align: right;\">\n",
       "      <th></th>\n",
       "      <th>month</th>\n",
       "      <th>count</th>\n",
       "    </tr>\n",
       "  </thead>\n",
       "  <tbody>\n",
       "    <tr>\n",
       "      <th>7</th>\n",
       "      <td>March</td>\n",
       "      <td>40257</td>\n",
       "    </tr>\n",
       "    <tr>\n",
       "      <th>10</th>\n",
       "      <td>October</td>\n",
       "      <td>40204</td>\n",
       "    </tr>\n",
       "    <tr>\n",
       "      <th>4</th>\n",
       "      <td>January</td>\n",
       "      <td>39412</td>\n",
       "    </tr>\n",
       "    <tr>\n",
       "      <th>2</th>\n",
       "      <td>December</td>\n",
       "      <td>39096</td>\n",
       "    </tr>\n",
       "    <tr>\n",
       "      <th>9</th>\n",
       "      <td>November</td>\n",
       "      <td>38200</td>\n",
       "    </tr>\n",
       "    <tr>\n",
       "      <th>11</th>\n",
       "      <td>September</td>\n",
       "      <td>37750</td>\n",
       "    </tr>\n",
       "    <tr>\n",
       "      <th>0</th>\n",
       "      <td>April</td>\n",
       "      <td>37674</td>\n",
       "    </tr>\n",
       "    <tr>\n",
       "      <th>3</th>\n",
       "      <td>February</td>\n",
       "      <td>36307</td>\n",
       "    </tr>\n",
       "    <tr>\n",
       "      <th>8</th>\n",
       "      <td>May</td>\n",
       "      <td>35449</td>\n",
       "    </tr>\n",
       "    <tr>\n",
       "      <th>1</th>\n",
       "      <td>August</td>\n",
       "      <td>35011</td>\n",
       "    </tr>\n",
       "    <tr>\n",
       "      <th>6</th>\n",
       "      <td>June</td>\n",
       "      <td>32704</td>\n",
       "    </tr>\n",
       "    <tr>\n",
       "      <th>5</th>\n",
       "      <td>July</td>\n",
       "      <td>31421</td>\n",
       "    </tr>\n",
       "  </tbody>\n",
       "</table>\n",
       "</div>"
      ],
      "text/plain": [
       "        month  count\n",
       "7       March  40257\n",
       "10    October  40204\n",
       "4     January  39412\n",
       "2    December  39096\n",
       "9    November  38200\n",
       "11  September  37750\n",
       "0       April  37674\n",
       "3    February  36307\n",
       "8         May  35449\n",
       "1      August  35011\n",
       "6        June  32704\n",
       "5        July  31421"
      ]
     },
     "execution_count": 55,
     "metadata": {},
     "output_type": "execute_result"
    }
   ],
   "source": [
    "release_dates['month'] = release_dates['date'].dt.month_name()\n",
    "month_pattern = pd.pivot_table(release_dates, index='month', aggfunc='size').reset_index(name='count').sort_values(by = 'count', ascending=False)\n",
    "month_pattern"
   ]
  },
  {
   "cell_type": "markdown",
   "id": "88b4b805",
   "metadata": {},
   "source": [
    "### 22. Can you plot the pivot table? Is the output \"correct\"? Can you fix it?\n",
    "The pivot table cannot be plotted becausethe pivot table is being categorized as numpy array. To fix it, I specify the column names when creating plots."
   ]
  },
  {
   "cell_type": "code",
   "execution_count": 56,
   "id": "07152c8b",
   "metadata": {
    "scrolled": true
   },
   "outputs": [
    {
     "ename": "TypeError",
     "evalue": "unhashable type: 'numpy.ndarray'",
     "output_type": "error",
     "traceback": [
      "\u001b[1;31m---------------------------------------------------------------------------\u001b[0m",
      "\u001b[1;31mTypeError\u001b[0m                                 Traceback (most recent call last)",
      "Cell \u001b[1;32mIn[56], line 1\u001b[0m\n\u001b[1;32m----> 1\u001b[0m plt\u001b[38;5;241m.\u001b[39mplot(weekday_pattern)\n\u001b[0;32m      2\u001b[0m plt\u001b[38;5;241m.\u001b[39mshow()\n",
      "File \u001b[1;32m~\\anaconda3\\Lib\\site-packages\\matplotlib\\pyplot.py:2812\u001b[0m, in \u001b[0;36mplot\u001b[1;34m(scalex, scaley, data, *args, **kwargs)\u001b[0m\n\u001b[0;32m   2810\u001b[0m \u001b[38;5;129m@_copy_docstring_and_deprecators\u001b[39m(Axes\u001b[38;5;241m.\u001b[39mplot)\n\u001b[0;32m   2811\u001b[0m \u001b[38;5;28;01mdef\u001b[39;00m \u001b[38;5;21mplot\u001b[39m(\u001b[38;5;241m*\u001b[39margs, scalex\u001b[38;5;241m=\u001b[39m\u001b[38;5;28;01mTrue\u001b[39;00m, scaley\u001b[38;5;241m=\u001b[39m\u001b[38;5;28;01mTrue\u001b[39;00m, data\u001b[38;5;241m=\u001b[39m\u001b[38;5;28;01mNone\u001b[39;00m, \u001b[38;5;241m*\u001b[39m\u001b[38;5;241m*\u001b[39mkwargs):\n\u001b[1;32m-> 2812\u001b[0m     \u001b[38;5;28;01mreturn\u001b[39;00m gca()\u001b[38;5;241m.\u001b[39mplot(\n\u001b[0;32m   2813\u001b[0m         \u001b[38;5;241m*\u001b[39margs, scalex\u001b[38;5;241m=\u001b[39mscalex, scaley\u001b[38;5;241m=\u001b[39mscaley,\n\u001b[0;32m   2814\u001b[0m         \u001b[38;5;241m*\u001b[39m\u001b[38;5;241m*\u001b[39m({\u001b[38;5;124m\"\u001b[39m\u001b[38;5;124mdata\u001b[39m\u001b[38;5;124m\"\u001b[39m: data} \u001b[38;5;28;01mif\u001b[39;00m data \u001b[38;5;129;01mis\u001b[39;00m \u001b[38;5;129;01mnot\u001b[39;00m \u001b[38;5;28;01mNone\u001b[39;00m \u001b[38;5;28;01melse\u001b[39;00m {}), \u001b[38;5;241m*\u001b[39m\u001b[38;5;241m*\u001b[39mkwargs)\n",
      "File \u001b[1;32m~\\anaconda3\\Lib\\site-packages\\matplotlib\\axes\\_axes.py:1688\u001b[0m, in \u001b[0;36mAxes.plot\u001b[1;34m(self, scalex, scaley, data, *args, **kwargs)\u001b[0m\n\u001b[0;32m   1445\u001b[0m \u001b[38;5;250m\u001b[39m\u001b[38;5;124;03m\"\"\"\u001b[39;00m\n\u001b[0;32m   1446\u001b[0m \u001b[38;5;124;03mPlot y versus x as lines and/or markers.\u001b[39;00m\n\u001b[0;32m   1447\u001b[0m \n\u001b[1;32m   (...)\u001b[0m\n\u001b[0;32m   1685\u001b[0m \u001b[38;5;124;03m(``'green'``) or hex strings (``'#008000'``).\u001b[39;00m\n\u001b[0;32m   1686\u001b[0m \u001b[38;5;124;03m\"\"\"\u001b[39;00m\n\u001b[0;32m   1687\u001b[0m kwargs \u001b[38;5;241m=\u001b[39m cbook\u001b[38;5;241m.\u001b[39mnormalize_kwargs(kwargs, mlines\u001b[38;5;241m.\u001b[39mLine2D)\n\u001b[1;32m-> 1688\u001b[0m lines \u001b[38;5;241m=\u001b[39m [\u001b[38;5;241m*\u001b[39m\u001b[38;5;28mself\u001b[39m\u001b[38;5;241m.\u001b[39m_get_lines(\u001b[38;5;241m*\u001b[39margs, data\u001b[38;5;241m=\u001b[39mdata, \u001b[38;5;241m*\u001b[39m\u001b[38;5;241m*\u001b[39mkwargs)]\n\u001b[0;32m   1689\u001b[0m \u001b[38;5;28;01mfor\u001b[39;00m line \u001b[38;5;129;01min\u001b[39;00m lines:\n\u001b[0;32m   1690\u001b[0m     \u001b[38;5;28mself\u001b[39m\u001b[38;5;241m.\u001b[39madd_line(line)\n",
      "File \u001b[1;32m~\\anaconda3\\Lib\\site-packages\\matplotlib\\axes\\_base.py:311\u001b[0m, in \u001b[0;36m_process_plot_var_args.__call__\u001b[1;34m(self, data, *args, **kwargs)\u001b[0m\n\u001b[0;32m    309\u001b[0m     this \u001b[38;5;241m+\u001b[39m\u001b[38;5;241m=\u001b[39m args[\u001b[38;5;241m0\u001b[39m],\n\u001b[0;32m    310\u001b[0m     args \u001b[38;5;241m=\u001b[39m args[\u001b[38;5;241m1\u001b[39m:]\n\u001b[1;32m--> 311\u001b[0m \u001b[38;5;28;01myield from\u001b[39;00m \u001b[38;5;28mself\u001b[39m\u001b[38;5;241m.\u001b[39m_plot_args(\n\u001b[0;32m    312\u001b[0m     this, kwargs, ambiguous_fmt_datakey\u001b[38;5;241m=\u001b[39mambiguous_fmt_datakey)\n",
      "File \u001b[1;32m~\\anaconda3\\Lib\\site-packages\\matplotlib\\axes\\_base.py:501\u001b[0m, in \u001b[0;36m_process_plot_var_args._plot_args\u001b[1;34m(self, tup, kwargs, return_kwargs, ambiguous_fmt_datakey)\u001b[0m\n\u001b[0;32m    499\u001b[0m     \u001b[38;5;28mself\u001b[39m\u001b[38;5;241m.\u001b[39maxes\u001b[38;5;241m.\u001b[39mxaxis\u001b[38;5;241m.\u001b[39mupdate_units(x)\n\u001b[0;32m    500\u001b[0m \u001b[38;5;28;01mif\u001b[39;00m \u001b[38;5;28mself\u001b[39m\u001b[38;5;241m.\u001b[39maxes\u001b[38;5;241m.\u001b[39myaxis \u001b[38;5;129;01mis\u001b[39;00m \u001b[38;5;129;01mnot\u001b[39;00m \u001b[38;5;28;01mNone\u001b[39;00m:\n\u001b[1;32m--> 501\u001b[0m     \u001b[38;5;28mself\u001b[39m\u001b[38;5;241m.\u001b[39maxes\u001b[38;5;241m.\u001b[39myaxis\u001b[38;5;241m.\u001b[39mupdate_units(y)\n\u001b[0;32m    503\u001b[0m \u001b[38;5;28;01mif\u001b[39;00m x\u001b[38;5;241m.\u001b[39mshape[\u001b[38;5;241m0\u001b[39m] \u001b[38;5;241m!=\u001b[39m y\u001b[38;5;241m.\u001b[39mshape[\u001b[38;5;241m0\u001b[39m]:\n\u001b[0;32m    504\u001b[0m     \u001b[38;5;28;01mraise\u001b[39;00m \u001b[38;5;167;01mValueError\u001b[39;00m(\u001b[38;5;124mf\u001b[39m\u001b[38;5;124m\"\u001b[39m\u001b[38;5;124mx and y must have same first dimension, but \u001b[39m\u001b[38;5;124m\"\u001b[39m\n\u001b[0;32m    505\u001b[0m                      \u001b[38;5;124mf\u001b[39m\u001b[38;5;124m\"\u001b[39m\u001b[38;5;124mhave shapes \u001b[39m\u001b[38;5;132;01m{\u001b[39;00mx\u001b[38;5;241m.\u001b[39mshape\u001b[38;5;132;01m}\u001b[39;00m\u001b[38;5;124m and \u001b[39m\u001b[38;5;132;01m{\u001b[39;00my\u001b[38;5;241m.\u001b[39mshape\u001b[38;5;132;01m}\u001b[39;00m\u001b[38;5;124m\"\u001b[39m)\n",
      "File \u001b[1;32m~\\anaconda3\\Lib\\site-packages\\matplotlib\\axis.py:1675\u001b[0m, in \u001b[0;36mAxis.update_units\u001b[1;34m(self, data)\u001b[0m\n\u001b[0;32m   1673\u001b[0m neednew \u001b[38;5;241m=\u001b[39m \u001b[38;5;28mself\u001b[39m\u001b[38;5;241m.\u001b[39mconverter \u001b[38;5;241m!=\u001b[39m converter\n\u001b[0;32m   1674\u001b[0m \u001b[38;5;28mself\u001b[39m\u001b[38;5;241m.\u001b[39mconverter \u001b[38;5;241m=\u001b[39m converter\n\u001b[1;32m-> 1675\u001b[0m default \u001b[38;5;241m=\u001b[39m \u001b[38;5;28mself\u001b[39m\u001b[38;5;241m.\u001b[39mconverter\u001b[38;5;241m.\u001b[39mdefault_units(data, \u001b[38;5;28mself\u001b[39m)\n\u001b[0;32m   1676\u001b[0m \u001b[38;5;28;01mif\u001b[39;00m default \u001b[38;5;129;01mis\u001b[39;00m \u001b[38;5;129;01mnot\u001b[39;00m \u001b[38;5;28;01mNone\u001b[39;00m \u001b[38;5;129;01mand\u001b[39;00m \u001b[38;5;28mself\u001b[39m\u001b[38;5;241m.\u001b[39munits \u001b[38;5;129;01mis\u001b[39;00m \u001b[38;5;28;01mNone\u001b[39;00m:\n\u001b[0;32m   1677\u001b[0m     \u001b[38;5;28mself\u001b[39m\u001b[38;5;241m.\u001b[39mset_units(default)\n",
      "File \u001b[1;32m~\\anaconda3\\Lib\\site-packages\\matplotlib\\category.py:105\u001b[0m, in \u001b[0;36mStrCategoryConverter.default_units\u001b[1;34m(data, axis)\u001b[0m\n\u001b[0;32m    103\u001b[0m \u001b[38;5;66;03m# the conversion call stack is default_units -> axis_info -> convert\u001b[39;00m\n\u001b[0;32m    104\u001b[0m \u001b[38;5;28;01mif\u001b[39;00m axis\u001b[38;5;241m.\u001b[39munits \u001b[38;5;129;01mis\u001b[39;00m \u001b[38;5;28;01mNone\u001b[39;00m:\n\u001b[1;32m--> 105\u001b[0m     axis\u001b[38;5;241m.\u001b[39mset_units(UnitData(data))\n\u001b[0;32m    106\u001b[0m \u001b[38;5;28;01melse\u001b[39;00m:\n\u001b[0;32m    107\u001b[0m     axis\u001b[38;5;241m.\u001b[39munits\u001b[38;5;241m.\u001b[39mupdate(data)\n",
      "File \u001b[1;32m~\\anaconda3\\Lib\\site-packages\\matplotlib\\category.py:181\u001b[0m, in \u001b[0;36mUnitData.__init__\u001b[1;34m(self, data)\u001b[0m\n\u001b[0;32m    179\u001b[0m \u001b[38;5;28mself\u001b[39m\u001b[38;5;241m.\u001b[39m_counter \u001b[38;5;241m=\u001b[39m itertools\u001b[38;5;241m.\u001b[39mcount()\n\u001b[0;32m    180\u001b[0m \u001b[38;5;28;01mif\u001b[39;00m data \u001b[38;5;129;01mis\u001b[39;00m \u001b[38;5;129;01mnot\u001b[39;00m \u001b[38;5;28;01mNone\u001b[39;00m:\n\u001b[1;32m--> 181\u001b[0m     \u001b[38;5;28mself\u001b[39m\u001b[38;5;241m.\u001b[39mupdate(data)\n",
      "File \u001b[1;32m~\\anaconda3\\Lib\\site-packages\\matplotlib\\category.py:214\u001b[0m, in \u001b[0;36mUnitData.update\u001b[1;34m(self, data)\u001b[0m\n\u001b[0;32m    212\u001b[0m \u001b[38;5;66;03m# check if convertible to number:\u001b[39;00m\n\u001b[0;32m    213\u001b[0m convertible \u001b[38;5;241m=\u001b[39m \u001b[38;5;28;01mTrue\u001b[39;00m\n\u001b[1;32m--> 214\u001b[0m \u001b[38;5;28;01mfor\u001b[39;00m val \u001b[38;5;129;01min\u001b[39;00m OrderedDict\u001b[38;5;241m.\u001b[39mfromkeys(data):\n\u001b[0;32m    215\u001b[0m     \u001b[38;5;66;03m# OrderedDict just iterates over unique values in data.\u001b[39;00m\n\u001b[0;32m    216\u001b[0m     _api\u001b[38;5;241m.\u001b[39mcheck_isinstance((\u001b[38;5;28mstr\u001b[39m, \u001b[38;5;28mbytes\u001b[39m), value\u001b[38;5;241m=\u001b[39mval)\n\u001b[0;32m    217\u001b[0m     \u001b[38;5;28;01mif\u001b[39;00m convertible:\n\u001b[0;32m    218\u001b[0m         \u001b[38;5;66;03m# this will only be called so long as convertible is True.\u001b[39;00m\n",
      "\u001b[1;31mTypeError\u001b[0m: unhashable type: 'numpy.ndarray'"
     ]
    },
    {
     "data": {
      "image/png": "[encoded data removed]",
      "text/plain": [
       "<Figure size 640x480 with 1 Axes>"
      ]
     },
     "metadata": {},
     "output_type": "display_data"
    }
   ],
   "source": [
    "plt.plot(weekday_pattern)\n",
    "plt.show()"
   ]
  },
  {
   "cell_type": "code",
   "execution_count": 58,
   "id": "6b474011",
   "metadata": {},
   "outputs": [
    {
     "data": {
      "image/png": "[encoded data removed]",
      "text/plain": [
       "<Figure size 640x480 with 1 Axes>"
      ]
     },
     "metadata": {},
     "output_type": "display_data"
    }
   ],
   "source": [
    "plt.plot(weekday_pattern['weekday'], weekday_pattern['count'])\n",
    "plt.xlabel('Weekday')\n",
    "plt.ylabel('Count')\n",
    "plt.title('Pattern in Weekdays')\n",
    "plt.show()"
   ]
  },
  {
   "cell_type": "code",
   "execution_count": 59,
   "id": "ee95269a",
   "metadata": {},
   "outputs": [
    {
     "data": {
      "image/png": "[encoded data removed]",
      "text/plain": [
       "<Figure size 640x480 with 1 Axes>"
      ]
     },
     "metadata": {},
     "output_type": "display_data"
    }
   ],
   "source": [
    "plt.plot(month_pattern['month'], month_pattern['count'])\n",
    "plt.xlabel('month')\n",
    "plt.ylabel('Count')\n",
    "plt.title('Pattern in Months')\n",
    "plt.xticks(rotation=90) \n",
    "plt.show()"
   ]
  },
  {
   "cell_type": "markdown",
   "id": "19fc8bc4",
   "metadata": {},
   "source": [
    "### 23. What films did actors in Star Wars go on to appear in? "
   ]
  },
  {
   "cell_type": "code",
   "execution_count": 60,
   "id": "35e5f456",
   "metadata": {},
   "outputs": [
    {
     "data": {
      "text/html": [
       "<div>\n",
       "<style scoped>\n",
       "    .dataframe tbody tr th:only-of-type {\n",
       "        vertical-align: middle;\n",
       "    }\n",
       "\n",
       "    .dataframe tbody tr th {\n",
       "        vertical-align: top;\n",
       "    }\n",
       "\n",
       "    .dataframe thead th {\n",
       "        text-align: right;\n",
       "    }\n",
       "</style>\n",
       "<table border=\"1\" class=\"dataframe\">\n",
       "  <thead>\n",
       "    <tr style=\"text-align: right;\">\n",
       "      <th></th>\n",
       "      <th>title</th>\n",
       "      <th>year</th>\n",
       "      <th>name</th>\n",
       "      <th>type</th>\n",
       "      <th>character</th>\n",
       "      <th>n</th>\n",
       "      <th>decade</th>\n",
       "    </tr>\n",
       "  </thead>\n",
       "  <tbody>\n",
       "    <tr>\n",
       "      <th>3900</th>\n",
       "      <td>Addams Family Values</td>\n",
       "      <td>1993</td>\n",
       "      <td>Ian Abercrombie</td>\n",
       "      <td>actor</td>\n",
       "      <td>Driver</td>\n",
       "      <td>41.0</td>\n",
       "      <td>1990-1999</td>\n",
       "    </tr>\n",
       "    <tr>\n",
       "      <th>3901</th>\n",
       "      <td>Blasphemy the Movie</td>\n",
       "      <td>2001</td>\n",
       "      <td>Ian Abercrombie</td>\n",
       "      <td>actor</td>\n",
       "      <td>Zeus</td>\n",
       "      <td>NaN</td>\n",
       "      <td>2000-2009</td>\n",
       "    </tr>\n",
       "    <tr>\n",
       "      <th>3902</th>\n",
       "      <td>Chromiumblue.com</td>\n",
       "      <td>2003</td>\n",
       "      <td>Ian Abercrombie</td>\n",
       "      <td>actor</td>\n",
       "      <td>Sir George</td>\n",
       "      <td>NaN</td>\n",
       "      <td>2000-2009</td>\n",
       "    </tr>\n",
       "    <tr>\n",
       "      <th>3903</th>\n",
       "      <td>Clean Slate</td>\n",
       "      <td>1994</td>\n",
       "      <td>Ian Abercrombie</td>\n",
       "      <td>actor</td>\n",
       "      <td>Leader</td>\n",
       "      <td>24.0</td>\n",
       "      <td>1990-1999</td>\n",
       "    </tr>\n",
       "    <tr>\n",
       "      <th>3904</th>\n",
       "      <td>Firewalker</td>\n",
       "      <td>1986</td>\n",
       "      <td>Ian Abercrombie</td>\n",
       "      <td>actor</td>\n",
       "      <td>Boggs</td>\n",
       "      <td>7.0</td>\n",
       "      <td>1980-1989</td>\n",
       "    </tr>\n",
       "    <tr>\n",
       "      <th>...</th>\n",
       "      <td>...</td>\n",
       "      <td>...</td>\n",
       "      <td>...</td>\n",
       "      <td>...</td>\n",
       "      <td>...</td>\n",
       "      <td>...</td>\n",
       "      <td>...</td>\n",
       "    </tr>\n",
       "    <tr>\n",
       "      <th>2286212</th>\n",
       "      <td>Middleton's Changeling</td>\n",
       "      <td>1998</td>\n",
       "      <td>Miltos Yerolemou</td>\n",
       "      <td>actor</td>\n",
       "      <td>Asylum Inmate</td>\n",
       "      <td>NaN</td>\n",
       "      <td>1990-1999</td>\n",
       "    </tr>\n",
       "    <tr>\n",
       "      <th>2286214</th>\n",
       "      <td>The Danish Girl</td>\n",
       "      <td>2015</td>\n",
       "      <td>Miltos Yerolemou</td>\n",
       "      <td>actor</td>\n",
       "      <td>Dr. Mai</td>\n",
       "      <td>27.0</td>\n",
       "      <td>2010-2019</td>\n",
       "    </tr>\n",
       "    <tr>\n",
       "      <th>2286215</th>\n",
       "      <td>The Inbetweeners Movie</td>\n",
       "      <td>2011</td>\n",
       "      <td>Miltos Yerolemou</td>\n",
       "      <td>actor</td>\n",
       "      <td>Stavros</td>\n",
       "      <td>NaN</td>\n",
       "      <td>2010-2019</td>\n",
       "    </tr>\n",
       "    <tr>\n",
       "      <th>2286216</th>\n",
       "      <td>The West Wittering Affair</td>\n",
       "      <td>2006</td>\n",
       "      <td>Miltos Yerolemou</td>\n",
       "      <td>actor</td>\n",
       "      <td>Man in therapy</td>\n",
       "      <td>NaN</td>\n",
       "      <td>2000-2009</td>\n",
       "    </tr>\n",
       "    <tr>\n",
       "      <th>2286217</th>\n",
       "      <td>Tulip Fever</td>\n",
       "      <td>2017</td>\n",
       "      <td>Miltos Yerolemou</td>\n",
       "      <td>actor</td>\n",
       "      <td>Baker</td>\n",
       "      <td>39.0</td>\n",
       "      <td>2010-2019</td>\n",
       "    </tr>\n",
       "  </tbody>\n",
       "</table>\n",
       "<p>5564 rows × 7 columns</p>\n",
       "</div>"
      ],
      "text/plain": [
       "                             title  year              name   type  \\\n",
       "3900          Addams Family Values  1993   Ian Abercrombie  actor   \n",
       "3901           Blasphemy the Movie  2001   Ian Abercrombie  actor   \n",
       "3902              Chromiumblue.com  2003   Ian Abercrombie  actor   \n",
       "3903                   Clean Slate  1994   Ian Abercrombie  actor   \n",
       "3904                    Firewalker  1986   Ian Abercrombie  actor   \n",
       "...                            ...   ...               ...    ...   \n",
       "2286212     Middleton's Changeling  1998  Miltos Yerolemou  actor   \n",
       "2286214            The Danish Girl  2015  Miltos Yerolemou  actor   \n",
       "2286215     The Inbetweeners Movie  2011  Miltos Yerolemou  actor   \n",
       "2286216  The West Wittering Affair  2006  Miltos Yerolemou  actor   \n",
       "2286217                Tulip Fever  2017  Miltos Yerolemou  actor   \n",
       "\n",
       "              character     n     decade  \n",
       "3900             Driver  41.0  1990-1999  \n",
       "3901               Zeus   NaN  2000-2009  \n",
       "3902         Sir George   NaN  2000-2009  \n",
       "3903             Leader  24.0  1990-1999  \n",
       "3904              Boggs   7.0  1980-1989  \n",
       "...                 ...   ...        ...  \n",
       "2286212   Asylum Inmate   NaN  1990-1999  \n",
       "2286214         Dr. Mai  27.0  2010-2019  \n",
       "2286215         Stavros   NaN  2010-2019  \n",
       "2286216  Man in therapy   NaN  2000-2009  \n",
       "2286217           Baker  39.0  2010-2019  \n",
       "\n",
       "[5564 rows x 7 columns]"
      ]
     },
     "execution_count": 60,
     "metadata": {},
     "output_type": "execute_result"
    }
   ],
   "source": [
    "#find out the actors in all Star Wars films\n",
    "starwars_actor = cast['name'][(cast['title'].str.contains('star wars',case=False))&(cast['type']=='actor')].unique()\n",
    "\n",
    "#find out what other films these actors are in\n",
    "mask = cast['name'].isin(starwars_actor)\n",
    "starwars_actor_film = cast[mask]\n",
    "\n",
    "#filter out the rows which title contains Star Wars\n",
    "mask = ~starwars_actor_film['title'].str.contains('star wars', case=False)\n",
    "\n",
    "# Use the boolean mask to filter the rows\n",
    "starwars_actor_film_f = starwars_actor_film[mask]\n",
    "starwars_actor_film_f"
   ]
  },
  {
   "cell_type": "code",
   "execution_count": null,
   "id": "ff278a5d",
   "metadata": {},
   "outputs": [],
   "source": []
  }
 ],
 "metadata": {
  "kernelspec": {
   "display_name": "Python 3 (ipykernel)",
   "language": "python",
   "name": "python3"
  },
  "language_info": {
   "codemirror_mode": {
    "name": "ipython",
    "version": 3
   },
   "file_extension": ".py",
   "mimetype": "text/x-python",
   "name": "python",
   "nbconvert_exporter": "python",
   "pygments_lexer": "ipython3",
   "version": "3.11.7"
  }
 },
 "nbformat": 4,
 "nbformat_minor": 5
}
